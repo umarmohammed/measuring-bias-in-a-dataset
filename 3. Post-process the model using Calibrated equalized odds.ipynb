{
  "nbformat": 4,
  "nbformat_minor": 0,
  "metadata": {
    "colab": {
      "name": "3. Post-process the model using Calibrated equalized odds.ipynb",
      "provenance": [],
      "authorship_tag": "ABX9TyNOXAI9u+4YU7VglCFVNyVZ",
      "include_colab_link": true
    },
    "kernelspec": {
      "name": "python3",
      "display_name": "Python 3"
    }
  },
  "cells": [
    {
      "cell_type": "markdown",
      "metadata": {
        "id": "view-in-github",
        "colab_type": "text"
      },
      "source": [
        "<a href=\"https://colab.research.google.com/github/umarmohammed/measuring-bias-in-a-dataset/blob/project-4/3.%20Post-process%20the%20model%20using%20Calibrated%20equalized%20odds.ipynb\" target=\"_parent\"><img src=\"https://colab.research.google.com/assets/colab-badge.svg\" alt=\"Open In Colab\"/></a>"
      ]
    },
    {
      "cell_type": "code",
      "metadata": {
        "colab": {
          "base_uri": "https://localhost:8080/"
        },
        "id": "auWEwMxeN8sZ",
        "outputId": "7dff6c6e-510b-4ad5-d3d3-1f6cc066ec78"
      },
      "source": [
        "print(\"foo\")"
      ],
      "execution_count": 1,
      "outputs": [
        {
          "output_type": "stream",
          "text": [
            "foo\n"
          ],
          "name": "stdout"
        }
      ]
    }
  ]
}