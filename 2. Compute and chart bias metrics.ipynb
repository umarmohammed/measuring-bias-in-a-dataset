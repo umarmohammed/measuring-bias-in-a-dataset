{
  "nbformat": 4,
  "nbformat_minor": 0,
  "metadata": {
    "colab": {
      "name": "2. Compute and chart bias metrics.ipynb",
      "provenance": [],
      "collapsed_sections": [],
      "authorship_tag": "ABX9TyPlqPSFslmbxCOa5tRXNTg6",
      "include_colab_link": true
    },
    "kernelspec": {
      "name": "python3",
      "display_name": "Python 3"
    }
  },
  "cells": [
    {
      "cell_type": "markdown",
      "metadata": {
        "id": "view-in-github",
        "colab_type": "text"
      },
      "source": [
        "<a href=\"https://colab.research.google.com/github/umarmohammed/measuring-bias-in-a-dataset/blob/project-4/2.%20Compute%20and%20chart%20bias%20metrics.ipynb\" target=\"_parent\"><img src=\"https://colab.research.google.com/assets/colab-badge.svg\" alt=\"Open In Colab\"/></a>"
      ]
    },
    {
      "cell_type": "code",
      "metadata": {
        "colab": {
          "base_uri": "https://localhost:8080/"
        },
        "id": "E7fIjhSsUm91",
        "outputId": "955fc4fd-35c0-427d-a049-1c92959027d2"
      },
      "source": [
        "# Mount Google Drive locally\n",
        "from google.colab import drive\n",
        "drive.mount('/content/drive')"
      ],
      "execution_count": null,
      "outputs": [
        {
          "output_type": "stream",
          "text": [
            "Mounted at /content/drive\n"
          ],
          "name": "stdout"
        }
      ]
    },
    {
      "cell_type": "code",
      "metadata": {
        "id": "M6q4n6inVEyK"
      },
      "source": [
        "# load the dataset with predictions\n",
        "from joblib import load\n",
        "\n",
        "data = load(\"/content/drive/MyDrive/liveProject/mortgate_data_with_predictions.pkl.gz\")\n",
        "\n",
        "df = data[0]\n",
        "ypred_label = data[1]"
      ],
      "execution_count": null,
      "outputs": []
    },
    {
      "cell_type": "code",
      "metadata": {
        "colab": {
          "base_uri": "https://localhost:8080/"
        },
        "id": "CXUNLAs6xZ7U",
        "outputId": "0f9ac4a3-ce9b-4558-d80d-b4b69515ae6d"
      },
      "source": [
        "!pip install aif360"
      ],
      "execution_count": null,
      "outputs": [
        {
          "output_type": "stream",
          "text": [
            "Collecting aif360\n",
            "\u001b[?25l  Downloading https://files.pythonhosted.org/packages/3b/e9/f2a936a00c65ce7b4d45587a33c4522fabd773f7325d505a87d133a1dabc/aif360-0.3.0-py3-none-any.whl (165kB)\n",
            "\r\u001b[K     |██                              | 10kB 17.3MB/s eta 0:00:01\r\u001b[K     |████                            | 20kB 16.5MB/s eta 0:00:01\r\u001b[K     |██████                          | 30kB 10.0MB/s eta 0:00:01\r\u001b[K     |████████                        | 40kB 8.1MB/s eta 0:00:01\r\u001b[K     |██████████                      | 51kB 4.2MB/s eta 0:00:01\r\u001b[K     |███████████▉                    | 61kB 4.4MB/s eta 0:00:01\r\u001b[K     |█████████████▉                  | 71kB 4.8MB/s eta 0:00:01\r\u001b[K     |███████████████▉                | 81kB 5.0MB/s eta 0:00:01\r\u001b[K     |█████████████████▉              | 92kB 5.2MB/s eta 0:00:01\r\u001b[K     |███████████████████▉            | 102kB 5.6MB/s eta 0:00:01\r\u001b[K     |█████████████████████▊          | 112kB 5.6MB/s eta 0:00:01\r\u001b[K     |███████████████████████▊        | 122kB 5.6MB/s eta 0:00:01\r\u001b[K     |█████████████████████████▊      | 133kB 5.6MB/s eta 0:00:01\r\u001b[K     |███████████████████████████▊    | 143kB 5.6MB/s eta 0:00:01\r\u001b[K     |█████████████████████████████▊  | 153kB 5.6MB/s eta 0:00:01\r\u001b[K     |███████████████████████████████▋| 163kB 5.6MB/s eta 0:00:01\r\u001b[K     |████████████████████████████████| 174kB 5.6MB/s \n",
            "\u001b[?25hRequirement already satisfied: matplotlib in /usr/local/lib/python3.6/dist-packages (from aif360) (3.2.2)\n",
            "Requirement already satisfied: pandas>=0.24.0 in /usr/local/lib/python3.6/dist-packages (from aif360) (1.1.4)\n",
            "Requirement already satisfied: scipy>=1.2.0 in /usr/local/lib/python3.6/dist-packages (from aif360) (1.4.1)\n",
            "Requirement already satisfied: scikit-learn>=0.21 in /usr/local/lib/python3.6/dist-packages (from aif360) (0.22.2.post1)\n",
            "Requirement already satisfied: numpy>=1.16 in /usr/local/lib/python3.6/dist-packages (from aif360) (1.18.5)\n",
            "Requirement already satisfied: pyparsing!=2.0.4,!=2.1.2,!=2.1.6,>=2.0.1 in /usr/local/lib/python3.6/dist-packages (from matplotlib->aif360) (2.4.7)\n",
            "Requirement already satisfied: cycler>=0.10 in /usr/local/lib/python3.6/dist-packages (from matplotlib->aif360) (0.10.0)\n",
            "Requirement already satisfied: python-dateutil>=2.1 in /usr/local/lib/python3.6/dist-packages (from matplotlib->aif360) (2.8.1)\n",
            "Requirement already satisfied: kiwisolver>=1.0.1 in /usr/local/lib/python3.6/dist-packages (from matplotlib->aif360) (1.3.1)\n",
            "Requirement already satisfied: pytz>=2017.2 in /usr/local/lib/python3.6/dist-packages (from pandas>=0.24.0->aif360) (2018.9)\n",
            "Requirement already satisfied: joblib>=0.11 in /usr/local/lib/python3.6/dist-packages (from scikit-learn>=0.21->aif360) (0.17.0)\n",
            "Requirement already satisfied: six in /usr/local/lib/python3.6/dist-packages (from cycler>=0.10->matplotlib->aif360) (1.15.0)\n",
            "Installing collected packages: aif360\n",
            "Successfully installed aif360-0.3.0\n"
          ],
          "name": "stdout"
        }
      ]
    },
    {
      "cell_type": "code",
      "metadata": {
        "colab": {
          "base_uri": "https://localhost:8080/",
          "height": 173
        },
        "id": "gBkMo5xuxaXR",
        "outputId": "98277fd6-1f9d-4ccf-ce16-6147f23e8925"
      },
      "source": [
        "from aif360.datasets import BinaryLabelDataset\n",
        "\n",
        "dataset = BinaryLabelDataset(favorable_label=False, unfavorable_label=True, df=df, label_names=['action_taken_name'], protected_attribute_names=['applicant_sex_name_Female'])\n",
        "\n",
        "privileged_group = [{'applicant_sex_name_Female': 0}] \n",
        "unprivileged_group = [{'applicant_sex_name_Female': 1}]\n",
        "\n",
        "from aif360.metrics import ClassificationMetric\n",
        "\n",
        "dataset_pred = dataset.copy() \n",
        "dataset_pred.labels = ypred_label\n",
        "\n",
        "metric = ClassificationMetric(dataset, dataset_pred, unprivileged_group, privileged_group)\n",
        "\n",
        "fair_metrics = {\"AvgOddsDiff\": metric.average_odds_difference, \"DispImpact\": metric.disparate_impact, \"EqualOppDiff\": metric.equal_opportunity_difference, \"StatParity\": metric.statistical_parity_difference }\n",
        "\n",
        "metrics = [[ff, fair_metrics[ff]()] for ff in fair_metrics]\n",
        "\n",
        "import pandas as pd \n",
        "pd.DataFrame(metrics, columns=[\"Metric\", \"Value\"])"
      ],
      "execution_count": null,
      "outputs": [
        {
          "output_type": "execute_result",
          "data": {
            "text/html": [
              "<div>\n",
              "<style scoped>\n",
              "    .dataframe tbody tr th:only-of-type {\n",
              "        vertical-align: middle;\n",
              "    }\n",
              "\n",
              "    .dataframe tbody tr th {\n",
              "        vertical-align: top;\n",
              "    }\n",
              "\n",
              "    .dataframe thead th {\n",
              "        text-align: right;\n",
              "    }\n",
              "</style>\n",
              "<table border=\"1\" class=\"dataframe\">\n",
              "  <thead>\n",
              "    <tr style=\"text-align: right;\">\n",
              "      <th></th>\n",
              "      <th>Metric</th>\n",
              "      <th>Value</th>\n",
              "    </tr>\n",
              "  </thead>\n",
              "  <tbody>\n",
              "    <tr>\n",
              "      <th>0</th>\n",
              "      <td>AvgOddsDiff</td>\n",
              "      <td>0.105941</td>\n",
              "    </tr>\n",
              "    <tr>\n",
              "      <th>1</th>\n",
              "      <td>DispImpact</td>\n",
              "      <td>1.287024</td>\n",
              "    </tr>\n",
              "    <tr>\n",
              "      <th>2</th>\n",
              "      <td>EqualOppDiff</td>\n",
              "      <td>0.107389</td>\n",
              "    </tr>\n",
              "    <tr>\n",
              "      <th>3</th>\n",
              "      <td>StatParity</td>\n",
              "      <td>0.113421</td>\n",
              "    </tr>\n",
              "  </tbody>\n",
              "</table>\n",
              "</div>"
            ],
            "text/plain": [
              "         Metric     Value\n",
              "0   AvgOddsDiff  0.105941\n",
              "1    DispImpact  1.287024\n",
              "2  EqualOppDiff  0.107389\n",
              "3    StatParity  0.113421"
            ]
          },
          "metadata": {
            "tags": []
          },
          "execution_count": 9
        }
      ]
    },
    {
      "cell_type": "code",
      "metadata": {
        "colab": {
          "base_uri": "https://localhost:8080/"
        },
        "id": "CxXaQuV9PAuY",
        "outputId": "d83b9a76-ffce-4417-fb67-0b7dcee315e2"
      },
      "source": [
        "from joblib import dump\n",
        "\n",
        "dump((dataset, dataset_pred), \"/content/drive/MyDrive/liveProject/mortgate_data_with_predictions_bld.pkl.gz\")"
      ],
      "execution_count": 7,
      "outputs": [
        {
          "output_type": "execute_result",
          "data": {
            "text/plain": [
              "['/content/drive/MyDrive/liveProject/mortgate_data_with_predictions_bld.pkl.gz']"
            ]
          },
          "metadata": {
            "tags": []
          },
          "execution_count": 7
        }
      ]
    }
  ]
}