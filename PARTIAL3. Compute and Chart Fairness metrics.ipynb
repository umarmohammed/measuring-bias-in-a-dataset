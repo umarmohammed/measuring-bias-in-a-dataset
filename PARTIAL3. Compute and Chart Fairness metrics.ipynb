{
  "nbformat": 4,
  "nbformat_minor": 0,
  "metadata": {
    "colab": {
      "name": "3 Compute and Chart Fairness metrics.ipynb",
      "provenance": [],
      "collapsed_sections": []
    },
    "kernelspec": {
      "name": "python3",
      "display_name": "Python 3"
    }
  },
  "cells": [
    {
      "cell_type": "markdown",
      "metadata": {
        "id": "SYN6sVCtnhmU"
      },
      "source": [
        "## Load data"
      ]
    },
    {
      "cell_type": "code",
      "metadata": {
        "colab": {
          "base_uri": "https://localhost:8080/"
        },
        "id": "h0LNPMYjfbt6",
        "outputId": "f042c88f-3ae9-4c7f-ac34-031610b828f4"
      },
      "source": [
        "# Mount Google Drive locally \n",
        "# Using the instructions found here https://colab.research.google.com/notebooks/io.ipynb#scrollTo=u22w3BFiOveA&line=1&uniqifier=1"
      ],
      "execution_count": null,
      "outputs": [
        {
          "output_type": "stream",
          "text": [
            "Mounted at /content/drive\n"
          ],
          "name": "stdout"
        }
      ]
    },
    {
      "cell_type": "code",
      "metadata": {
        "id": "dbtDnaw-gGQM"
      },
      "source": [
        "# Load the pickled dataframe using the \"read_pickle()\"\" function from \"pandas\"\n",
        "# df = ..."
      ],
      "execution_count": null,
      "outputs": []
    },
    {
      "cell_type": "markdown",
      "metadata": {
        "id": "WVI5ELmj4kuD"
      },
      "source": [
        "## Implement Equal Opportunity Difference"
      ]
    },
    {
      "cell_type": "code",
      "metadata": {
        "id": "elQFAuWB4f5Y"
      },
      "source": [
        "def EqualOppDiff(y, pred, group_a, group_b):\r\n",
        "    ### Equal Opportunity Difference\r\n",
        "    # TPR_a = ...\r\n",
        "    # TPR_b = ...\r\n",
        "    return TPR_a - TPR_b"
      ],
      "execution_count": null,
      "outputs": []
    },
    {
      "cell_type": "markdown",
      "metadata": {
        "id": "vQUNjC_e4oPp"
      },
      "source": [
        "## Implement Average Odds Difference"
      ]
    },
    {
      "cell_type": "code",
      "metadata": {
        "id": "g31Q3M3i4fpo"
      },
      "source": [
        "def AvgOddsDiff(y, pred, group_a, group_b):\r\n",
        "    ### Average Odds Difference\r\n",
        "    # return ( EqualOppDiff(..., ..., group_a, group_b) + \r\n",
        "    #        EqualOppDiff(..., ..., group_a, group_b) )/2.0"
      ],
      "execution_count": null,
      "outputs": []
    },
    {
      "cell_type": "markdown",
      "metadata": {
        "id": "lwm0MsDY4tio"
      },
      "source": [
        "## Test Metrics"
      ]
    },
    {
      "cell_type": "markdown",
      "metadata": {
        "id": "lQuQeqU4nnL6"
      },
      "source": [
        "### Separating input and output variables"
      ]
    },
    {
      "cell_type": "code",
      "metadata": {
        "id": "tJuTQNXngSX3"
      },
      "source": [
        "# removing race, ethnicity, sex and minority population from X\n",
        "# X = ...\n",
        "\n",
        "# instantiating the target variable\n",
        "# y = ..."
      ],
      "execution_count": null,
      "outputs": []
    },
    {
      "cell_type": "markdown",
      "metadata": {
        "id": "sB5eMXjdotfA"
      },
      "source": [
        "### Configuration"
      ]
    },
    {
      "cell_type": "code",
      "metadata": {
        "id": "LpTyWRR7giOA"
      },
      "source": [
        "# instantiate the classifier\n",
        "from sklearn.linear_model import LogisticRegression\n",
        "# lr = ...\n",
        "\n",
        "# instantiate the cross-validation scheme\n",
        "from sklearn.model_selection import StratifiedKFold\n",
        "# mv = ...\n",
        "\n",
        "# setup the metrics to be computed\n",
        "from sklearn import metrics\n",
        "# perf_metrics = {\"Accuracy\": ..., \n",
        "#                 \"Precision\": ..., \n",
        "#                 \"Recall\": ...,\n",
        "#                 \"AUC\": ..., \n",
        "#                 \"F1-Score\": ..., \n",
        "#                 }\n",
        "\n",
        "# setup the bias metrics to be computed\n",
        "# group_a = ... \n",
        "# group_b = ...\n",
        "# bias_metrics = {\"Equal Opp Diff\": ...,\n",
        "#                \"Avg Odds Diff\": ...\n",
        "#                }"
      ],
      "execution_count": null,
      "outputs": []
    },
    {
      "cell_type": "markdown",
      "metadata": {
        "id": "55Yeppm4oynH"
      },
      "source": [
        "### Modelling loop"
      ]
    },
    {
      "cell_type": "code",
      "metadata": {
        "id": "DBMTgOYqo2eQ"
      },
      "source": [
        "import pandas as pd\r\n",
        "k, i = True, 1\r\n",
        "\r\n",
        "for (train, test) in mv.split(X, y):\r\n",
        "    # fit model\r\n",
        "    # lr = lr.fit(...)\r\n",
        "    \r\n",
        "    # get predictions in the test set\r\n",
        "    # ypred_prob = lr.predict_proba ... # get probabilities\r\n",
        "    # ypred_class = lr.predict ...\r\n",
        "\r\n",
        "    # compute performance metrics\r\n",
        "    metrics = []\r\n",
        "    for pf in perf_metrics.keys():\r\n",
        "        if pf in [\"AUC\", \"Brier\"]:\r\n",
        "            # metrics += [[pf, ...]]\r\n",
        "        else:\r\n",
        "            # metrics += [[pf, ...]]\r\n",
        "\r\n",
        "    for bias in bias_metrics.keys():\r\n",
        "        # metrics += [[bias, ...]]\r\n",
        "\r\n",
        "    # concatenate results\r\n",
        "    df_m = pd.DataFrame(metrics, columns=[\"Metric\", \"Value\"])\r\n",
        "    df_m[\"Fold\"] = i\r\n",
        "    i += 1\r\n",
        "    if k:\r\n",
        "        df_metrics = df_m.copy()\r\n",
        "        k=0\r\n",
        "    else:\r\n",
        "        df_metrics = pd.concat([df_metrics, df_m.copy()], axis=0, ignore_index=True)"
      ],
      "execution_count": null,
      "outputs": []
    },
    {
      "cell_type": "markdown",
      "metadata": {
        "id": "bhPVAs7_pKwi"
      },
      "source": [
        "### Explore performance metrics"
      ]
    },
    {
      "cell_type": "code",
      "metadata": {
        "id": "_YJcjiGepLMF"
      },
      "source": [
        "# df_metrics.pivot_table(...)"
      ],
      "execution_count": null,
      "outputs": []
    },
    {
      "cell_type": "code",
      "metadata": {
        "id": "5lShBuEcy-R1"
      },
      "source": [
        "import seaborn as sns\r\n",
        "# df_pivot = ...\r\n",
        "# y_vars = ...\r\n",
        "# x_vars = ...\r\n",
        "g = sns.PairGrid(df_pivot, x_vars=x_vars, y_vars=y_vars)\r\n",
        "g.map(sns.scatterplot)"
      ],
      "execution_count": null,
      "outputs": []
    }
  ]
}