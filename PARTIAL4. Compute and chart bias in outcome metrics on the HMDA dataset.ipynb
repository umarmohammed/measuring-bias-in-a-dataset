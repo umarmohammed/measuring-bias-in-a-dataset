{
  "nbformat": 4,
  "nbformat_minor": 0,
  "metadata": {
    "colab": {
      "name": "4. Compute and chart bias in outcome metrics on the HMDA dataset.ipynb",
      "provenance": [],
      "collapsed_sections": []
    },
    "kernelspec": {
      "name": "python3",
      "display_name": "Python 3"
    }
  },
  "cells": [
    {
      "cell_type": "markdown",
      "metadata": {
        "id": "wjmCtwSraNve"
      },
      "source": [
        "#Load data"
      ]
    },
    {
      "cell_type": "code",
      "metadata": {
        "colab": {
          "base_uri": "https://localhost:8080/"
        },
        "id": "gcsjcVMC6MZl",
        "outputId": "e5c3479d-0fe2-4be7-f00f-6315e44e9ceb"
      },
      "source": [
        "# Mount Google Drive locally \n",
        "# Using the instructions found here https://colab.research.google.com/notebooks/io.ipynb#scrollTo=u22w3BFiOveA&line=1&uniqifier=1"
      ],
      "execution_count": null,
      "outputs": [
        {
          "output_type": "stream",
          "text": [
            "Drive already mounted at /content/drive; to attempt to forcibly remount, call drive.mount(\"/content/drive\", force_remount=True).\n"
          ],
          "name": "stdout"
        }
      ]
    },
    {
      "cell_type": "code",
      "metadata": {
        "id": "QWaZ0CdhaNBY"
      },
      "source": [
        "# Load the pickled dataframe using the \"read_pickle()\"\" function from \"pandas\"\n",
        "# df = ..."
      ],
      "execution_count": null,
      "outputs": []
    },
    {
      "cell_type": "markdown",
      "metadata": {
        "id": "N4aZrfJOg-TI"
      },
      "source": [
        "# Classify outcomes based on applicant income"
      ]
    },
    {
      "cell_type": "code",
      "metadata": {
        "id": "m_PjMoiOhTQ1"
      },
      "source": [
        "import numpy as np\r\n",
        "\r\n",
        "df[['log(applicant_income_000s)']] = np.log(df['applicant_income_000s'].copy())\r\n",
        "#pred_35 = ...\r\n",
        "#pred_43 = ...\r\n",
        "#pred_50 = ...\r\n",
        "\r\n",
        "assert(pred_35.sum() == 140608)\r\n",
        "assert(pred_43.sum() == 70354)\r\n",
        "assert(pred_50.sum() == 19405)"
      ],
      "execution_count": null,
      "outputs": []
    },
    {
      "cell_type": "markdown",
      "metadata": {
        "id": "2bTBQEiXnMTU"
      },
      "source": [
        "# Compute and chart classifier metrics"
      ]
    },
    {
      "cell_type": "code",
      "metadata": {
        "id": "j4m6SBwOnLgM"
      },
      "source": [
        "def accept_rate_group(group=None):\r\n",
        "  def accept_rate(pred):\r\n",
        "    def pred_group():\r\n",
        "      return pred[group] if group is not None else pred\r\n",
        "    return pred_group().mean() * 100\r\n",
        "  return accept_rate\r\n",
        "\r\n",
        "female = (df['applicant_sex_name'] == \"Female\").copy()\r\n",
        "male = (df['applicant_sex_name'] == \"Male\").copy()\r\n",
        "\r\n",
        "accept_rate = accept_rate_group()\r\n",
        "accept_rate_male = accept_rate_group(male)\r\n",
        "accept_rate_female = accept_rate_group(female)\r\n",
        "\r\n",
        "## acceptance rate % across thresholds\r\n",
        "### total\r\n",
        "# accept_rate_35 = ...\r\n",
        "# accept_rate_43 = ...\r\n",
        "# accept_rate_50 = ...\r\n",
        "\r\n",
        "### male\r\n",
        "# accept_rate_male_35 = ...\r\n",
        "# accept_rate_male_43 = ...\r\n",
        "# accept_rate_male_50 = ...\r\n",
        "\r\n",
        "### female\r\n",
        "# accept_rate_female_35 = ... \r\n",
        "# accept_rate_female_43 = ...\r\n",
        "# accept_rate_female_50 = ... "
      ],
      "execution_count": null,
      "outputs": []
    },
    {
      "cell_type": "code",
      "metadata": {
        "id": "W8qXxL_2-u4C"
      },
      "source": [
        "import seaborn as sns\r\n",
        "import matplotlib.pyplot as plt\r\n",
        "\r\n",
        "# chart different thresholds: acceptance rates, disparate impact and 2-SD rule\r\n",
        "d = pd.DataFrame({\"Threshold\": [3.5, 4.3, 5.0],\r\n",
        "                  \"Total Acceptance Rate\": [accept_rate_35, accept_rate_43, accept_rate_50],\r\n",
        "                  \"Female Acceptance Rate\": [accept_rate_female_35, accept_rate_female_43, accept_rate_female_50],\r\n",
        "                  \"Male Acceptance Rate\": [accept_rate_male_35, accept_rate_male_43, accept_rate_male_50]})\r\n",
        "\r\n",
        "# sns.barplot(...) Total Acceptance Rate\r\n",
        "plt.show()"
      ],
      "execution_count": null,
      "outputs": []
    },
    {
      "cell_type": "code",
      "metadata": {
        "id": "0-V4R8GC_ByQ"
      },
      "source": [
        "# sns.barplot(...) Female Acceptance Rate\r\n",
        "plt.show()"
      ],
      "execution_count": null,
      "outputs": []
    },
    {
      "cell_type": "code",
      "metadata": {
        "id": "9m7mY8n3_Kjo"
      },
      "source": [
        "# sns.barplot(...) Male Acceptance Rate\r\n",
        "plt.show()"
      ],
      "execution_count": null,
      "outputs": []
    },
    {
      "cell_type": "markdown",
      "metadata": {
        "id": "aGrUtaJSAy-N"
      },
      "source": [
        "# Compute and chart the Disparate Impact metric"
      ]
    },
    {
      "cell_type": "code",
      "metadata": {
        "id": "HIll5vnCA2Vq"
      },
      "source": [
        "def DispImpact(pred, group_a, group_b):\r\n",
        "  ### Disparate Impact\r\n",
        "  SR_A = pred[group_a==1].mean() # success rate group A\r\n",
        "  SR_B = pred[group_b==1].mean() # success rate group B\r\n",
        "  return SR_A/SR_B\r\n",
        "\r\n",
        "## disparate impact across thresholds\r\n",
        "# DP_35 = ...\r\n",
        "# DP_43 = ...\r\n",
        "# DP_50 = ...\r\n",
        "\r\n",
        "from math import isclose\r\n",
        "\r\n",
        "assert(isclose(DP_35, 0.864, rel_tol=0.001))\r\n",
        "assert(isclose(DP_43, 0.605, rel_tol=0.001))\r\n",
        "assert(isclose(DP_50, 0.3996, rel_tol=0.001))\r\n",
        "\r\n",
        "d = pd.DataFrame({\"Threshold\": [3.5, 4.3, 5.0],\r\n",
        "                  \"Disparate Impact\": [DP_35, DP_43, DP_50]})\r\n",
        "\r\n",
        "# sns.barplot(...) Disparate Impact\r\n",
        "plt.show()"
      ],
      "execution_count": null,
      "outputs": []
    },
    {
      "cell_type": "markdown",
      "metadata": {
        "id": "89xzApqSBws_"
      },
      "source": [
        "# Compute and chart the 2-SD Rule Metric"
      ]
    },
    {
      "cell_type": "code",
      "metadata": {
        "id": "IMpY51CcB4LP"
      },
      "source": [
        "def TwoSDRule(pred, group_a, group_b):\r\n",
        "    import numpy as np\r\n",
        "\r\n",
        "    ### 2-SD Rule\r\n",
        "    SR_A = pred[group_a==1].mean() # success rate group A\r\n",
        "    SR_B = pred[group_b==1].mean() # success rate group B\r\n",
        "    SR_T = pred.mean() # success rate total\r\n",
        "    P_min = (group_a==1).mean() # minority proportion - usually group A\r\n",
        "    N = len(pred) # sample size\r\n",
        "    return (SR_A - SR_B)/np.sqrt( (SR_T * (1.0 - SR_T))/(N * P_min * (1 - P_min)))\r\n",
        "\r\n",
        "## 2-SD rule across thresholds\r\n",
        "# Z_35 = ...\r\n",
        "# Z_43 = ...\r\n",
        "# Z_50 = ...\r\n",
        "\r\n",
        "assert(isclose(Z_35, -62.3, rel_tol=0.001))\r\n",
        "assert(isclose(Z_43, -72.3, rel_tol=0.001))\r\n",
        "assert(isclose(Z_50, -50.2, rel_tol=0.001))\r\n",
        "\r\n",
        "d = pd.DataFrame({\"Threshold\": [3.5, 4.3, 5.0],\r\n",
        "                  \"2-SD Rule\": [Z_35, Z_43, Z_50]})\r\n",
        "\r\n",
        "# sns.barplot(...) 2-SD Rule\r\n",
        "plt.show()"
      ],
      "execution_count": null,
      "outputs": []
    }
  ]
}