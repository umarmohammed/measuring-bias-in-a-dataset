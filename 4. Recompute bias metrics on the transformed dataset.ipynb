{
  "nbformat": 4,
  "nbformat_minor": 0,
  "metadata": {
    "orig_nbformat": 2,
    "colab": {
      "name": "4. Recompute bias metrics on transformed dataset.ipynb",
      "provenance": [],
      "include_colab_link": true
    },
    "kernelspec": {
      "name": "python3",
      "display_name": "Python 3"
    }
  },
  "cells": [
    {
      "cell_type": "markdown",
      "metadata": {
        "id": "view-in-github",
        "colab_type": "text"
      },
      "source": [
        "<a href=\"https://colab.research.google.com/github/umarmohammed/measuring-bias-in-a-dataset/blob/project-3/4.%20Recompute%20bias%20metrics%20on%20the%20transformed%20dataset.ipynb\" target=\"_parent\"><img src=\"https://colab.research.google.com/assets/colab-badge.svg\" alt=\"Open In Colab\"/></a>"
      ]
    },
    {
      "cell_type": "markdown",
      "metadata": {
        "id": "FK_syJ3bIQ5z"
      },
      "source": [
        "## 1. Load the dataset"
      ]
    },
    {
      "cell_type": "code",
      "metadata": {
        "id": "m3wTTeauB4oj",
        "colab": {
          "base_uri": "https://localhost:8080/"
        },
        "outputId": "ed9ca9e0-6b93-4f9e-f4d9-fadb289d298f"
      },
      "source": [
        "# Mount Google Drive locally\n",
        "from google.colab import drive\n",
        "drive.mount('/content/drive')"
      ],
      "execution_count": 2,
      "outputs": [
        {
          "output_type": "stream",
          "text": [
            "Mounted at /content/drive\n"
          ],
          "name": "stdout"
        }
      ]
    },
    {
      "cell_type": "code",
      "metadata": {
        "id": "SzKtbFWXIcrv"
      },
      "source": [
        "# Load the datset into a pandas dataframe\n",
        "from joblib import load\n",
        "\n",
        "data = load(\"/content/drive/MyDrive/liveProject/mortgage_data_preprocess.pkl.gz\")\n",
        "\n",
        "X = data[0]\n",
        "y = data[1]\n",
        "\n",
        "# Concatonate the data into a dataframe\n",
        "import pandas as pd\n",
        "\n",
        "df = pd.concat([X, y], axis=1)"
      ],
      "execution_count": 3,
      "outputs": []
    },
    {
      "cell_type": "markdown",
      "metadata": {
        "id": "5A4AI2gIJDSW"
      },
      "source": [
        "## 2. Compute and chart bias metrics on the dataset"
      ]
    },
    {
      "cell_type": "code",
      "metadata": {
        "id": "LX7OjfJDD5fA",
        "colab": {
          "base_uri": "https://localhost:8080/"
        },
        "outputId": "e443b898-11b8-4983-885c-cf1537898926"
      },
      "source": [
        "# install AIF360\n",
        "!pip install aif360"
      ],
      "execution_count": 4,
      "outputs": [
        {
          "output_type": "stream",
          "text": [
            "Collecting aif360\n",
            "\u001b[?25l  Downloading https://files.pythonhosted.org/packages/3b/e9/f2a936a00c65ce7b4d45587a33c4522fabd773f7325d505a87d133a1dabc/aif360-0.3.0-py3-none-any.whl (165kB)\n",
            "\r\u001b[K     |██                              | 10kB 17.5MB/s eta 0:00:01\r\u001b[K     |████                            | 20kB 7.6MB/s eta 0:00:01\r\u001b[K     |██████                          | 30kB 5.0MB/s eta 0:00:01\r\u001b[K     |████████                        | 40kB 4.7MB/s eta 0:00:01\r\u001b[K     |██████████                      | 51kB 2.7MB/s eta 0:00:01\r\u001b[K     |███████████▉                    | 61kB 3.0MB/s eta 0:00:01\r\u001b[K     |█████████████▉                  | 71kB 3.2MB/s eta 0:00:01\r\u001b[K     |███████████████▉                | 81kB 3.3MB/s eta 0:00:01\r\u001b[K     |█████████████████▉              | 92kB 3.3MB/s eta 0:00:01\r\u001b[K     |███████████████████▉            | 102kB 3.6MB/s eta 0:00:01\r\u001b[K     |█████████████████████▊          | 112kB 3.6MB/s eta 0:00:01\r\u001b[K     |███████████████████████▊        | 122kB 3.6MB/s eta 0:00:01\r\u001b[K     |█████████████████████████▊      | 133kB 3.6MB/s eta 0:00:01\r\u001b[K     |███████████████████████████▊    | 143kB 3.6MB/s eta 0:00:01\r\u001b[K     |█████████████████████████████▊  | 153kB 3.6MB/s eta 0:00:01\r\u001b[K     |███████████████████████████████▋| 163kB 3.6MB/s eta 0:00:01\r\u001b[K     |████████████████████████████████| 174kB 3.6MB/s \n",
            "\u001b[?25hRequirement already satisfied: matplotlib in /usr/local/lib/python3.6/dist-packages (from aif360) (3.2.2)\n",
            "Requirement already satisfied: pandas>=0.24.0 in /usr/local/lib/python3.6/dist-packages (from aif360) (1.1.4)\n",
            "Requirement already satisfied: numpy>=1.16 in /usr/local/lib/python3.6/dist-packages (from aif360) (1.18.5)\n",
            "Requirement already satisfied: scikit-learn>=0.21 in /usr/local/lib/python3.6/dist-packages (from aif360) (0.22.2.post1)\n",
            "Requirement already satisfied: scipy>=1.2.0 in /usr/local/lib/python3.6/dist-packages (from aif360) (1.4.1)\n",
            "Requirement already satisfied: python-dateutil>=2.1 in /usr/local/lib/python3.6/dist-packages (from matplotlib->aif360) (2.8.1)\n",
            "Requirement already satisfied: pyparsing!=2.0.4,!=2.1.2,!=2.1.6,>=2.0.1 in /usr/local/lib/python3.6/dist-packages (from matplotlib->aif360) (2.4.7)\n",
            "Requirement already satisfied: cycler>=0.10 in /usr/local/lib/python3.6/dist-packages (from matplotlib->aif360) (0.10.0)\n",
            "Requirement already satisfied: kiwisolver>=1.0.1 in /usr/local/lib/python3.6/dist-packages (from matplotlib->aif360) (1.3.1)\n",
            "Requirement already satisfied: pytz>=2017.2 in /usr/local/lib/python3.6/dist-packages (from pandas>=0.24.0->aif360) (2018.9)\n",
            "Requirement already satisfied: joblib>=0.11 in /usr/local/lib/python3.6/dist-packages (from scikit-learn>=0.21->aif360) (0.17.0)\n",
            "Requirement already satisfied: six>=1.5 in /usr/local/lib/python3.6/dist-packages (from python-dateutil>=2.1->matplotlib->aif360) (1.15.0)\n",
            "Installing collected packages: aif360\n",
            "Successfully installed aif360-0.3.0\n"
          ],
          "name": "stdout"
        }
      ]
    },
    {
      "cell_type": "code",
      "metadata": {
        "id": "lSy55waDJU3w"
      },
      "source": [
        "# Create a BinaryLabelDataset\n",
        "from aif360.datasets import BinaryLabelDataset\n",
        "dataset = BinaryLabelDataset(df=df, label_names=['action_taken_name'], protected_attribute_names=['applicant_sex_name_Female'])"
      ],
      "execution_count": 5,
      "outputs": []
    },
    {
      "cell_type": "code",
      "metadata": {
        "id": "AZRDCbAyJl1h"
      },
      "source": [
        "# Create a BinaryLabelDatasetMetric\n",
        "from aif360.metrics import BinaryLabelDatasetMetric\n",
        "\n",
        "privileged_group = [{'applicant_sex_name_Female': 0}] \n",
        "unprivileged_group = [{'applicant_sex_name_Female': 1}]\n",
        "\n",
        "metric = BinaryLabelDatasetMetric(dataset, unprivileged_group, privileged_group)"
      ],
      "execution_count": 6,
      "outputs": []
    },
    {
      "cell_type": "code",
      "metadata": {
        "colab": {
          "base_uri": "https://localhost:8080/",
          "height": 111
        },
        "id": "P0Kvml19J-zI",
        "outputId": "92b59d37-a83b-4596-cf58-b38e760f3771"
      },
      "source": [
        "# Compute equal opportunity metrics\n",
        "import pandas as pd \n",
        "\n",
        "def compute_fair_metrics(metric):\n",
        "  fair_metrics = {\n",
        "    \"DispImpact\": [metric.disparate_impact, 0.8, 1.2], \n",
        "    \"StatParity\": [metric.statistical_parity_difference, -0.1, 0.1] \n",
        "    }\n",
        "\n",
        "  metrics = [[ff, fair_metrics[ff][0](), fair_metrics[ff][1], fair_metrics[ff][2]] for ff in fair_metrics]\n",
        "\n",
        "  return pd.DataFrame(metrics, columns=[\"Metric\", \"Value\", \"Min\", \"Max\"])\n",
        "\n",
        "df_fair = compute_fair_metrics(metric)\n",
        "\n",
        "df_fair"
      ],
      "execution_count": 7,
      "outputs": [
        {
          "output_type": "execute_result",
          "data": {
            "text/html": [
              "<div>\n",
              "<style scoped>\n",
              "    .dataframe tbody tr th:only-of-type {\n",
              "        vertical-align: middle;\n",
              "    }\n",
              "\n",
              "    .dataframe tbody tr th {\n",
              "        vertical-align: top;\n",
              "    }\n",
              "\n",
              "    .dataframe thead th {\n",
              "        text-align: right;\n",
              "    }\n",
              "</style>\n",
              "<table border=\"1\" class=\"dataframe\">\n",
              "  <thead>\n",
              "    <tr style=\"text-align: right;\">\n",
              "      <th></th>\n",
              "      <th>Metric</th>\n",
              "      <th>Value</th>\n",
              "      <th>Min</th>\n",
              "      <th>Max</th>\n",
              "    </tr>\n",
              "  </thead>\n",
              "  <tbody>\n",
              "    <tr>\n",
              "      <th>0</th>\n",
              "      <td>DispImpact</td>\n",
              "      <td>1.137718</td>\n",
              "      <td>0.8</td>\n",
              "      <td>1.2</td>\n",
              "    </tr>\n",
              "    <tr>\n",
              "      <th>1</th>\n",
              "      <td>StatParity</td>\n",
              "      <td>0.066178</td>\n",
              "      <td>-0.1</td>\n",
              "      <td>0.1</td>\n",
              "    </tr>\n",
              "  </tbody>\n",
              "</table>\n",
              "</div>"
            ],
            "text/plain": [
              "       Metric     Value  Min  Max\n",
              "0  DispImpact  1.137718  0.8  1.2\n",
              "1  StatParity  0.066178 -0.1  0.1"
            ]
          },
          "metadata": {
            "tags": []
          },
          "execution_count": 7
        }
      ]
    },
    {
      "cell_type": "code",
      "metadata": {
        "colab": {
          "base_uri": "https://localhost:8080/",
          "height": 549
        },
        "id": "RPWamRoRVfgw",
        "outputId": "0ca9b9a9-66c7-421f-ad84-c4535ac48c11"
      },
      "source": [
        "# Chart the metrics\n",
        "\n",
        "import matplotlib.pyplot as plt\n",
        "import seaborn as sns\n",
        "import matplotlib.patches as patches\n",
        "import numpy as np\n",
        "\n",
        "def plot_metrics(df_fair): \n",
        "  def plot_metric(metric, ylim):\n",
        "    fig, ax = plt.subplots()\n",
        "    ax = sns.barplot(data=metric, x=\"Metric\", y=\"Value\")\n",
        "    plt.axhline(np.mean(metric[[\"Min\", \"Max\"]].values), color='black')\n",
        "    plt.ylim(*ylim)\n",
        "    range_height = metric[[\"Max\"]].values[0][0] - metric[[\"Min\"]].values[0][0]\n",
        "    ax.add_patch(patches.Rectangle((-1, metric[[\"Min\"]].values[0][0]), 2 , range_height, facecolor=\"green\", alpha=0.3))\n",
        "\n",
        "  plot_metric(df_fair.iloc[[0]], (0, 2))\n",
        "  plot_metric(df_fair.iloc[[1]], (-1, 1))\n",
        "\n",
        "plot_metrics(df_fair)"
      ],
      "execution_count": 8,
      "outputs": [
        {
          "output_type": "display_data",
          "data": {
            "image/png": "[encoded data removed]",
            "text/plain": [
              "<Figure size 432x288 with 1 Axes>"
            ]
          },
          "metadata": {
            "tags": [],
            "needs_background": "light"
          }
        },
        {
          "output_type": "display_data",
          "data": {
            "image/png": "[encoded data removed]",
            "text/plain": [
              "<Figure size 432x288 with 1 Axes>"
            ]
          },
          "metadata": {
            "tags": [],
            "needs_background": "light"
          }
        }
      ]
    },
    {
      "cell_type": "markdown",
      "metadata": {
        "id": "Fd2Su4_BgLry"
      },
      "source": [
        "## 3. Pre-process the model using Reweighing Subjects"
      ]
    },
    {
      "cell_type": "code",
      "metadata": {
        "id": "FuFWoCGEgl9D"
      },
      "source": [
        "# Use the reweighing subjects technique\n",
        "\n",
        "from aif360.algorithms.preprocessing import Reweighing\n",
        "\n",
        "rw = Reweighing(unprivileged_group, privileged_group)\n",
        "\n",
        "dataset_transformed = rw.fit_transform(dataset)"
      ],
      "execution_count": 9,
      "outputs": []
    },
    {
      "cell_type": "markdown",
      "metadata": {
        "id": "HBujzKRNgruw"
      },
      "source": [
        "## 4. Recompute bias metrics on the transformed data"
      ]
    },
    {
      "cell_type": "code",
      "metadata": {
        "id": "GYaMEd4wD_bJ"
      },
      "source": [
        "# Create a BinaryLabelDatasetMetric\n",
        "\n",
        "metric_transformed = BinaryLabelDatasetMetric(dataset_transformed, unprivileged_group, privileged_group)"
      ],
      "execution_count": 12,
      "outputs": []
    },
    {
      "cell_type": "code",
      "metadata": {
        "id": "fJY9Yt1Bqhxs",
        "outputId": "47bcac6c-8198-4516-a0bb-294bf274fb1b",
        "colab": {
          "base_uri": "https://localhost:8080/",
          "height": 111
        }
      },
      "source": [
        "# Compute equal opportunity metrics\n",
        "\n",
        "df_fair = compute_fair_metrics(metric_transformed)\n",
        "df_fair"
      ],
      "execution_count": 13,
      "outputs": [
        {
          "output_type": "execute_result",
          "data": {
            "text/html": [
              "<div>\n",
              "<style scoped>\n",
              "    .dataframe tbody tr th:only-of-type {\n",
              "        vertical-align: middle;\n",
              "    }\n",
              "\n",
              "    .dataframe tbody tr th {\n",
              "        vertical-align: top;\n",
              "    }\n",
              "\n",
              "    .dataframe thead th {\n",
              "        text-align: right;\n",
              "    }\n",
              "</style>\n",
              "<table border=\"1\" class=\"dataframe\">\n",
              "  <thead>\n",
              "    <tr style=\"text-align: right;\">\n",
              "      <th></th>\n",
              "      <th>Metric</th>\n",
              "      <th>Value</th>\n",
              "      <th>Min</th>\n",
              "      <th>Max</th>\n",
              "    </tr>\n",
              "  </thead>\n",
              "  <tbody>\n",
              "    <tr>\n",
              "      <th>0</th>\n",
              "      <td>DispImpact</td>\n",
              "      <td>1.000000e+00</td>\n",
              "      <td>0.8</td>\n",
              "      <td>1.2</td>\n",
              "    </tr>\n",
              "    <tr>\n",
              "      <th>1</th>\n",
              "      <td>StatParity</td>\n",
              "      <td>2.220446e-16</td>\n",
              "      <td>-0.1</td>\n",
              "      <td>0.1</td>\n",
              "    </tr>\n",
              "  </tbody>\n",
              "</table>\n",
              "</div>"
            ],
            "text/plain": [
              "       Metric         Value  Min  Max\n",
              "0  DispImpact  1.000000e+00  0.8  1.2\n",
              "1  StatParity  2.220446e-16 -0.1  0.1"
            ]
          },
          "metadata": {
            "tags": []
          },
          "execution_count": 13
        }
      ]
    },
    {
      "cell_type": "code",
      "metadata": {
        "colab": {
          "base_uri": "https://localhost:8080/",
          "height": 549
        },
        "id": "W04CUBnJhp3L",
        "outputId": "46e251ac-932d-417b-b3d3-18f1f7087aea"
      },
      "source": [
        "# Chart the metrics\n",
        "\n",
        "plot_metrics(df_fair)"
      ],
      "execution_count": 14,
      "outputs": [
        {
          "output_type": "display_data",
          "data": {
            "image/png": "[encoded data removed]",
            "text/plain": [
              "<Figure size 432x288 with 1 Axes>"
            ]
          },
          "metadata": {
            "tags": [],
            "needs_background": "light"
          }
        },
        {
          "output_type": "display_data",
          "data": {
            "image/png": "[encoded data removed]",
            "text/plain": [
              "<Figure size 432x288 with 1 Axes>"
            ]
          },
          "metadata": {
            "tags": [],
            "needs_background": "light"
          }
        }
      ]
    },
    {
      "cell_type": "code",
      "metadata": {
        "id": "HXFSJuuxKbbV"
      },
      "source": [
        "# Convert the result to a more general format\n",
        "\n",
        "df = dataset_transformed.convert_to_dataframe()[0]\n",
        "instance_weights = dataset_transformed.instance_weights\n"
      ],
      "execution_count": 17,
      "outputs": []
    },
    {
      "cell_type": "code",
      "metadata": {
        "id": "TvxnTRGG0ZJl",
        "outputId": "96d15103-327c-48f2-d64f-f2b1a0e8fa11",
        "colab": {
          "base_uri": "https://localhost:8080/"
        }
      },
      "source": [
        "# Train a logistic regression classifier on the result\n",
        "\n",
        "from sklearn.linear_model import LogisticRegression\n",
        "\n",
        "X = df.iloc[:, :-1]\n",
        "y = df.iloc[:, -1]\n",
        "\n",
        "lr = LogisticRegression()\n",
        "lr.fit(X, y, sample_weight=instance_weights)"
      ],
      "execution_count": 31,
      "outputs": [
        {
          "output_type": "stream",
          "text": [
            "/usr/local/lib/python3.6/dist-packages/sklearn/linear_model/_logistic.py:940: ConvergenceWarning: lbfgs failed to converge (status=1):\n",
            "STOP: TOTAL NO. of ITERATIONS REACHED LIMIT.\n",
            "\n",
            "Increase the number of iterations (max_iter) or scale the data as shown in:\n",
            "    https://scikit-learn.org/stable/modules/preprocessing.html\n",
            "Please also refer to the documentation for alternative solver options:\n",
            "    https://scikit-learn.org/stable/modules/linear_model.html#logistic-regression\n",
            "  extra_warning_msg=_LOGISTIC_SOLVER_CONVERGENCE_MSG)\n"
          ],
          "name": "stderr"
        },
        {
          "output_type": "execute_result",
          "data": {
            "text/plain": [
              "LogisticRegression(C=1.0, class_weight=None, dual=False, fit_intercept=True,\n",
              "                   intercept_scaling=1, l1_ratio=None, max_iter=100,\n",
              "                   multi_class='auto', n_jobs=None, penalty='l2',\n",
              "                   random_state=None, solver='lbfgs', tol=0.0001, verbose=0,\n",
              "                   warm_start=False)"
            ]
          },
          "metadata": {
            "tags": []
          },
          "execution_count": 31
        }
      ]
    }
  ]
}