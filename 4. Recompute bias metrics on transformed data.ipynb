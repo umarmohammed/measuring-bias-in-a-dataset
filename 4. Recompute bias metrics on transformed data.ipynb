{
  "nbformat": 4,
  "nbformat_minor": 0,
  "metadata": {
    "colab": {
      "name": "4. Recompute bias metrics on transformed data.ipynb",
      "provenance": [],
      "authorship_tag": "ABX9TyM/XxNbYs6lcZ0P4JUBIoeW",
      "include_colab_link": true
    },
    "kernelspec": {
      "name": "python3",
      "display_name": "Python 3"
    }
  },
  "cells": [
    {
      "cell_type": "markdown",
      "metadata": {
        "id": "view-in-github",
        "colab_type": "text"
      },
      "source": [
        "<a href=\"https://colab.research.google.com/github/umarmohammed/measuring-bias-in-a-dataset/blob/project-4/4.%20Recompute%20bias%20metrics%20on%20transformed%20data.ipynb\" target=\"_parent\"><img src=\"https://colab.research.google.com/assets/colab-badge.svg\" alt=\"Open In Colab\"/></a>"
      ]
    },
    {
      "cell_type": "code",
      "metadata": {
        "id": "7BNO7v-xV_Vf",
        "outputId": "3c0241fe-f0f7-400a-e986-5188b9e44fe0",
        "colab": {
          "base_uri": "https://localhost:8080/"
        }
      },
      "source": [
        "# Mount Google Drive locally\n",
        "from google.colab import drive\n",
        "drive.mount('/content/drive')"
      ],
      "execution_count": 1,
      "outputs": [
        {
          "output_type": "stream",
          "text": [
            "Mounted at /content/drive\n"
          ],
          "name": "stdout"
        }
      ]
    },
    {
      "cell_type": "code",
      "metadata": {
        "id": "VrxRuCAyXKUk",
        "outputId": "d40cab15-91e5-43fb-c752-cb6ad05ca783",
        "colab": {
          "base_uri": "https://localhost:8080/"
        }
      },
      "source": [
        "!pip install aif360"
      ],
      "execution_count": 2,
      "outputs": [
        {
          "output_type": "stream",
          "text": [
            "Collecting aif360\n",
            "\u001b[?25l  Downloading https://files.pythonhosted.org/packages/3b/e9/f2a936a00c65ce7b4d45587a33c4522fabd773f7325d505a87d133a1dabc/aif360-0.3.0-py3-none-any.whl (165kB)\n",
            "\r\u001b[K     |██                              | 10kB 16.3MB/s eta 0:00:01\r\u001b[K     |████                            | 20kB 21.4MB/s eta 0:00:01\r\u001b[K     |██████                          | 30kB 11.3MB/s eta 0:00:01\r\u001b[K     |████████                        | 40kB 8.5MB/s eta 0:00:01\r\u001b[K     |██████████                      | 51kB 4.6MB/s eta 0:00:01\r\u001b[K     |███████████▉                    | 61kB 5.1MB/s eta 0:00:01\r\u001b[K     |█████████████▉                  | 71kB 5.2MB/s eta 0:00:01\r\u001b[K     |███████████████▉                | 81kB 5.5MB/s eta 0:00:01\r\u001b[K     |█████████████████▉              | 92kB 5.8MB/s eta 0:00:01\r\u001b[K     |███████████████████▉            | 102kB 6.1MB/s eta 0:00:01\r\u001b[K     |█████████████████████▊          | 112kB 6.1MB/s eta 0:00:01\r\u001b[K     |███████████████████████▊        | 122kB 6.1MB/s eta 0:00:01\r\u001b[K     |█████████████████████████▊      | 133kB 6.1MB/s eta 0:00:01\r\u001b[K     |███████████████████████████▊    | 143kB 6.1MB/s eta 0:00:01\r\u001b[K     |█████████████████████████████▊  | 153kB 6.1MB/s eta 0:00:01\r\u001b[K     |███████████████████████████████▋| 163kB 6.1MB/s eta 0:00:01\r\u001b[K     |████████████████████████████████| 174kB 6.1MB/s \n",
            "\u001b[?25hRequirement already satisfied: scikit-learn>=0.21 in /usr/local/lib/python3.6/dist-packages (from aif360) (0.22.2.post1)\n",
            "Requirement already satisfied: pandas>=0.24.0 in /usr/local/lib/python3.6/dist-packages (from aif360) (1.1.4)\n",
            "Requirement already satisfied: numpy>=1.16 in /usr/local/lib/python3.6/dist-packages (from aif360) (1.18.5)\n",
            "Requirement already satisfied: scipy>=1.2.0 in /usr/local/lib/python3.6/dist-packages (from aif360) (1.4.1)\n",
            "Requirement already satisfied: matplotlib in /usr/local/lib/python3.6/dist-packages (from aif360) (3.2.2)\n",
            "Requirement already satisfied: joblib>=0.11 in /usr/local/lib/python3.6/dist-packages (from scikit-learn>=0.21->aif360) (0.17.0)\n",
            "Requirement already satisfied: python-dateutil>=2.7.3 in /usr/local/lib/python3.6/dist-packages (from pandas>=0.24.0->aif360) (2.8.1)\n",
            "Requirement already satisfied: pytz>=2017.2 in /usr/local/lib/python3.6/dist-packages (from pandas>=0.24.0->aif360) (2018.9)\n",
            "Requirement already satisfied: pyparsing!=2.0.4,!=2.1.2,!=2.1.6,>=2.0.1 in /usr/local/lib/python3.6/dist-packages (from matplotlib->aif360) (2.4.7)\n",
            "Requirement already satisfied: kiwisolver>=1.0.1 in /usr/local/lib/python3.6/dist-packages (from matplotlib->aif360) (1.3.1)\n",
            "Requirement already satisfied: cycler>=0.10 in /usr/local/lib/python3.6/dist-packages (from matplotlib->aif360) (0.10.0)\n",
            "Requirement already satisfied: six>=1.5 in /usr/local/lib/python3.6/dist-packages (from python-dateutil>=2.7.3->pandas>=0.24.0->aif360) (1.15.0)\n",
            "Installing collected packages: aif360\n",
            "Successfully installed aif360-0.3.0\n"
          ],
          "name": "stdout"
        }
      ]
    },
    {
      "cell_type": "code",
      "metadata": {
        "id": "vgmXl99rXL-s",
        "outputId": "f6bae022-be2f-4554-b512-b4586e76d185",
        "colab": {
          "base_uri": "https://localhost:8080/"
        }
      },
      "source": [
        "# load the BinaryLabelDataset\n",
        "from joblib import load\n",
        "\n",
        "(dataset_transformed, dataset_pred_transformed) = load(\"/content/drive/MyDrive/liveProject/mortgate_data_wpredict_bld_transformed.pkl.gz\")\n",
        "\n",
        "type(dataset_transformed)"
      ],
      "execution_count": 7,
      "outputs": [
        {
          "output_type": "execute_result",
          "data": {
            "text/plain": [
              "aif360.datasets.binary_label_dataset.BinaryLabelDataset"
            ]
          },
          "metadata": {
            "tags": []
          },
          "execution_count": 7
        }
      ]
    },
    {
      "cell_type": "code",
      "metadata": {
        "id": "LINtKRykXnPF",
        "outputId": "ee1ef265-e2ce-4141-e06e-6db5e621c6f0",
        "colab": {
          "base_uri": "https://localhost:8080/",
          "height": 173
        }
      },
      "source": [
        "from aif360.metrics import ClassificationMetric\n",
        "\n",
        "privileged_group = [{'applicant_sex_name_Female': 0}] \n",
        "unprivileged_group = [{'applicant_sex_name_Female': 1}]\n",
        "\n",
        "metric = ClassificationMetric(dataset_transformed, dataset_pred_transformed, unprivileged_group, privileged_group)\n",
        "\n",
        "fair_metrics = {\"AvgOddsDiff\": metric.average_odds_difference, \"DispImpact\": metric.disparate_impact, \"EqualOppDiff\": metric.equal_opportunity_difference, \"StatParity\": metric.statistical_parity_difference }\n",
        "\n",
        "metrics = [[ff, fair_metrics[ff]()] for ff in fair_metrics]\n",
        "\n",
        "import pandas as pd \n",
        "pd.DataFrame(metrics, columns=[\"Metric\", \"Value\"])"
      ],
      "execution_count": 8,
      "outputs": [
        {
          "output_type": "execute_result",
          "data": {
            "text/html": [
              "<div>\n",
              "<style scoped>\n",
              "    .dataframe tbody tr th:only-of-type {\n",
              "        vertical-align: middle;\n",
              "    }\n",
              "\n",
              "    .dataframe tbody tr th {\n",
              "        vertical-align: top;\n",
              "    }\n",
              "\n",
              "    .dataframe thead th {\n",
              "        text-align: right;\n",
              "    }\n",
              "</style>\n",
              "<table border=\"1\" class=\"dataframe\">\n",
              "  <thead>\n",
              "    <tr style=\"text-align: right;\">\n",
              "      <th></th>\n",
              "      <th>Metric</th>\n",
              "      <th>Value</th>\n",
              "    </tr>\n",
              "  </thead>\n",
              "  <tbody>\n",
              "    <tr>\n",
              "      <th>0</th>\n",
              "      <td>AvgOddsDiff</td>\n",
              "      <td>0.000000</td>\n",
              "    </tr>\n",
              "    <tr>\n",
              "      <th>1</th>\n",
              "      <td>DispImpact</td>\n",
              "      <td>1.138932</td>\n",
              "    </tr>\n",
              "    <tr>\n",
              "      <th>2</th>\n",
              "      <td>EqualOppDiff</td>\n",
              "      <td>0.000000</td>\n",
              "    </tr>\n",
              "    <tr>\n",
              "      <th>3</th>\n",
              "      <td>StatParity</td>\n",
              "      <td>0.066741</td>\n",
              "    </tr>\n",
              "  </tbody>\n",
              "</table>\n",
              "</div>"
            ],
            "text/plain": [
              "         Metric     Value\n",
              "0   AvgOddsDiff  0.000000\n",
              "1    DispImpact  1.138932\n",
              "2  EqualOppDiff  0.000000\n",
              "3    StatParity  0.066741"
            ]
          },
          "metadata": {
            "tags": []
          },
          "execution_count": 8
        }
      ]
    }
  ]
}