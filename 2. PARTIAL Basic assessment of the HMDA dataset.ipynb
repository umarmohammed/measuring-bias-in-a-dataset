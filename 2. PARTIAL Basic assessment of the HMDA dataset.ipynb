{
  "nbformat": 4,
  "nbformat_minor": 0,
  "metadata": {
    "colab": {
      "name": "2. Basic assessment of the HMDA dataset.ipynb",
      "provenance": [],
      "toc_visible": true
    },
    "kernelspec": {
      "name": "python3",
      "display_name": "Python 3"
    }
  },
  "cells": [
    {
      "cell_type": "markdown",
      "metadata": {
        "id": "_F_ZV5HlXc8S"
      },
      "source": [
        "# Load data"
      ]
    },
    {
      "cell_type": "code",
      "metadata": {
        "id": "US-WP0fIwyjc"
      },
      "source": [
        "# Mount Google Drive locally \n",
        "# Using the instructions found here https://colab.research.google.com/notebooks/io.ipynb#scrollTo=u22w3BFiOveA&line=1&uniqifier=1"
      ],
      "execution_count": 1,
      "outputs": []
    },
    {
      "cell_type": "code",
      "metadata": {
        "id": "9igC31jxxLbJ"
      },
      "source": [
        "# Load the pickled dataframe using the \"read_pickle()\"\" function from \"pandas\""
      ],
      "execution_count": 2,
      "outputs": []
    },
    {
      "cell_type": "markdown",
      "metadata": {
        "id": "T22o9Ad9XmnS"
      },
      "source": [
        "# 1: Distribution of key demographics"
      ]
    },
    {
      "cell_type": "code",
      "metadata": {
        "id": "MGRUnd3vuqXV"
      },
      "source": [
        "# We can index a dataframe by a \"column_name\"\r\n",
        "# e.g. df[\"column_name\"] returns the values for that column as a pandas Series object\r\n",
        "#\r\n",
        "# Calling value_counts() on the Series returns a Series containing counts of unique values\r\n",
        "#\r\n",
        "# We can convert the counts to percentages by dividing by number of rows in the dataframe \r\n",
        "#\r\n",
        "#\r\n",
        "# i.e. for a given \"column_name\" we want a series containing\r\n",
        "#\r\n",
        "# Unique values in df[\"column_name\"] as a percentage of number of rows in df"
      ],
      "execution_count": 34,
      "outputs": []
    },
    {
      "cell_type": "markdown",
      "metadata": {
        "id": "-fGimFSiX2eO"
      },
      "source": [
        "#2: Distribution of outcomes"
      ]
    },
    {
      "cell_type": "code",
      "metadata": {
        "id": "_shIhly_u0_D"
      },
      "source": [
        "# we can use the same technique as above to get the frequency of \"action_taken_name\" column\r\n",
        "#\r\n",
        "# freq = Unique values in df[\"action_taken_name\"] as a percentage of number of rows in df"
      ],
      "execution_count": 35,
      "outputs": []
    },
    {
      "cell_type": "code",
      "metadata": {
        "id": "a0NeP3WaXtuc"
      },
      "source": [
        "# A simple way to draw a bar chart using seaborn is by using the \"barplot\" function\n",
        "# passing in lists for the x and y parameters\n",
        "#\n",
        "# For the x values we want the labels of \"freq\" which we can get from the Series \"index\" property\n",
        "# For the y values we want the values of \"freq\" which we can get from the Series \"values\" property"
      ],
      "execution_count": 43,
      "outputs": []
    },
    {
      "cell_type": "markdown",
      "metadata": {
        "id": "CIWGpLuwX5Q-"
      },
      "source": [
        "# 3: Histogram of applicant income"
      ]
    },
    {
      "cell_type": "code",
      "metadata": {
        "id": "PbGgyv-3Xtkv"
      },
      "source": [
        "# A simple way to draw a histgram using seaborn is using the \"histplot\" function\r\n",
        "# passing values for the data, x and bins parameters\r\n",
        "# \r\n",
        "# For the data parameter we can pass the dataframe we loaded at the start of this milestone\r\n",
        "# For the x parameter we pass the name of the column for which we want to chart the histogram\r\n",
        "# Experiment with different values for the bins parameter "
      ],
      "execution_count": 44,
      "outputs": []
    },
    {
      "cell_type": "code",
      "metadata": {
        "id": "67fYhtxPcEP7"
      },
      "source": [
        "# Computing the log of values in a dataframe can be done using the pd.np.log() function\n",
        "# i.e. log of some_column = pd.np.log(df[\"some_column\"])\n",
        "#\n",
        "# Adding a new column to a dataframe uses a similar syntax to indexing a column e.g.\n",
        "# df[\"new_column\"]= <values>\n",
        "#\n",
        "# These can be combined to a new column to the dataframe\n",
        "# \n",
        "# The new column can be plotted using the seaborn histplot method as above"
      ],
      "execution_count": 52,
      "outputs": []
    },
    {
      "cell_type": "markdown",
      "metadata": {
        "id": "-aTScv08YAeF"
      },
      "source": [
        "#4: Histogram of applicant income and its relationship to gender"
      ]
    },
    {
      "cell_type": "code",
      "metadata": {
        "id": "bbxk6EL6cO8h"
      },
      "source": [
        "# Seaborn provides a neat way of splitting the histogram based on another column\r\n",
        "# This is done by passing the name of the other column to the \"hue\" parameter of\r\n",
        "# the \"histplot\" function"
      ],
      "execution_count": 53,
      "outputs": []
    },
    {
      "cell_type": "markdown",
      "metadata": {
        "id": "OEzoR5nVZ8Zy"
      },
      "source": [
        "#5: Contigency tables for key demographics"
      ]
    },
    {
      "cell_type": "code",
      "metadata": {
        "id": "iOW_TZ4BxdyA"
      },
      "source": [
        "# The \"crosstab\" function in the pandas library shows the frequencies between \r\n",
        "# columns of data\r\n",
        "#\r\n",
        "# e.g. for \"column_1\" and \"column_2\"\r\n",
        "# pd.crosstab(df[\"column_1\"], df[\"column_2\"])\r\n",
        "#\r\n",
        "# We want each value in the table as a percentage of number of rows in the \r\n",
        "# dataframe"
      ],
      "execution_count": 56,
      "outputs": []
    },
    {
      "cell_type": "markdown",
      "metadata": {
        "id": "e_l8WGd-YQnH"
      },
      "source": [
        "# 6: Bar plot for gender and outcome"
      ]
    },
    {
      "cell_type": "code",
      "metadata": {
        "id": "gzikuAbKaBU7"
      },
      "source": [
        "# d = the crosstab for \"applicant_sex_name\" and \"action_taken_name\"\n",
        "#\n",
        "# recompute each value in d as percentage of gender by dividing each value in d\n",
        "# by the sum of d across the columns\n",
        "#\n",
        "# use the stack() and reset_index() on d to create a dataframe containing \n",
        "# columns \"applicant_sex_name\", \"action_taken_name\" and \"value\"\n",
        "# The dataframe should contain 4 rows, one for each cross-tabulation value\n",
        "#\n",
        "# Use the \"catplot()\" from the seaborn library passing values for \n",
        "# data, x, y, col, kind and height parameters \n"
      ],
      "execution_count": 171,
      "outputs": []
    }
  ]
}