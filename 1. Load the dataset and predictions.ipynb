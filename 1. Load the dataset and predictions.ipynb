{
  "nbformat": 4,
  "nbformat_minor": 0,
  "metadata": {
    "colab": {
      "name": "1. Load the dataset and predictions.ipynb",
      "provenance": [],
      "authorship_tag": "ABX9TyMk4I/1lxqUdctP0M86pr74",
      "include_colab_link": true
    },
    "kernelspec": {
      "name": "python3",
      "display_name": "Python 3"
    }
  },
  "cells": [
    {
      "cell_type": "markdown",
      "metadata": {
        "id": "view-in-github",
        "colab_type": "text"
      },
      "source": [
        "<a href=\"https://colab.research.google.com/github/umarmohammed/measuring-bias-in-a-dataset/blob/project-4/1.%20Load%20the%20dataset%20and%20predictions.ipynb\" target=\"_parent\"><img src=\"https://colab.research.google.com/assets/colab-badge.svg\" alt=\"Open In Colab\"/></a>"
      ]
    },
    {
      "cell_type": "code",
      "metadata": {
        "colab": {
          "base_uri": "https://localhost:8080/"
        },
        "id": "E7fIjhSsUm91",
        "outputId": "30694a88-a19b-4b82-a5ff-35c36c0f58e6"
      },
      "source": [
        "# Mount Google Drive locally\n",
        "from google.colab import drive\n",
        "drive.mount('/content/drive')"
      ],
      "execution_count": 1,
      "outputs": [
        {
          "output_type": "stream",
          "text": [
            "Mounted at /content/drive\n"
          ],
          "name": "stdout"
        }
      ]
    },
    {
      "cell_type": "code",
      "metadata": {
        "id": "M6q4n6inVEyK"
      },
      "source": [
        "# load the dataset with predictions\n",
        "from joblib import load\n",
        "\n",
        "data = load(\"/content/drive/MyDrive/liveProject/mortgate_data_with_predictions.pkl.gz\")\n",
        "\n",
        "df = data[0]\n",
        "ypred_label = data[1]"
      ],
      "execution_count": 2,
      "outputs": []
    }
  ]
}