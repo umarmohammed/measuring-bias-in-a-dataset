{
  "nbformat": 4,
  "nbformat_minor": 0,
  "metadata": {
    "orig_nbformat": 2,
    "colab": {
      "name": "4. Recompute bias metrics on transformed dataset.ipynb",
      "provenance": [],
      "include_colab_link": true
    },
    "kernelspec": {
      "name": "python3",
      "display_name": "Python 3"
    },
    "accelerator": "GPU"
  },
  "cells": [
    {
      "cell_type": "markdown",
      "metadata": {
        "id": "view-in-github",
        "colab_type": "text"
      },
      "source": [
        "<a href=\"https://colab.research.google.com/github/umarmohammed/measuring-bias-in-a-dataset/blob/project-3/4%20Recompute%20bias%20metrics%20on%20the%20transformed%20dataset.ipynb\" target=\"_parent\"><img src=\"https://colab.research.google.com/assets/colab-badge.svg\" alt=\"Open In Colab\"/></a>"
      ]
    },
    {
      "cell_type": "code",
      "metadata": {
        "id": "m3wTTeauB4oj",
        "colab": {
          "base_uri": "https://localhost:8080/"
        },
        "outputId": "cf6a4e8f-d488-4b73-ffc5-c88475f1edca"
      },
      "source": [
        "# Mount Google Drive locally\n",
        "from google.colab import drive\n",
        "drive.mount('/content/drive')"
      ],
      "execution_count": 1,
      "outputs": [
        {
          "output_type": "stream",
          "text": [
            "Mounted at /content/drive\n"
          ],
          "name": "stdout"
        }
      ]
    },
    {
      "cell_type": "code",
      "metadata": {
        "id": "LX7OjfJDD5fA",
        "colab": {
          "base_uri": "https://localhost:8080/"
        },
        "outputId": "8c0dde8a-9ab2-4179-e82a-e76152cdfb54"
      },
      "source": [
        "!pip install aif360"
      ],
      "execution_count": 2,
      "outputs": [
        {
          "output_type": "stream",
          "text": [
            "Collecting aif360\n",
            "\u001b[?25l  Downloading https://files.pythonhosted.org/packages/3b/e9/f2a936a00c65ce7b4d45587a33c4522fabd773f7325d505a87d133a1dabc/aif360-0.3.0-py3-none-any.whl (165kB)\n",
            "\r\u001b[K     |██                              | 10kB 22.3MB/s eta 0:00:01\r\u001b[K     |████                            | 20kB 29.1MB/s eta 0:00:01\r\u001b[K     |██████                          | 30kB 24.8MB/s eta 0:00:01\r\u001b[K     |████████                        | 40kB 20.0MB/s eta 0:00:01\r\u001b[K     |██████████                      | 51kB 15.5MB/s eta 0:00:01\r\u001b[K     |███████████▉                    | 61kB 15.2MB/s eta 0:00:01\r\u001b[K     |█████████████▉                  | 71kB 14.5MB/s eta 0:00:01\r\u001b[K     |███████████████▉                | 81kB 13.4MB/s eta 0:00:01\r\u001b[K     |█████████████████▉              | 92kB 13.4MB/s eta 0:00:01\r\u001b[K     |███████████████████▉            | 102kB 13.4MB/s eta 0:00:01\r\u001b[K     |█████████████████████▊          | 112kB 13.4MB/s eta 0:00:01\r\u001b[K     |███████████████████████▊        | 122kB 13.4MB/s eta 0:00:01\r\u001b[K     |█████████████████████████▊      | 133kB 13.4MB/s eta 0:00:01\r\u001b[K     |███████████████████████████▊    | 143kB 13.4MB/s eta 0:00:01\r\u001b[K     |█████████████████████████████▊  | 153kB 13.4MB/s eta 0:00:01\r\u001b[K     |███████████████████████████████▋| 163kB 13.4MB/s eta 0:00:01\r\u001b[K     |████████████████████████████████| 174kB 13.4MB/s \n",
            "\u001b[?25hRequirement already satisfied: matplotlib in /usr/local/lib/python3.6/dist-packages (from aif360) (3.2.2)\n",
            "Requirement already satisfied: numpy>=1.16 in /usr/local/lib/python3.6/dist-packages (from aif360) (1.18.5)\n",
            "Requirement already satisfied: scikit-learn>=0.21 in /usr/local/lib/python3.6/dist-packages (from aif360) (0.22.2.post1)\n",
            "Requirement already satisfied: pandas>=0.24.0 in /usr/local/lib/python3.6/dist-packages (from aif360) (1.1.4)\n",
            "Requirement already satisfied: scipy>=1.2.0 in /usr/local/lib/python3.6/dist-packages (from aif360) (1.4.1)\n",
            "Requirement already satisfied: kiwisolver>=1.0.1 in /usr/local/lib/python3.6/dist-packages (from matplotlib->aif360) (1.3.1)\n",
            "Requirement already satisfied: cycler>=0.10 in /usr/local/lib/python3.6/dist-packages (from matplotlib->aif360) (0.10.0)\n",
            "Requirement already satisfied: pyparsing!=2.0.4,!=2.1.2,!=2.1.6,>=2.0.1 in /usr/local/lib/python3.6/dist-packages (from matplotlib->aif360) (2.4.7)\n",
            "Requirement already satisfied: python-dateutil>=2.1 in /usr/local/lib/python3.6/dist-packages (from matplotlib->aif360) (2.8.1)\n",
            "Requirement already satisfied: joblib>=0.11 in /usr/local/lib/python3.6/dist-packages (from scikit-learn>=0.21->aif360) (0.17.0)\n",
            "Requirement already satisfied: pytz>=2017.2 in /usr/local/lib/python3.6/dist-packages (from pandas>=0.24.0->aif360) (2018.9)\n",
            "Requirement already satisfied: six in /usr/local/lib/python3.6/dist-packages (from cycler>=0.10->matplotlib->aif360) (1.15.0)\n",
            "Installing collected packages: aif360\n",
            "Successfully installed aif360-0.3.0\n"
          ],
          "name": "stdout"
        }
      ]
    },
    {
      "cell_type": "code",
      "metadata": {
        "id": "mqfSXL80DRjr"
      },
      "source": [
        "# load the transformed BinaryLabelDataset \n",
        "from joblib import load\n",
        "\n",
        "dataset_transformed = load(\"/content/drive/MyDrive/liveProject/mortgage_data_transformed_bld.pkl.gz\")"
      ],
      "execution_count": 3,
      "outputs": []
    },
    {
      "cell_type": "code",
      "metadata": {
        "id": "GYaMEd4wD_bJ",
        "colab": {
          "base_uri": "https://localhost:8080/",
          "height": 106
        },
        "outputId": "2e90fe48-80b8-43a0-929f-0b7e137077d1"
      },
      "source": [
        "# Recompute bias metrics\n",
        "\n",
        "from aif360.metrics import BinaryLabelDatasetMetric\n",
        "\n",
        "privileged_group = [{'applicant_sex_name_Female': 0}] \n",
        "unprivileged_group = [{'applicant_sex_name_Female': 1}]\n",
        "\n",
        "metric = BinaryLabelDatasetMetric(dataset_transformed, unprivileged_group, privileged_group)\n",
        "\n",
        "fair_metrics = {\"DispImpact\": metric.disparate_impact, \"StatParity\": metric.statistical_parity_difference }\n",
        "\n",
        "metrics = [[ff, fair_metrics[ff]()] for ff in fair_metrics]\n",
        "\n",
        "import pandas as pd \n",
        "pd.DataFrame(metrics, columns=[\"Metric\", \"Value\"])"
      ],
      "execution_count": 4,
      "outputs": [
        {
          "output_type": "execute_result",
          "data": {
            "text/html": [
              "<div>\n",
              "<style scoped>\n",
              "    .dataframe tbody tr th:only-of-type {\n",
              "        vertical-align: middle;\n",
              "    }\n",
              "\n",
              "    .dataframe tbody tr th {\n",
              "        vertical-align: top;\n",
              "    }\n",
              "\n",
              "    .dataframe thead th {\n",
              "        text-align: right;\n",
              "    }\n",
              "</style>\n",
              "<table border=\"1\" class=\"dataframe\">\n",
              "  <thead>\n",
              "    <tr style=\"text-align: right;\">\n",
              "      <th></th>\n",
              "      <th>Metric</th>\n",
              "      <th>Value</th>\n",
              "    </tr>\n",
              "  </thead>\n",
              "  <tbody>\n",
              "    <tr>\n",
              "      <th>0</th>\n",
              "      <td>DispImpact</td>\n",
              "      <td>1.000000e+00</td>\n",
              "    </tr>\n",
              "    <tr>\n",
              "      <th>1</th>\n",
              "      <td>StatParity</td>\n",
              "      <td>2.220446e-16</td>\n",
              "    </tr>\n",
              "  </tbody>\n",
              "</table>\n",
              "</div>"
            ],
            "text/plain": [
              "       Metric         Value\n",
              "0  DispImpact  1.000000e+00\n",
              "1  StatParity  2.220446e-16"
            ]
          },
          "metadata": {
            "tags": []
          },
          "execution_count": 4
        }
      ]
    },
    {
      "cell_type": "code",
      "metadata": {
        "id": "HXFSJuuxKbbV",
        "colab": {
          "base_uri": "https://localhost:8080/"
        },
        "outputId": "f7df655a-0f11-41d7-da54-74cb5b47f703"
      },
      "source": [
        "# Save the dataset and weights in tuple\n",
        "from joblib import dump \n",
        "\n",
        "df = dataset_transformed.convert_to_dataframe()[0]\n",
        "instance_weights = dataset_transformed.instance_weights\n",
        "\n",
        "dump((df, instance_weights), \"/content/drive/MyDrive/liveProject/mortgage_data_transformed.pkl.gz\")"
      ],
      "execution_count": 6,
      "outputs": [
        {
          "output_type": "execute_result",
          "data": {
            "text/plain": [
              "['/content/drive/MyDrive/liveProject/mortgage_data_transformed.pkl.gz']"
            ]
          },
          "metadata": {
            "tags": []
          },
          "execution_count": 6
        }
      ]
    }
  ]
}