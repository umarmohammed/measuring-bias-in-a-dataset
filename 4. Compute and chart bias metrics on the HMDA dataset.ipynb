{
  "nbformat": 4,
  "nbformat_minor": 0,
  "metadata": {
    "colab": {
      "name": "4. Compute and chart bias metrics on the HMDA dataset",
      "provenance": [],
      "collapsed_sections": [],
      "authorship_tag": "ABX9TyOtX9ES9TqKiiZuNN6RvJxG",
      "include_colab_link": true
    },
    "kernelspec": {
      "name": "python3",
      "display_name": "Python 3"
    }
  },
  "cells": [
    {
      "cell_type": "markdown",
      "metadata": {
        "id": "view-in-github",
        "colab_type": "text"
      },
      "source": [
        "<a href=\"https://colab.research.google.com/github/umarmohammed/measuring-bias-in-a-dataset/blob/project-1/4.%20Compute%20and%20chart%20bias%20metrics%20on%20the%20HMDA%20dataset.ipynb\" target=\"_parent\"><img src=\"https://colab.research.google.com/assets/colab-badge.svg\" alt=\"Open In Colab\"/></a>"
      ]
    },
    {
      "cell_type": "code",
      "metadata": {
        "colab": {
          "base_uri": "https://localhost:8080/"
        },
        "id": "gcsjcVMC6MZl",
        "outputId": "6d7458b5-4f4a-4ae9-8965-1b6cd0a4154b"
      },
      "source": [
        "# Mount Google Drive locally\n",
        "from google.colab import drive\n",
        "drive.mount('/content/drive')\n",
        "\n",
        "# Load the dataset into a pandas dataframe\n",
        "import pickle\n",
        "# data = pickle.load()\n",
        "# X = data[\"X\"]\n",
        "# y = data[\"y\"]\n",
        "\n",
        "with open(\"/content/drive/My Drive/liveProject/mortgage_data_preprocess.pkl.gz\", \"rb\") as pickle_file:\n",
        "    data = pickle.load(pickle_file)\n",
        "    X = data[0]\n",
        "    y = data[1]"
      ],
      "execution_count": 48,
      "outputs": [
        {
          "output_type": "stream",
          "text": [
            "Drive already mounted at /content/drive; to attempt to forcibly remount, call drive.mount(\"/content/drive\", force_remount=True).\n"
          ],
          "name": "stdout"
        }
      ]
    },
    {
      "cell_type": "code",
      "metadata": {
        "colab": {
          "base_uri": "https://localhost:8080/"
        },
        "id": "bty8l69ha2_S",
        "outputId": "3b6e16f9-2130-4140-e3e7-8c109f508969"
      },
      "source": [
        "# Compute the Disparate Impact metric\n",
        "def DispImpact(y, gmaj, gmin):\n",
        "  ### Disparate Impact (a.k.a. Adverse Impact Ratio)\n",
        "  SR_min = y[gmin==1].mean() # success rate minority\n",
        "  SR_maj = y[gmaj==1].mean() # success rate majority\n",
        "  return SR_min/SR_maj\n",
        "\n",
        "gmaj = X[['applicant_sex_name_Male']]\n",
        "gmin = X[['applicant_sex_name_Female']]\n",
        "\n",
        "DispImpact(y.values.ravel(), gmaj.values.ravel(), gmin.values.ravel())"
      ],
      "execution_count": 51,
      "outputs": [
        {
          "output_type": "execute_result",
          "data": {
            "text/plain": [
              "1.1377176504431472"
            ]
          },
          "metadata": {
            "tags": []
          },
          "execution_count": 51
        }
      ]
    },
    {
      "cell_type": "code",
      "metadata": {
        "colab": {
          "base_uri": "https://localhost:8080/"
        },
        "id": "1j7aPVxM6Z4K",
        "outputId": "8e71466e-9a27-4fa2-c0e9-7856ca6cd0e1"
      },
      "source": [
        "import numpy as np\n",
        "\n",
        "# Compute the 2-SD Rule\n",
        "def TwoSDRule(y, gmaj, gmin):\n",
        "    ### 2-SD Rule\n",
        "    SR_min = y[gmin==1].mean() # success rate minority\n",
        "    SR_maj = y[gmaj==1].mean() # success rate majority\n",
        "    SR_T = y.mean() # success rate total\n",
        "    P_min = (gmin==1).mean() # minority proportion\n",
        "    N = len(y)\n",
        "    return (SR_min - SR_maj)/np.sqrt( (SR_T * (1.0 - SR_T))/(N * P_min * (1 - P_min)))\n",
        "  \n",
        "gmaj = X[['applicant_sex_name_Male']]\n",
        "gmin = X[['applicant_sex_name_Female']]\n",
        "\n",
        "TwoSDRule(y.values.ravel(), gmaj.values.ravel(), gmin.values.ravel())"
      ],
      "execution_count": 53,
      "outputs": [
        {
          "output_type": "execute_result",
          "data": {
            "text/plain": [
              "26.970897359651413"
            ]
          },
          "metadata": {
            "tags": []
          },
          "execution_count": 53
        }
      ]
    }
  ]
}