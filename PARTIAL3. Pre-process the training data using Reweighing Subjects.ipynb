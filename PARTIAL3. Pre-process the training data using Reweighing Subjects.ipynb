{
  "nbformat": 4,
  "nbformat_minor": 0,
  "metadata": {
    "colab": {
      "name": "3. Pre-process the training data using Reweighing Subjects.ipynb",
      "provenance": [],
      "collapsed_sections": []
    },
    "kernelspec": {
      "name": "python3",
      "display_name": "Python 3"
    }
  },
  "cells": [
    {
      "cell_type": "markdown",
      "metadata": {
        "id": "Kl_Q5gqNDn8B"
      },
      "source": [
        "# Load the data"
      ]
    },
    {
      "cell_type": "code",
      "metadata": {
        "id": "sXDV0Fu7DnY9"
      },
      "source": [
        "# Mount Google Drive locally \r\n",
        "# Using the instructions found here https://colab.research.google.com/notebooks/io.ipynb#scrollTo=u22w3BFiOveA&line=1&uniqifier=1"
      ],
      "execution_count": null,
      "outputs": []
    },
    {
      "cell_type": "code",
      "metadata": {
        "id": "vUu-GT_ZDnLV"
      },
      "source": [
        "# Load the pickled dataframe using the \"read_pickle()\"\" function from \"pandas\"\r\n",
        "# df = ..."
      ],
      "execution_count": null,
      "outputs": []
    },
    {
      "cell_type": "markdown",
      "metadata": {
        "id": "Y2cE92kLDwI1"
      },
      "source": [
        "# Install AIF360"
      ]
    },
    {
      "cell_type": "markdown",
      "metadata": {
        "id": "qXHFE9YhK94K"
      },
      "source": [
        ""
      ]
    },
    {
      "cell_type": "code",
      "metadata": {
        "id": "fbnS0zOjDyd_"
      },
      "source": [
        "!pip install aif360"
      ],
      "execution_count": null,
      "outputs": []
    },
    {
      "cell_type": "code",
      "metadata": {
        "id": "M2Mqp7ukNhME"
      },
      "source": [
        "# Set up the fairness metrics to be computed using AIF360\r\n",
        "from aif360.datasets import BinaryLabelDataset\r\n",
        "from aif360.metrics import BinaryLabelDatasetMetric\r\n",
        "from aif360.metrics import ClassificationMetric\r\n",
        "\r\n",
        "# privileged_group = ...\r\n",
        "# unprivileged_group = ..."
      ],
      "execution_count": null,
      "outputs": []
    },
    {
      "cell_type": "markdown",
      "metadata": {
        "id": "GqhyutBJD7so"
      },
      "source": [
        "# Use the reweighing subjects technique"
      ]
    },
    {
      "cell_type": "code",
      "metadata": {
        "id": "XEn90iA5C5Jw"
      },
      "source": [
        "# Create a Binary Label Dataset from the training data\r\n",
        "# dataset = BinaryLabelDataset(...)\r\n",
        "\r\n",
        "# Use Reweighing to assign weights to each training data tuple\r\n",
        "from aif360.algorithms.preprocessing import Reweighing\r\n",
        "\r\n",
        "# rw = Reweighing(...)\r\n",
        "# dataset_transformed = ..."
      ],
      "execution_count": null,
      "outputs": []
    },
    {
      "cell_type": "code",
      "metadata": {
        "id": "DGHqMKR9DBgG"
      },
      "source": [
        "# View the resulting dataset with sample weights allocated\r\n",
        "dataset_transformed"
      ],
      "execution_count": null,
      "outputs": []
    },
    {
      "cell_type": "code",
      "metadata": {
        "id": "Mt8NDlLtqh-_"
      },
      "source": [
        "# Convert the result to a more general format\r\n",
        "\r\n",
        "# df = ...\r\n",
        "# instance_weights = ..."
      ],
      "execution_count": null,
      "outputs": []
    },
    {
      "cell_type": "code",
      "metadata": {
        "id": "Vg7xSVwBqU98"
      },
      "source": [
        " # Create a BinaryLabelDatasetMetric\r\n",
        "\r\n",
        "# metric_transformed = BinaryLabelDatasetMetric(...)"
      ],
      "execution_count": null,
      "outputs": []
    },
    {
      "cell_type": "markdown",
      "metadata": {
        "id": "8gEuvVILEkiT"
      },
      "source": [
        "# Assess fairness of the preprocessed training dataset"
      ]
    },
    {
      "cell_type": "code",
      "metadata": {
        "id": "fsHyZsZwQQmY"
      },
      "source": [
        "# Compute fairness metrics\r\n",
        "\r\n",
        "fairness_df = pd.DataFrame(columns=[\"Metric\", \"Value\", \"Min\", \"Max\"])\r\n",
        "# fairness_df.loc[0] = ['Disparate Impact'] + list((..., 0.8, 1.2))\r\n",
        "# fairness_df.loc[1] = ['Statistical Parity Difference'] + list(..., -0.1, 0.1))\r\n",
        "\r\n",
        "fairness_df"
      ],
      "execution_count": null,
      "outputs": []
    },
    {
      "cell_type": "code",
      "metadata": {
        "id": "TIegHPlrqcdq"
      },
      "source": [
        "# Chart the metrics\r\n",
        "\r\n",
        "import matplotlib.pyplot as plt\r\n",
        "import seaborn as sns\r\n",
        "import matplotlib.patches as patches\r\n",
        "import numpy as np\r\n",
        "\r\n",
        "def plot_metrics(df_fair): \r\n",
        "  def plot_metric(metric, ylim):\r\n",
        "    fig, ax = plt.subplots()\r\n",
        "    ax = sns.barplot(data=metric, x=\"Metric\", y=\"Value\")\r\n",
        "    plt.axhline(np.mean(metric[[\"Min\", \"Max\"]].values), color='black')\r\n",
        "    plt.ylim(*ylim)\r\n",
        "    range_height = metric[[\"Max\"]].values[0][0] - metric[[\"Min\"]].values[0][0]\r\n",
        "    ax.add_patch(patches.Rectangle((-1, metric[[\"Min\"]].values[0][0]), 2 , range_height, facecolor=\"green\", alpha=0.3))\r\n",
        "\r\n",
        "  plot_metric(df_fair.iloc[[0]], (0, 2))\r\n",
        "  plot_metric(df_fair.iloc[[1]], (-1, 1))\r\n",
        "\r\n",
        "plot_metrics(fairness_df)"
      ],
      "execution_count": null,
      "outputs": []
    }
  ]
}