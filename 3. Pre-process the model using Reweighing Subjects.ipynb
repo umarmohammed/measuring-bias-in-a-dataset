{
  "nbformat": 4,
  "nbformat_minor": 0,
  "metadata": {
    "orig_nbformat": 2,
    "colab": {
      "name": "3. Pre-process the mode using Reweighing Subjects.ipynb",
      "provenance": [],
      "include_colab_link": true
    },
    "kernelspec": {
      "name": "python3",
      "display_name": "Python 3"
    },
    "accelerator": "GPU"
  },
  "cells": [
    {
      "cell_type": "markdown",
      "metadata": {
        "id": "view-in-github",
        "colab_type": "text"
      },
      "source": [
        "<a href=\"https://colab.research.google.com/github/umarmohammed/measuring-bias-in-a-dataset/blob/project-3/3.%20Pre-process%20the%20model%20using%20Reweighing%20Subjects.ipynb\" target=\"_parent\"><img src=\"https://colab.research.google.com/assets/colab-badge.svg\" alt=\"Open In Colab\"/></a>"
      ]
    },
    {
      "cell_type": "code",
      "metadata": {
        "id": "m3wTTeauB4oj",
        "colab": {
          "base_uri": "https://localhost:8080/"
        },
        "outputId": "168d38ca-b3bb-438d-d2d9-bfdbc6ad17cb"
      },
      "source": [
        "# Mount Google Drive locally\n",
        "from google.colab import drive\n",
        "drive.mount('/content/drive')"
      ],
      "execution_count": 1,
      "outputs": [
        {
          "output_type": "stream",
          "text": [
            "Mounted at /content/drive\n"
          ],
          "name": "stdout"
        }
      ]
    },
    {
      "cell_type": "code",
      "metadata": {
        "id": "LX7OjfJDD5fA",
        "colab": {
          "base_uri": "https://localhost:8080/"
        },
        "outputId": "3f72ef6b-603e-421e-d27a-d5cbc6a469db"
      },
      "source": [
        "!pip install aif360"
      ],
      "execution_count": 2,
      "outputs": [
        {
          "output_type": "stream",
          "text": [
            "Collecting aif360\n",
            "\u001b[?25l  Downloading https://files.pythonhosted.org/packages/3b/e9/f2a936a00c65ce7b4d45587a33c4522fabd773f7325d505a87d133a1dabc/aif360-0.3.0-py3-none-any.whl (165kB)\n",
            "\r\u001b[K     |██                              | 10kB 24.9MB/s eta 0:00:01\r\u001b[K     |████                            | 20kB 15.4MB/s eta 0:00:01\r\u001b[K     |██████                          | 30kB 14.0MB/s eta 0:00:01\r\u001b[K     |████████                        | 40kB 13.9MB/s eta 0:00:01\r\u001b[K     |██████████                      | 51kB 11.2MB/s eta 0:00:01\r\u001b[K     |███████████▉                    | 61kB 11.2MB/s eta 0:00:01\r\u001b[K     |█████████████▉                  | 71kB 11.1MB/s eta 0:00:01\r\u001b[K     |███████████████▉                | 81kB 11.3MB/s eta 0:00:01\r\u001b[K     |█████████████████▉              | 92kB 11.5MB/s eta 0:00:01\r\u001b[K     |███████████████████▉            | 102kB 12.4MB/s eta 0:00:01\r\u001b[K     |█████████████████████▊          | 112kB 12.4MB/s eta 0:00:01\r\u001b[K     |███████████████████████▊        | 122kB 12.4MB/s eta 0:00:01\r\u001b[K     |█████████████████████████▊      | 133kB 12.4MB/s eta 0:00:01\r\u001b[K     |███████████████████████████▊    | 143kB 12.4MB/s eta 0:00:01\r\u001b[K     |█████████████████████████████▊  | 153kB 12.4MB/s eta 0:00:01\r\u001b[K     |███████████████████████████████▋| 163kB 12.4MB/s eta 0:00:01\r\u001b[K     |████████████████████████████████| 174kB 12.4MB/s \n",
            "\u001b[?25hRequirement already satisfied: matplotlib in /usr/local/lib/python3.6/dist-packages (from aif360) (3.2.2)\n",
            "Requirement already satisfied: scikit-learn>=0.21 in /usr/local/lib/python3.6/dist-packages (from aif360) (0.22.2.post1)\n",
            "Requirement already satisfied: scipy>=1.2.0 in /usr/local/lib/python3.6/dist-packages (from aif360) (1.4.1)\n",
            "Requirement already satisfied: pandas>=0.24.0 in /usr/local/lib/python3.6/dist-packages (from aif360) (1.1.4)\n",
            "Requirement already satisfied: numpy>=1.16 in /usr/local/lib/python3.6/dist-packages (from aif360) (1.18.5)\n",
            "Requirement already satisfied: kiwisolver>=1.0.1 in /usr/local/lib/python3.6/dist-packages (from matplotlib->aif360) (1.3.1)\n",
            "Requirement already satisfied: python-dateutil>=2.1 in /usr/local/lib/python3.6/dist-packages (from matplotlib->aif360) (2.8.1)\n",
            "Requirement already satisfied: cycler>=0.10 in /usr/local/lib/python3.6/dist-packages (from matplotlib->aif360) (0.10.0)\n",
            "Requirement already satisfied: pyparsing!=2.0.4,!=2.1.2,!=2.1.6,>=2.0.1 in /usr/local/lib/python3.6/dist-packages (from matplotlib->aif360) (2.4.7)\n",
            "Requirement already satisfied: joblib>=0.11 in /usr/local/lib/python3.6/dist-packages (from scikit-learn>=0.21->aif360) (0.17.0)\n",
            "Requirement already satisfied: pytz>=2017.2 in /usr/local/lib/python3.6/dist-packages (from pandas>=0.24.0->aif360) (2018.9)\n",
            "Requirement already satisfied: six>=1.5 in /usr/local/lib/python3.6/dist-packages (from python-dateutil>=2.1->matplotlib->aif360) (1.15.0)\n",
            "Installing collected packages: aif360\n",
            "Successfully installed aif360-0.3.0\n"
          ],
          "name": "stdout"
        }
      ]
    },
    {
      "cell_type": "code",
      "metadata": {
        "id": "mqfSXL80DRjr"
      },
      "source": [
        "# load the BinaryLabelDataset \n",
        "from joblib import load\n",
        "\n",
        "dataset = load(\"/content/drive/MyDrive/liveProject/mortgage_data_preprocess_bld.pkl.gz\")"
      ],
      "execution_count": 3,
      "outputs": []
    },
    {
      "cell_type": "code",
      "metadata": {
        "id": "GYaMEd4wD_bJ",
        "colab": {
          "base_uri": "https://localhost:8080/"
        },
        "outputId": "bb6c65db-07db-45bb-a4ab-13eec7c51f83"
      },
      "source": [
        "# Use the Reweighing subjects algorithm\n",
        "\n",
        "from aif360.algorithms.preprocessing import Reweighing\n",
        "\n",
        "privileged_group = [{'applicant_sex_name_Female': 0}] \n",
        "unprivileged_group = [{'applicant_sex_name_Female': 1}]\n",
        "\n",
        "rw = Reweighing(unprivileged_group, privileged_group)\n",
        "\n",
        "dataset_transformed = rw.fit_transform(dataset)\n",
        "\n",
        "dataset_transformed"
      ],
      "execution_count": 6,
      "outputs": [
        {
          "output_type": "execute_result",
          "data": {
            "text/plain": [
              "               instance weights  ... labels\n",
              "                                 ...       \n",
              "                                 ...       \n",
              "instance names                   ...       \n",
              "0                      0.962528  ...    0.0\n",
              "1                      1.103053  ...    0.0\n",
              "2                      1.103053  ...    0.0\n",
              "3                      0.962528  ...    0.0\n",
              "4                      0.962528  ...    0.0\n",
              "...                         ...  ...    ...\n",
              "199995                 1.040508  ...    1.0\n",
              "199996                 1.040508  ...    1.0\n",
              "199997                 1.040508  ...    1.0\n",
              "199998                 1.040508  ...    1.0\n",
              "199999                 1.040508  ...    1.0\n",
              "\n",
              "[200000 rows x 37 columns]"
            ]
          },
          "metadata": {
            "tags": []
          },
          "execution_count": 6
        }
      ]
    },
    {
      "cell_type": "code",
      "metadata": {
        "id": "IQ4XhF1AETTB",
        "outputId": "0dbde461-eefe-446f-8f77-fb4c0a89b182",
        "colab": {
          "base_uri": "https://localhost:8080/"
        }
      },
      "source": [
        "from joblib import dump\n",
        "\n",
        "dump(dataset_transformed, \"/content/drive/MyDrive/liveProject/mortgage_data_transformed_bld.pkl.gz\")"
      ],
      "execution_count": 7,
      "outputs": [
        {
          "output_type": "execute_result",
          "data": {
            "text/plain": [
              "['/content/drive/MyDrive/liveProject/mortgage_data_transformed_bld.pkl.gz']"
            ]
          },
          "metadata": {
            "tags": []
          },
          "execution_count": 7
        }
      ]
    }
  ]
}