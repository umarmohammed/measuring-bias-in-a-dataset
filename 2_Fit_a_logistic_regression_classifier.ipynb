{
  "nbformat": 4,
  "nbformat_minor": 0,
  "metadata": {
    "colab": {
      "name": "2. Fit a logistic regression classifier.ipynb",
      "provenance": [],
      "collapsed_sections": []
    },
    "kernelspec": {
      "name": "python3",
      "display_name": "Python 3"
    }
  },
  "cells": [
    {
      "cell_type": "markdown",
      "metadata": {
        "id": "SYN6sVCtnhmU"
      },
      "source": [
        "## Load data"
      ]
    },
    {
      "cell_type": "code",
      "metadata": {
        "colab": {
          "base_uri": "https://localhost:8080/"
        },
        "id": "h0LNPMYjfbt6",
        "outputId": "ba2ed971-40bd-4028-893a-2a14a2dddb11"
      },
      "source": [
        "# Mount Google Drive locally\n",
        "from google.colab import drive\n",
        "drive.mount('/content/drive')"
      ],
      "execution_count": null,
      "outputs": [
        {
          "output_type": "stream",
          "text": [
            "Mounted at /content/drive\n"
          ],
          "name": "stdout"
        }
      ]
    },
    {
      "cell_type": "code",
      "metadata": {
        "id": "dbtDnaw-gGQM"
      },
      "source": [
        "# Load the preprocessed dataset\n",
        "from joblib import load\n",
        "\n",
        "df = load(\"/content/drive/My Drive/mortgage_data_project_one_preprocess.pkl.gz\")"
      ],
      "execution_count": null,
      "outputs": []
    },
    {
      "cell_type": "markdown",
      "metadata": {
        "id": "lQuQeqU4nnL6"
      },
      "source": [
        "## Separating input and output variables"
      ]
    },
    {
      "cell_type": "code",
      "metadata": {
        "id": "tJuTQNXngSX3"
      },
      "source": [
        "# removing race, ethnicity, sex and minority population from X\n",
        "X = df[[\n",
        "    'loan_amount_000s', 'applicant_income_000s', 'population', 'hud_median_family_income', 'tract_to_msamd_income', \n",
        "    'number_of_owner_occupied_units', 'number_of_1_to_4_family_units', 'agency_abbr_CFPB', 'agency_abbr_FDIC',\n",
        "       'agency_abbr_FRS', 'agency_abbr_HUD', 'agency_abbr_NCUA',\n",
        "       'agency_abbr_OCC', 'owner_occupancy_name_Not applicable',\n",
        "       'owner_occupancy_name_Not owner-occupied as a principal dwelling',\n",
        "       'owner_occupancy_name_Owner-occupied as a principal dwelling',\n",
        "       'property_type_name_Manufactured housing',\n",
        "       'property_type_name_One-to-four family dwelling (other than manufactured housing)',\n",
        "       'loan_purpose_name_Home improvement', 'loan_purpose_name_Home purchase',\n",
        "       'loan_purpose_name_Refinancing', 'loan_type_name_Conventional',\n",
        "       'loan_type_name_FHA-insured', 'loan_type_name_FSA/RHS-guaranteed',\n",
        "       'loan_type_name_VA-guaranteed'\n",
        "]].copy()\n",
        "\n",
        "# instantiating the target variable\n",
        "y = df['action_taken_name']"
      ],
      "execution_count": null,
      "outputs": []
    },
    {
      "cell_type": "markdown",
      "metadata": {
        "id": "wC7J1sJqnu49"
      },
      "source": [
        "## Logistic Regression"
      ]
    },
    {
      "cell_type": "markdown",
      "metadata": {
        "id": "sB5eMXjdotfA"
      },
      "source": [
        "### Configuration"
      ]
    },
    {
      "cell_type": "code",
      "metadata": {
        "id": "LpTyWRR7giOA"
      },
      "source": [
        "# instantiate the classifier\n",
        "from sklearn.linear_model import LogisticRegression\n",
        "lr = LogisticRegression(random_state=10, solver=\"lbfgs\", penalty=\"none\")\n",
        "\n",
        "# instantiate the cross-validation scheme\n",
        "from sklearn.model_selection import StratifiedKFold\n",
        "mv = StratifiedKFold(n_splits=10, shuffle=True, random_state=10)\n",
        "\n",
        "# setup the metrics to be computed\n",
        "from sklearn import metrics\n",
        "perf_metrics = {\"Accuracy\": metrics.accuracy_score, \n",
        "                \"Precision\": metrics.precision_score, \n",
        "                \"Recall\": metrics.recall_score,\n",
        "                \"AUC\": metrics.roc_auc_score, \n",
        "                \"F1-Score\": metrics.f1_score, \n",
        "                }"
      ],
      "execution_count": null,
      "outputs": []
    },
    {
      "cell_type": "markdown",
      "metadata": {
        "id": "55Yeppm4oynH"
      },
      "source": [
        "### Modelling loop"
      ]
    },
    {
      "cell_type": "code",
      "metadata": {
        "colab": {
          "base_uri": "https://localhost:8080/"
        },
        "id": "DBMTgOYqo2eQ",
        "outputId": "238228c2-8b90-4870-c5c5-d197728d8621"
      },
      "source": [
        "import pandas as pd\r\n",
        "k, i = True, 1\r\n",
        "\r\n",
        "for (train, test) in mv.split(X, y):\r\n",
        "    # fit model\r\n",
        "    lr = lr.fit(X.iloc[train], y.iloc[train].values.ravel())\r\n",
        "    \r\n",
        "    # get predictions in the test set\r\n",
        "    ypred_prob = lr.predict_proba(X.iloc[test]).ravel()[1::2] # get probabilities\r\n",
        "    ypred_class = lr.predict(X.iloc[test])\r\n",
        "\r\n",
        "    # compute performance metrics\r\n",
        "    metrics = []\r\n",
        "    for pf in perf_metrics.keys():\r\n",
        "        if pf in [\"AUC\", \"Brier\"]:\r\n",
        "            metrics += [[pf, perf_metrics[pf](y.iloc[test].values.ravel(), ypred_prob)]]\r\n",
        "        else:\r\n",
        "            metrics += [[pf, perf_metrics[pf](y.iloc[test].values.ravel(), ypred_class)]]\r\n",
        "\r\n",
        "    # concatenate results\r\n",
        "    df_m = pd.DataFrame(metrics, columns=[\"Metric\", \"Value\"])\r\n",
        "    df_m[\"Fold\"] = i\r\n",
        "    i += 1\r\n",
        "    if k:\r\n",
        "        df_metrics = df_m.copy()\r\n",
        "        k=0\r\n",
        "    else:\r\n",
        "        df_metrics = pd.concat([df_metrics, df_m.copy()], axis=0, ignore_index=True)"
      ],
      "execution_count": null,
      "outputs": [
        {
          "output_type": "stream",
          "text": [
            "/usr/local/lib/python3.7/dist-packages/sklearn/linear_model/_logistic.py:940: ConvergenceWarning: lbfgs failed to converge (status=1):\n",
            "STOP: TOTAL NO. of ITERATIONS REACHED LIMIT.\n",
            "\n",
            "Increase the number of iterations (max_iter) or scale the data as shown in:\n",
            "    https://scikit-learn.org/stable/modules/preprocessing.html\n",
            "Please also refer to the documentation for alternative solver options:\n",
            "    https://scikit-learn.org/stable/modules/linear_model.html#logistic-regression\n",
            "  extra_warning_msg=_LOGISTIC_SOLVER_CONVERGENCE_MSG)\n",
            "/usr/local/lib/python3.7/dist-packages/sklearn/linear_model/_logistic.py:940: ConvergenceWarning: lbfgs failed to converge (status=1):\n",
            "STOP: TOTAL NO. of ITERATIONS REACHED LIMIT.\n",
            "\n",
            "Increase the number of iterations (max_iter) or scale the data as shown in:\n",
            "    https://scikit-learn.org/stable/modules/preprocessing.html\n",
            "Please also refer to the documentation for alternative solver options:\n",
            "    https://scikit-learn.org/stable/modules/linear_model.html#logistic-regression\n",
            "  extra_warning_msg=_LOGISTIC_SOLVER_CONVERGENCE_MSG)\n",
            "/usr/local/lib/python3.7/dist-packages/sklearn/linear_model/_logistic.py:940: ConvergenceWarning: lbfgs failed to converge (status=1):\n",
            "STOP: TOTAL NO. of ITERATIONS REACHED LIMIT.\n",
            "\n",
            "Increase the number of iterations (max_iter) or scale the data as shown in:\n",
            "    https://scikit-learn.org/stable/modules/preprocessing.html\n",
            "Please also refer to the documentation for alternative solver options:\n",
            "    https://scikit-learn.org/stable/modules/linear_model.html#logistic-regression\n",
            "  extra_warning_msg=_LOGISTIC_SOLVER_CONVERGENCE_MSG)\n",
            "/usr/local/lib/python3.7/dist-packages/sklearn/linear_model/_logistic.py:940: ConvergenceWarning: lbfgs failed to converge (status=1):\n",
            "STOP: TOTAL NO. of ITERATIONS REACHED LIMIT.\n",
            "\n",
            "Increase the number of iterations (max_iter) or scale the data as shown in:\n",
            "    https://scikit-learn.org/stable/modules/preprocessing.html\n",
            "Please also refer to the documentation for alternative solver options:\n",
            "    https://scikit-learn.org/stable/modules/linear_model.html#logistic-regression\n",
            "  extra_warning_msg=_LOGISTIC_SOLVER_CONVERGENCE_MSG)\n",
            "/usr/local/lib/python3.7/dist-packages/sklearn/linear_model/_logistic.py:940: ConvergenceWarning: lbfgs failed to converge (status=1):\n",
            "STOP: TOTAL NO. of ITERATIONS REACHED LIMIT.\n",
            "\n",
            "Increase the number of iterations (max_iter) or scale the data as shown in:\n",
            "    https://scikit-learn.org/stable/modules/preprocessing.html\n",
            "Please also refer to the documentation for alternative solver options:\n",
            "    https://scikit-learn.org/stable/modules/linear_model.html#logistic-regression\n",
            "  extra_warning_msg=_LOGISTIC_SOLVER_CONVERGENCE_MSG)\n",
            "/usr/local/lib/python3.7/dist-packages/sklearn/linear_model/_logistic.py:940: ConvergenceWarning: lbfgs failed to converge (status=1):\n",
            "STOP: TOTAL NO. of ITERATIONS REACHED LIMIT.\n",
            "\n",
            "Increase the number of iterations (max_iter) or scale the data as shown in:\n",
            "    https://scikit-learn.org/stable/modules/preprocessing.html\n",
            "Please also refer to the documentation for alternative solver options:\n",
            "    https://scikit-learn.org/stable/modules/linear_model.html#logistic-regression\n",
            "  extra_warning_msg=_LOGISTIC_SOLVER_CONVERGENCE_MSG)\n",
            "/usr/local/lib/python3.7/dist-packages/sklearn/linear_model/_logistic.py:940: ConvergenceWarning: lbfgs failed to converge (status=1):\n",
            "STOP: TOTAL NO. of ITERATIONS REACHED LIMIT.\n",
            "\n",
            "Increase the number of iterations (max_iter) or scale the data as shown in:\n",
            "    https://scikit-learn.org/stable/modules/preprocessing.html\n",
            "Please also refer to the documentation for alternative solver options:\n",
            "    https://scikit-learn.org/stable/modules/linear_model.html#logistic-regression\n",
            "  extra_warning_msg=_LOGISTIC_SOLVER_CONVERGENCE_MSG)\n",
            "/usr/local/lib/python3.7/dist-packages/sklearn/linear_model/_logistic.py:940: ConvergenceWarning: lbfgs failed to converge (status=1):\n",
            "STOP: TOTAL NO. of ITERATIONS REACHED LIMIT.\n",
            "\n",
            "Increase the number of iterations (max_iter) or scale the data as shown in:\n",
            "    https://scikit-learn.org/stable/modules/preprocessing.html\n",
            "Please also refer to the documentation for alternative solver options:\n",
            "    https://scikit-learn.org/stable/modules/linear_model.html#logistic-regression\n",
            "  extra_warning_msg=_LOGISTIC_SOLVER_CONVERGENCE_MSG)\n",
            "/usr/local/lib/python3.7/dist-packages/sklearn/linear_model/_logistic.py:940: ConvergenceWarning: lbfgs failed to converge (status=1):\n",
            "STOP: TOTAL NO. of ITERATIONS REACHED LIMIT.\n",
            "\n",
            "Increase the number of iterations (max_iter) or scale the data as shown in:\n",
            "    https://scikit-learn.org/stable/modules/preprocessing.html\n",
            "Please also refer to the documentation for alternative solver options:\n",
            "    https://scikit-learn.org/stable/modules/linear_model.html#logistic-regression\n",
            "  extra_warning_msg=_LOGISTIC_SOLVER_CONVERGENCE_MSG)\n"
          ],
          "name": "stderr"
        }
      ]
    },
    {
      "cell_type": "markdown",
      "metadata": {
        "id": "bhPVAs7_pKwi"
      },
      "source": [
        "### Explore performance metrics"
      ]
    },
    {
      "cell_type": "code",
      "metadata": {
        "colab": {
          "base_uri": "https://localhost:8080/",
          "height": 266
        },
        "id": "AyRUDq5mcwao",
        "outputId": "2ea266bd-a0d9-479f-fa61-696b6ffe26bf"
      },
      "source": [
        "df_metrics.pivot_table(index=\"Metric\", values=\"Value\", aggfunc=[\"mean\", \"std\"])"
      ],
      "execution_count": null,
      "outputs": [
        {
          "output_type": "execute_result",
          "data": {
            "text/html": [
              "<div>\n",
              "<style scoped>\n",
              "    .dataframe tbody tr th:only-of-type {\n",
              "        vertical-align: middle;\n",
              "    }\n",
              "\n",
              "    .dataframe tbody tr th {\n",
              "        vertical-align: top;\n",
              "    }\n",
              "\n",
              "    .dataframe thead tr th {\n",
              "        text-align: left;\n",
              "    }\n",
              "\n",
              "    .dataframe thead tr:last-of-type th {\n",
              "        text-align: right;\n",
              "    }\n",
              "</style>\n",
              "<table border=\"1\" class=\"dataframe\">\n",
              "  <thead>\n",
              "    <tr>\n",
              "      <th></th>\n",
              "      <th>mean</th>\n",
              "      <th>std</th>\n",
              "    </tr>\n",
              "    <tr>\n",
              "      <th></th>\n",
              "      <th>Value</th>\n",
              "      <th>Value</th>\n",
              "    </tr>\n",
              "    <tr>\n",
              "      <th>Metric</th>\n",
              "      <th></th>\n",
              "      <th></th>\n",
              "    </tr>\n",
              "  </thead>\n",
              "  <tbody>\n",
              "    <tr>\n",
              "      <th>AUC</th>\n",
              "      <td>0.783060</td>\n",
              "      <td>0.003692</td>\n",
              "    </tr>\n",
              "    <tr>\n",
              "      <th>Accuracy</th>\n",
              "      <td>0.688111</td>\n",
              "      <td>0.003373</td>\n",
              "    </tr>\n",
              "    <tr>\n",
              "      <th>F1-Score</th>\n",
              "      <td>0.629397</td>\n",
              "      <td>0.005793</td>\n",
              "    </tr>\n",
              "    <tr>\n",
              "      <th>Precision</th>\n",
              "      <td>0.640226</td>\n",
              "      <td>0.003572</td>\n",
              "    </tr>\n",
              "    <tr>\n",
              "      <th>Recall</th>\n",
              "      <td>0.618985</td>\n",
              "      <td>0.009532</td>\n",
              "    </tr>\n",
              "  </tbody>\n",
              "</table>\n",
              "</div>"
            ],
            "text/plain": [
              "               mean       std\n",
              "              Value     Value\n",
              "Metric                       \n",
              "AUC        0.783060  0.003692\n",
              "Accuracy   0.688111  0.003373\n",
              "F1-Score   0.629397  0.005793\n",
              "Precision  0.640226  0.003572\n",
              "Recall     0.618985  0.009532"
            ]
          },
          "metadata": {
            "tags": []
          },
          "execution_count": 10
        }
      ]
    },
    {
      "cell_type": "code",
      "metadata": {
        "colab": {
          "base_uri": "https://localhost:8080/",
          "height": 318
        },
        "id": "5lShBuEcy-R1",
        "outputId": "9ac4004d-db37-45a9-c9ad-12f963a06ab5"
      },
      "source": [
        "df_metrics.boxplot(column='Value', by='Metric')"
      ],
      "execution_count": null,
      "outputs": [
        {
          "output_type": "execute_result",
          "data": {
            "text/plain": [
              "<matplotlib.axes._subplots.AxesSubplot at 0x7fdfdac4fdd0>"
            ]
          },
          "metadata": {
            "tags": []
          },
          "execution_count": 11
        },
        {
          "output_type": "display_data",
          "data": {
            "image/png": "[encoded data removed]",
            "text/plain": [
              "<Figure size 432x288 with 1 Axes>"
            ]
          },
          "metadata": {
            "tags": [],
            "needs_background": "light"
          }
        }
      ]
    }
  ]
}