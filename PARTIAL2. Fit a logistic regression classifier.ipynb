{
  "nbformat": 4,
  "nbformat_minor": 0,
  "metadata": {
    "colab": {
      "name": "2. Fit a logistic regression classifier.ipynb",
      "provenance": [],
      "collapsed_sections": []
    },
    "kernelspec": {
      "name": "python3",
      "display_name": "Python 3"
    }
  },
  "cells": [
    {
      "cell_type": "markdown",
      "metadata": {
        "id": "SYN6sVCtnhmU"
      },
      "source": [
        "## Load data"
      ]
    },
    {
      "cell_type": "code",
      "metadata": {
        "id": "h0LNPMYjfbt6"
      },
      "source": [
        "# Mount Google Drive locally \n",
        "# Using the instructions found here https://colab.research.google.com/notebooks/io.ipynb#scrollTo=u22w3BFiOveA&line=1&uniqifier=1"
      ],
      "execution_count": null,
      "outputs": []
    },
    {
      "cell_type": "code",
      "metadata": {
        "id": "dbtDnaw-gGQM"
      },
      "source": [
        "# Load the pickled dataframe using the \"read_pickle()\"\" function from \"pandas\"\n",
        "# df = ..."
      ],
      "execution_count": null,
      "outputs": []
    },
    {
      "cell_type": "markdown",
      "metadata": {
        "id": "lQuQeqU4nnL6"
      },
      "source": [
        "## Separating input and output variables"
      ]
    },
    {
      "cell_type": "code",
      "metadata": {
        "id": "tJuTQNXngSX3"
      },
      "source": [
        "# removing race, ethnicity, sex and minority population from X\n",
        "# X = df[[...]].copy()\n",
        "\n",
        "# instantiating the target variable\n",
        "# y = df[...]"
      ],
      "execution_count": null,
      "outputs": []
    },
    {
      "cell_type": "markdown",
      "metadata": {
        "id": "wC7J1sJqnu49"
      },
      "source": [
        "## Logistic Regression"
      ]
    },
    {
      "cell_type": "markdown",
      "metadata": {
        "id": "sB5eMXjdotfA"
      },
      "source": [
        "### Configuration"
      ]
    },
    {
      "cell_type": "code",
      "metadata": {
        "id": "LpTyWRR7giOA"
      },
      "source": [
        "# instantiate the classifier\n",
        "from sklearn.linear_model import LogisticRegression\n",
        "# lr = ...\n",
        "\n",
        "# instantiate the cross-validation scheme\n",
        "from sklearn.model_selection import StratifiedKFold\n",
        "# mv = ...\n",
        "\n",
        "# setup the metrics to be computed\n",
        "from sklearn import metrics\n",
        "# perf_metrics = {\"Accuracy\": ..., \n",
        "#                 \"Precision\": ..., \n",
        "#                 \"Recall\": ...,\n",
        "#                 \"AUC\": ..., \n",
        "#                 \"F1-Score\": ..., \n",
        "#                 }"
      ],
      "execution_count": null,
      "outputs": []
    },
    {
      "cell_type": "markdown",
      "metadata": {
        "id": "55Yeppm4oynH"
      },
      "source": [
        "### Modelling loop"
      ]
    },
    {
      "cell_type": "code",
      "metadata": {
        "id": "DBMTgOYqo2eQ"
      },
      "source": [
        "import pandas as pd\r\n",
        "k, i = True, 1\r\n",
        "\r\n",
        "for (train, test) in mv.split(X, y):\r\n",
        "    # fit model\r\n",
        "    # lr = lr.fit(...)\r\n",
        "    \r\n",
        "    # get predictions in the test set\r\n",
        "    # ypred_prob = lr.predict_proba ... # get probabilities\r\n",
        "    # ypred_class = lr.predict ...\r\n",
        "\r\n",
        "    # compute performance metrics\r\n",
        "    metrics = []\r\n",
        "    for pf in perf_metrics.keys():\r\n",
        "        if pf in [\"AUC\", \"Brier\"]:\r\n",
        "            # metrics += [[pf, ...]]\r\n",
        "        else:\r\n",
        "            # metrics += [[pf, ...]]\r\n",
        "\r\n",
        "    # concatenate results\r\n",
        "    df_m = pd.DataFrame(metrics, columns=[\"Metric\", \"Value\"])\r\n",
        "    df_m[\"Fold\"] = i\r\n",
        "    i += 1\r\n",
        "    if k:\r\n",
        "        df_metrics = df_m.copy()\r\n",
        "        k=0\r\n",
        "    else:\r\n",
        "        df_metrics = pd.concat([df_metrics, df_m.copy()], axis=0, ignore_index=True)"
      ],
      "execution_count": null,
      "outputs": []
    },
    {
      "cell_type": "markdown",
      "metadata": {
        "id": "bhPVAs7_pKwi"
      },
      "source": [
        "### Explore performance metrics"
      ]
    },
    {
      "cell_type": "code",
      "metadata": {
        "id": "AyRUDq5mcwao"
      },
      "source": [
        "# df_metrics.pivot_table(...)"
      ],
      "execution_count": null,
      "outputs": []
    },
    {
      "cell_type": "code",
      "metadata": {
        "id": "5lShBuEcy-R1"
      },
      "source": [
        "# df_metrics.boxplot(...)"
      ],
      "execution_count": null,
      "outputs": []
    }
  ]
}
