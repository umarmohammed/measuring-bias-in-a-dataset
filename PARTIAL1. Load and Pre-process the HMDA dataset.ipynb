{
  "nbformat": 4,
  "nbformat_minor": 0,
  "metadata": {
    "colab": {
      "name": "1. Load and Pre-process the HMDA dataset.ipynb",
      "provenance": [],
      "collapsed_sections": [],
      "toc_visible": true
    },
    "kernelspec": {
      "name": "python3",
      "display_name": "Python 3"
    }
  },
  "cells": [
    {
      "cell_type": "markdown",
      "metadata": {
        "id": "bs74keSYFG1K"
      },
      "source": [
        "# Load the dataset"
      ]
    },
    {
      "cell_type": "code",
      "metadata": {
        "id": "ElQO6HmIwed2"
      },
      "source": [
        "# Mount Google Drive locally \n",
        "# Using the instructions found here https://colab.research.google.com/notebooks/io.ipynb#scrollTo=u22w3BFiOveA&line=1&uniqifier=1"
      ],
      "execution_count": null,
      "outputs": []
    },
    {
      "cell_type": "code",
      "metadata": {
        "id": "_5VMvi5Wynl3"
      },
      "source": [
        "# Load the pickled dataframe using the \"read_pickle()\"\" function from \"pandas\"\n",
        "# df = ..."
      ],
      "execution_count": null,
      "outputs": []
    },
    {
      "cell_type": "markdown",
      "metadata": {
        "id": "QaVGsrqsGPQs"
      },
      "source": [
        "# Inspect the dataset"
      ]
    },
    {
      "cell_type": "code",
      "metadata": {
        "id": "y1k2sg7UGUQ9"
      },
      "source": [
        "# The \"shape\" property on a data frame outputs the number of rows and columns"
      ],
      "execution_count": null,
      "outputs": []
    },
    {
      "cell_type": "code",
      "metadata": {
        "id": "v_yGVbhiGiNY"
      },
      "source": [
        "# The \"head()\" on a dataframe outputs the first five rows"
      ],
      "execution_count": null,
      "outputs": []
    },
    {
      "cell_type": "code",
      "metadata": {
        "id": "XEZ33PTpGlp-"
      },
      "source": [
        "# The \"columns\" property on a dataframe outputs the name of the columns\r\n",
        "# Check https://files.consumerfinance.gov/hmda-historic-data-dictionaries/lar_record_codes.pdf for more details"
      ],
      "execution_count": null,
      "outputs": []
    },
    {
      "cell_type": "code",
      "metadata": {
        "id": "iN4V9opBGpMW"
      },
      "source": [
        "# The \"dtypes\" property on a dataframe outputs the types of each columns"
      ],
      "execution_count": null,
      "outputs": []
    },
    {
      "cell_type": "markdown",
      "metadata": {
        "id": "bZKcn5wIGs4r"
      },
      "source": [
        "# Remove redundant columns"
      ]
    },
    {
      "cell_type": "code",
      "metadata": {
        "id": "Y6GCfIjtyqEG"
      },
      "source": [
        "# List of columns to keep\n",
        "keep_vars = ['agency_abbr', 'loan_type_name', 'loan_amount_000s', 'owner_occupancy_name', 'loan_purpose_name', 'property_type_name', 'applicant_ethnicity_name', \n",
        "              'applicant_race_name_1', 'applicant_sex_name', 'applicant_income_000s', 'population', 'minority_population', 'hud_median_family_income', \n",
        "              'tract_to_msamd_income', 'number_of_owner_occupied_units', 'number_of_1_to_4_family_units', 'action_taken_name']\n",
        "\n",
        "# create a copy of the dataframe containing only the columns in keep_vars\n",
        "# df = ..."
      ],
      "execution_count": null,
      "outputs": []
    },
    {
      "cell_type": "markdown",
      "metadata": {
        "id": "pfNegtnfG9Qz"
      },
      "source": [
        "# One-hot encode the categorical columns"
      ]
    },
    {
      "cell_type": "code",
      "metadata": {
        "id": "oR8FUhkRHB3_"
      },
      "source": [
        "# categorical variables\r\n",
        "cat_variables = ['applicant_ethnicity_name', 'applicant_race_name_1', 'applicant_sex_name', 'agency_abbr',\r\n",
        "                                 'owner_occupancy_name', 'property_type_name', 'loan_purpose_name', 'loan_type_name']\r\n",
        "\r\n",
        "# initialise an empty dataframe with the same number of rows as df\r\n",
        "df_cat = pd.DataFrame(index=df.index)\r\n",
        "\r\n",
        "# import OneHotEncoder\r\n",
        "from sklearn.preprocessing import OneHotEncoder\r\n",
        "\r\n",
        "# I will do a loop for pedagogical reasons, but it is not entirely necessary\r\n",
        "for cat in cat_variables:\r\n",
        "    # Fit a OneHotEncoder to current categorical variable\r\n",
        "    # one_hot_func = ...\r\n",
        "    \r\n",
        "    # mapping \r\n",
        "    # cat_mapped = ...\r\n",
        "    \r\n",
        "    # storing\r\n",
        "    for (k, cat_label) in enumerate(one_hot_func.categories_[0]):\r\n",
        "        # df_cat[cat + \"_\" + cat_label] = ...\r\n",
        "\r\n",
        "# Check correct number of one hot encoded columns\r\n",
        "assert(df_cat.shape == (165950,27))"
      ],
      "execution_count": null,
      "outputs": []
    },
    {
      "cell_type": "markdown",
      "metadata": {
        "id": "ry3_FunZHQ2U"
      },
      "source": [
        "# Consolidate a final dataset"
      ]
    },
    {
      "cell_type": "code",
      "metadata": {
        "id": "PYrf62g7HPAq"
      },
      "source": [
        "# other integer variables\r\n",
        "int_variables = ['loan_amount_000s', 'applicant_income_000s', 'population', 'minority_population', \r\n",
        "                 'hud_median_family_income', 'tract_to_msamd_income', 'number_of_owner_occupied_units', \r\n",
        "                 'number_of_1_to_4_family_units']\r\n",
        "\r\n",
        "\r\n",
        "# target variable\r\n",
        "output_variable = ['action_taken_name']\r\n",
        "\r\n",
        "# consolidating a final dataset\r\n",
        "# df_final = ... concatenate int_variables, cat_variables and output_variable\r\n",
        "\r\n",
        "assert(df_final.shape == (165950,36))"
      ],
      "execution_count": null,
      "outputs": []
    },
    {
      "cell_type": "markdown",
      "metadata": {
        "id": "cggGDuTrHZNK"
      },
      "source": [
        "# Save the dataset as a pickled dataframe "
      ]
    },
    {
      "cell_type": "code",
      "metadata": {
        "id": "TwEEHR5kyvD8"
      },
      "source": [
        "# Store the dataset in pickled dictionary\n",
        "df_final.to_pickle(\"/content/drive/My Drive/liveproject/mortgage_data_preprocessed.pkl.gz\")"
      ],
      "execution_count": null,
      "outputs": []
    }
  ]
}
