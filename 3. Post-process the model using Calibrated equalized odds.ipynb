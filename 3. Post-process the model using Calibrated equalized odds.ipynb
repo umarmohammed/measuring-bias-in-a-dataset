{
  "nbformat": 4,
  "nbformat_minor": 0,
  "metadata": {
    "colab": {
      "name": "3. Post-process the model using Calibrated equalized odds.ipynb",
      "provenance": [],
      "authorship_tag": "ABX9TyPl+IF98lf0EqLaL1YMh1GA",
      "include_colab_link": true
    },
    "kernelspec": {
      "name": "python3",
      "display_name": "Python 3"
    }
  },
  "cells": [
    {
      "cell_type": "markdown",
      "metadata": {
        "id": "view-in-github",
        "colab_type": "text"
      },
      "source": [
        "<a href=\"https://colab.research.google.com/github/umarmohammed/measuring-bias-in-a-dataset/blob/project-4/3.%20Post-process%20the%20model%20using%20Calibrated%20equalized%20odds.ipynb\" target=\"_parent\"><img src=\"https://colab.research.google.com/assets/colab-badge.svg\" alt=\"Open In Colab\"/></a>"
      ]
    },
    {
      "cell_type": "code",
      "metadata": {
        "colab": {
          "base_uri": "https://localhost:8080/"
        },
        "id": "auWEwMxeN8sZ",
        "outputId": "c5145e55-5588-47fb-b588-1d0f6e3b4cea"
      },
      "source": [
        "# Mount Google Drive locally\n",
        "from google.colab import drive\n",
        "drive.mount('/content/drive')"
      ],
      "execution_count": 1,
      "outputs": [
        {
          "output_type": "stream",
          "text": [
            "Mounted at /content/drive\n"
          ],
          "name": "stdout"
        }
      ]
    },
    {
      "cell_type": "code",
      "metadata": {
        "id": "XGKzuKOUTg0v"
      },
      "source": [
        "!pip install aif360"
      ],
      "execution_count": null,
      "outputs": []
    },
    {
      "cell_type": "code",
      "metadata": {
        "id": "alMhj70tPUr9"
      },
      "source": [
        "# load the BinaryLabelDataset\n",
        "from joblib import load\n",
        "\n",
        "(dataset, dataset_pred) = load(\"/content/drive/MyDrive/liveProject/mortgate_data_with_predictions_bld.pkl.gz\")"
      ],
      "execution_count": 8,
      "outputs": []
    },
    {
      "cell_type": "code",
      "metadata": {
        "id": "0jp_VoU5Pwes"
      },
      "source": [
        "# Use the Calibrated equalized odds algorithm\n",
        "\n",
        "from aif360.algorithms.postprocessing import CalibratedEqOddsPostprocessing\n",
        "\n",
        "privileged_group = [{'applicant_sex_name_Female': 0}] \n",
        "unprivileged_group = [{'applicant_sex_name_Female': 1}]\n",
        "\n",
        "cep = CalibratedEqOddsPostprocessing(unprivileged_group, privileged_group)\n",
        "\n",
        "dataset_transformed = cep.fit(dataset, dataset_pred)\n",
        "\n",
        "dataset_pred_transformed = cep.predict(dataset_pred)"
      ],
      "execution_count": 16,
      "outputs": []
    },
    {
      "cell_type": "code",
      "metadata": {
        "id": "zAOb71lJVcAe",
        "outputId": "251051ec-7cf5-4984-d1a0-4cd739f9933a",
        "colab": {
          "base_uri": "https://localhost:8080/"
        }
      },
      "source": [
        "from joblib import dump\n",
        "\n",
        "dump((dataset, dataset_pred_transformed), \"/content/drive/MyDrive/liveProject/mortgate_data_wpredict_bld_transformed.pkl.gz\")"
      ],
      "execution_count": 19,
      "outputs": [
        {
          "output_type": "execute_result",
          "data": {
            "text/plain": [
              "['/content/drive/MyDrive/liveProject/mortgate_data_wpredict_bld_transformed.pkl.gz']"
            ]
          },
          "metadata": {
            "tags": []
          },
          "execution_count": 19
        }
      ]
    }
  ]
}