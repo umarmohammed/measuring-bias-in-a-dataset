{
  "nbformat": 4,
  "nbformat_minor": 0,
  "metadata": {
    "colab": {
      "name": "2. Compute and chart bias metrics on a basic classifier.ipynb",
      "provenance": [],
      "collapsed_sections": []
    },
    "kernelspec": {
      "name": "python3",
      "display_name": "Python 3"
    }
  },
  "cells": [
    {
      "cell_type": "markdown",
      "metadata": {
        "id": "jxXEIGeNCKfc"
      },
      "source": [
        "# Load the data"
      ]
    },
    {
      "cell_type": "code",
      "metadata": {
        "id": "GuMA4HxUCPPr",
        "outputId": "ab3caf72-a82b-47b3-bdfc-c83ff49c89d5",
        "colab": {
          "base_uri": "https://localhost:8080/"
        }
      },
      "source": [
        "\r\n",
        "# Mount Google Drive locally\r\n",
        "from google.colab import drive\r\n",
        "drive.mount('/content/drive')"
      ],
      "execution_count": 1,
      "outputs": [
        {
          "output_type": "stream",
          "text": [
            "Mounted at /content/drive\n"
          ],
          "name": "stdout"
        }
      ]
    },
    {
      "cell_type": "code",
      "metadata": {
        "id": "WVH_dUaICW9W"
      },
      "source": [
        "# Load the datset into a pandas dataframe\r\n",
        "import pandas as pd\r\n",
        "\r\n",
        "df = pd.read_pickle(\"/content/drive/MyDrive/liveproject/mortgage_data_preprocessed.pkl.gz\")"
      ],
      "execution_count": 2,
      "outputs": []
    },
    {
      "cell_type": "markdown",
      "metadata": {
        "id": "tzg_0aJ8Ch_D"
      },
      "source": [
        "# Install AIF360"
      ]
    },
    {
      "cell_type": "code",
      "metadata": {
        "colab": {
          "base_uri": "https://localhost:8080/"
        },
        "id": "L_Nr1tfBBTxX",
        "outputId": "1fcb8c56-e9b0-483f-9bab-36f0e3d67d28"
      },
      "source": [
        "# install AIF360\r\n",
        "!pip install aif360"
      ],
      "execution_count": 3,
      "outputs": [
        {
          "output_type": "stream",
          "text": [
            "Collecting aif360\n",
            "\u001b[?25l  Downloading https://files.pythonhosted.org/packages/4c/71/0e19eaf2c513b2328b2b6188770bf1692437380c6e7a1eec3320354e4c87/aif360-0.4.0-py3-none-any.whl (175kB)\n",
            "\r\u001b[K     |█▉                              | 10kB 15.1MB/s eta 0:00:01\r\u001b[K     |███▊                            | 20kB 21.3MB/s eta 0:00:01\r\u001b[K     |█████▋                          | 30kB 13.3MB/s eta 0:00:01\r\u001b[K     |███████▌                        | 40kB 10.6MB/s eta 0:00:01\r\u001b[K     |█████████▍                      | 51kB 9.0MB/s eta 0:00:01\r\u001b[K     |███████████▎                    | 61kB 8.5MB/s eta 0:00:01\r\u001b[K     |█████████████                   | 71kB 9.0MB/s eta 0:00:01\r\u001b[K     |███████████████                 | 81kB 9.3MB/s eta 0:00:01\r\u001b[K     |████████████████▉               | 92kB 8.7MB/s eta 0:00:01\r\u001b[K     |██████████████████▊             | 102kB 8.3MB/s eta 0:00:01\r\u001b[K     |████████████████████▋           | 112kB 8.3MB/s eta 0:00:01\r\u001b[K     |██████████████████████▌         | 122kB 8.3MB/s eta 0:00:01\r\u001b[K     |████████████████████████▎       | 133kB 8.3MB/s eta 0:00:01\r\u001b[K     |██████████████████████████▏     | 143kB 8.3MB/s eta 0:00:01\r\u001b[K     |████████████████████████████    | 153kB 8.3MB/s eta 0:00:01\r\u001b[K     |██████████████████████████████  | 163kB 8.3MB/s eta 0:00:01\r\u001b[K     |███████████████████████████████▉| 174kB 8.3MB/s eta 0:00:01\r\u001b[K     |████████████████████████████████| 184kB 8.3MB/s \n",
            "\u001b[?25hCollecting tempeh\n",
            "  Downloading https://files.pythonhosted.org/packages/b7/1b/d016f8d2ac250b7df50ffb630c3f71371d35ac92deb80653b0e4d2f9c1a9/tempeh-0.1.12-py3-none-any.whl\n",
            "Requirement already satisfied: scikit-learn>=0.22.1 in /usr/local/lib/python3.7/dist-packages (from aif360) (0.22.2.post1)\n",
            "Requirement already satisfied: scipy<1.6.0,>=1.2.0 in /usr/local/lib/python3.7/dist-packages (from aif360) (1.4.1)\n",
            "Requirement already satisfied: numpy>=1.16 in /usr/local/lib/python3.7/dist-packages (from aif360) (1.19.5)\n",
            "Requirement already satisfied: pandas>=0.24.0 in /usr/local/lib/python3.7/dist-packages (from aif360) (1.1.5)\n",
            "Requirement already satisfied: matplotlib in /usr/local/lib/python3.7/dist-packages (from aif360) (3.2.2)\n",
            "Requirement already satisfied: pytest in /usr/local/lib/python3.7/dist-packages (from tempeh->aif360) (3.6.4)\n",
            "Collecting memory-profiler\n",
            "  Downloading https://files.pythonhosted.org/packages/8f/fd/d92b3295657f8837e0177e7b48b32d6651436f0293af42b76d134c3bb489/memory_profiler-0.58.0.tar.gz\n",
            "Requirement already satisfied: requests in /usr/local/lib/python3.7/dist-packages (from tempeh->aif360) (2.23.0)\n",
            "Collecting shap\n",
            "\u001b[?25l  Downloading https://files.pythonhosted.org/packages/b9/f4/c5b95cddae15be80f8e58b25edceca105aa83c0b8c86a1edad24a6af80d3/shap-0.39.0.tar.gz (356kB)\n",
            "\u001b[K     |████████████████████████████████| 358kB 13.0MB/s \n",
            "\u001b[?25hRequirement already satisfied: joblib>=0.11 in /usr/local/lib/python3.7/dist-packages (from scikit-learn>=0.22.1->aif360) (1.0.1)\n",
            "Requirement already satisfied: python-dateutil>=2.7.3 in /usr/local/lib/python3.7/dist-packages (from pandas>=0.24.0->aif360) (2.8.1)\n",
            "Requirement already satisfied: pytz>=2017.2 in /usr/local/lib/python3.7/dist-packages (from pandas>=0.24.0->aif360) (2018.9)\n",
            "Requirement already satisfied: pyparsing!=2.0.4,!=2.1.2,!=2.1.6,>=2.0.1 in /usr/local/lib/python3.7/dist-packages (from matplotlib->aif360) (2.4.7)\n",
            "Requirement already satisfied: cycler>=0.10 in /usr/local/lib/python3.7/dist-packages (from matplotlib->aif360) (0.10.0)\n",
            "Requirement already satisfied: kiwisolver>=1.0.1 in /usr/local/lib/python3.7/dist-packages (from matplotlib->aif360) (1.3.1)\n",
            "Requirement already satisfied: more-itertools>=4.0.0 in /usr/local/lib/python3.7/dist-packages (from pytest->tempeh->aif360) (8.7.0)\n",
            "Requirement already satisfied: pluggy<0.8,>=0.5 in /usr/local/lib/python3.7/dist-packages (from pytest->tempeh->aif360) (0.7.1)\n",
            "Requirement already satisfied: py>=1.5.0 in /usr/local/lib/python3.7/dist-packages (from pytest->tempeh->aif360) (1.10.0)\n",
            "Requirement already satisfied: atomicwrites>=1.0 in /usr/local/lib/python3.7/dist-packages (from pytest->tempeh->aif360) (1.4.0)\n",
            "Requirement already satisfied: setuptools in /usr/local/lib/python3.7/dist-packages (from pytest->tempeh->aif360) (54.0.0)\n",
            "Requirement already satisfied: six>=1.10.0 in /usr/local/lib/python3.7/dist-packages (from pytest->tempeh->aif360) (1.15.0)\n",
            "Requirement already satisfied: attrs>=17.4.0 in /usr/local/lib/python3.7/dist-packages (from pytest->tempeh->aif360) (20.3.0)\n",
            "Requirement already satisfied: psutil in /usr/local/lib/python3.7/dist-packages (from memory-profiler->tempeh->aif360) (5.4.8)\n",
            "Requirement already satisfied: urllib3!=1.25.0,!=1.25.1,<1.26,>=1.21.1 in /usr/local/lib/python3.7/dist-packages (from requests->tempeh->aif360) (1.24.3)\n",
            "Requirement already satisfied: idna<3,>=2.5 in /usr/local/lib/python3.7/dist-packages (from requests->tempeh->aif360) (2.10)\n",
            "Requirement already satisfied: chardet<4,>=3.0.2 in /usr/local/lib/python3.7/dist-packages (from requests->tempeh->aif360) (3.0.4)\n",
            "Requirement already satisfied: certifi>=2017.4.17 in /usr/local/lib/python3.7/dist-packages (from requests->tempeh->aif360) (2020.12.5)\n",
            "Requirement already satisfied: tqdm>4.25.0 in /usr/local/lib/python3.7/dist-packages (from shap->tempeh->aif360) (4.41.1)\n",
            "Collecting slicer==0.0.7\n",
            "  Downloading https://files.pythonhosted.org/packages/78/c2/b3f55dfdb8af9812fdb9baf70cacf3b9e82e505b2bd4324d588888b81202/slicer-0.0.7-py3-none-any.whl\n",
            "Requirement already satisfied: numba in /usr/local/lib/python3.7/dist-packages (from shap->tempeh->aif360) (0.51.2)\n",
            "Requirement already satisfied: cloudpickle in /usr/local/lib/python3.7/dist-packages (from shap->tempeh->aif360) (1.3.0)\n",
            "Requirement already satisfied: llvmlite<0.35,>=0.34.0.dev0 in /usr/local/lib/python3.7/dist-packages (from numba->shap->tempeh->aif360) (0.34.0)\n",
            "Building wheels for collected packages: memory-profiler, shap\n",
            "  Building wheel for memory-profiler (setup.py) ... \u001b[?25l\u001b[?25hdone\n",
            "  Created wheel for memory-profiler: filename=memory_profiler-0.58.0-cp37-none-any.whl size=30180 sha256=7cf0976d8ce0eed8256e6e456f0fdfce5ab1e3fca8a4796bcedd3c0d78a57a49\n",
            "  Stored in directory: /root/.cache/pip/wheels/02/e4/0b/aaab481fc5dd2a4ea59e78bc7231bb6aae7635ca7ee79f8ae5\n",
            "  Building wheel for shap (setup.py) ... \u001b[?25l\u001b[?25hdone\n",
            "  Created wheel for shap: filename=shap-0.39.0-cp37-cp37m-linux_x86_64.whl size=491620 sha256=45e42d6bd113322f191b69a9ba3481c0e9f754a4c2d34d3e4f435d0443a9a7fa\n",
            "  Stored in directory: /root/.cache/pip/wheels/15/27/f5/a8ab9da52fd159aae6477b5ede6eaaec69fd130fa0fa59f283\n",
            "Successfully built memory-profiler shap\n",
            "Installing collected packages: memory-profiler, slicer, shap, tempeh, aif360\n",
            "Successfully installed aif360-0.4.0 memory-profiler-0.58.0 shap-0.39.0 slicer-0.0.7 tempeh-0.1.12\n"
          ],
          "name": "stdout"
        }
      ]
    },
    {
      "cell_type": "markdown",
      "metadata": {
        "id": "qpGTmHyBCqrm"
      },
      "source": [
        "# Train a logistic regression classifier and calculate metrics"
      ]
    },
    {
      "cell_type": "code",
      "metadata": {
        "id": "XSPgXiRF0HZw"
      },
      "source": [
        "# Instantiate the classifier\r\n",
        "from sklearn.linear_model import LogisticRegression\r\n",
        "lr = LogisticRegression(random_state=10, solver=\"lbfgs\", penalty=\"none\")\r\n",
        "\r\n",
        "# instantiate the cross-validation scheme\r\n",
        "from sklearn.model_selection import StratifiedKFold\r\n",
        "mv = StratifiedKFold(n_splits=10, shuffle=True, random_state=10)\r\n",
        "\r\n",
        "# setup the performance metrics to be computed\r\n",
        "from sklearn import metrics\r\n",
        "perf_metrics = {\"Accuracy\": metrics.accuracy_score, \r\n",
        "                \"Precision\": metrics.precision_score, \r\n",
        "                \"Recall\": metrics.recall_score,\r\n",
        "                \"AUC\": metrics.roc_auc_score, \r\n",
        "                \"F1-Score\": metrics.f1_score, \r\n",
        "                }\r\n",
        "\r\n",
        "# Set up the fairness metrics to be computed using AIF360\r\n",
        "from aif360.datasets import BinaryLabelDataset\r\n",
        "from aif360.metrics import BinaryLabelDatasetMetric\r\n",
        "from aif360.metrics import ClassificationMetric\r\n",
        "\r\n",
        "privileged_group = [{'applicant_sex_name_Female': 0}] \r\n",
        "unprivileged_group = [{'applicant_sex_name_Female': 1}]"
      ],
      "execution_count": 5,
      "outputs": []
    },
    {
      "cell_type": "code",
      "metadata": {
        "colab": {
          "base_uri": "https://localhost:8080/"
        },
        "id": "R_-qoMNG0My7",
        "outputId": "a778f8d3-da3e-4c64-daa1-26a315ba37c3"
      },
      "source": [
        "# Train a logistic regression classifier on the dataset and calculate metrics\r\n",
        "\r\n",
        "import pandas as pd\r\n",
        "import numpy as np\r\n",
        "k, i = True, 1\r\n",
        "\r\n",
        "# instantiating X\r\n",
        "X = df.drop(labels=df.columns[-1], axis=1)\r\n",
        "\r\n",
        "# instantiating the target variable\r\n",
        "y = df[df.columns[-1]]\r\n",
        "\r\n",
        "for (train, test) in mv.split(X, y):\r\n",
        "    # fit model\r\n",
        "    lr = lr.fit(X.iloc[train], y.iloc[train].values.ravel())\r\n",
        "    \r\n",
        "    # get predictions in the test set\r\n",
        "    ypred_prob = lr.predict_proba(X.iloc[test]).ravel()[1::2] # get probabilities\r\n",
        "    ypred_class = lr.predict(X.iloc[test])\r\n",
        "\r\n",
        "    # compute performance metrics\r\n",
        "    metrics = []\r\n",
        "    dataset = X.iloc[test].copy()\r\n",
        "    dataset[df.columns[-1]] = np.expand_dims(y.iloc[test], axis=1)\r\n",
        "    dataset = BinaryLabelDataset(df=dataset, label_names=['action_taken_name'], protected_attribute_names=['applicant_sex_name_Female'])\r\n",
        "    dataset_pred = X.iloc[test].copy()\r\n",
        "    dataset_pred[df.columns[-1]] = np.expand_dims(ypred_class, axis=1)\r\n",
        "    dataset_pred = BinaryLabelDataset(df=dataset_pred, label_names=['action_taken_name'], protected_attribute_names=['applicant_sex_name_Female'])\r\n",
        "    metric_BLDM = BinaryLabelDatasetMetric(dataset, unprivileged_group, privileged_group)\r\n",
        "    metric_CM = ClassificationMetric(dataset, dataset_pred, privileged_groups=privileged_group, unprivileged_groups=unprivileged_group)\r\n",
        "    for pf in perf_metrics.keys():\r\n",
        "        if pf in [\"AUC\", \"Brier\"]:\r\n",
        "            metrics += [[pf, perf_metrics[pf](y.iloc[test].values.ravel(), ypred_prob)]]\r\n",
        "        else:\r\n",
        "            metrics += [[pf, perf_metrics[pf](y.iloc[test].values.ravel(), ypred_class)]]\r\n",
        "    \r\n",
        "    # Compute fairness metrics\r\n",
        "    metrics += [['Statistical Parity Difference', metric_BLDM.statistical_parity_difference()]]\r\n",
        "    metrics += [['Disparate Impact', metric_BLDM.disparate_impact()]]\r\n",
        "    metrics += [['Equal Opportunity Difference', metric_CM.equal_opportunity_difference()]]\r\n",
        "    metrics += [['Average Odds Difference', metric_CM.average_odds_difference()]]\r\n",
        "    metrics += [['Accuracy Male', metric_CM.accuracy(privileged=True)]]\r\n",
        "    metrics += [['Accuracy Female', metric_CM.accuracy(privileged=False)]]\r\n",
        "\r\n",
        "\r\n",
        "    # concatenate results\r\n",
        "    df_m = pd.DataFrame(metrics, columns=[\"Metric\", \"Value\"])\r\n",
        "    df_m[\"Fold\"] = i\r\n",
        "    i += 1\r\n",
        "    if k:\r\n",
        "        df_metrics = df_m.copy()\r\n",
        "        k=0\r\n",
        "    else:\r\n",
        "        df_metrics = pd.concat([df_metrics, df_m.copy()], axis=0, ignore_index=True)"
      ],
      "execution_count": 6,
      "outputs": [
        {
          "output_type": "stream",
          "text": [
            "lbfgs failed to converge (status=1):\n",
            "STOP: TOTAL NO. of ITERATIONS REACHED LIMIT.\n",
            "\n",
            "Increase the number of iterations (max_iter) or scale the data as shown in:\n",
            "    https://scikit-learn.org/stable/modules/preprocessing.html\n",
            "Please also refer to the documentation for alternative solver options:\n",
            "    https://scikit-learn.org/stable/modules/linear_model.html#logistic-regression\n",
            "lbfgs failed to converge (status=1):\n",
            "STOP: TOTAL NO. of ITERATIONS REACHED LIMIT.\n",
            "\n",
            "Increase the number of iterations (max_iter) or scale the data as shown in:\n",
            "    https://scikit-learn.org/stable/modules/preprocessing.html\n",
            "Please also refer to the documentation for alternative solver options:\n",
            "    https://scikit-learn.org/stable/modules/linear_model.html#logistic-regression\n",
            "lbfgs failed to converge (status=1):\n",
            "STOP: TOTAL NO. of ITERATIONS REACHED LIMIT.\n",
            "\n",
            "Increase the number of iterations (max_iter) or scale the data as shown in:\n",
            "    https://scikit-learn.org/stable/modules/preprocessing.html\n",
            "Please also refer to the documentation for alternative solver options:\n",
            "    https://scikit-learn.org/stable/modules/linear_model.html#logistic-regression\n",
            "lbfgs failed to converge (status=1):\n",
            "STOP: TOTAL NO. of ITERATIONS REACHED LIMIT.\n",
            "\n",
            "Increase the number of iterations (max_iter) or scale the data as shown in:\n",
            "    https://scikit-learn.org/stable/modules/preprocessing.html\n",
            "Please also refer to the documentation for alternative solver options:\n",
            "    https://scikit-learn.org/stable/modules/linear_model.html#logistic-regression\n",
            "lbfgs failed to converge (status=1):\n",
            "STOP: TOTAL NO. of ITERATIONS REACHED LIMIT.\n",
            "\n",
            "Increase the number of iterations (max_iter) or scale the data as shown in:\n",
            "    https://scikit-learn.org/stable/modules/preprocessing.html\n",
            "Please also refer to the documentation for alternative solver options:\n",
            "    https://scikit-learn.org/stable/modules/linear_model.html#logistic-regression\n",
            "lbfgs failed to converge (status=1):\n",
            "STOP: TOTAL NO. of ITERATIONS REACHED LIMIT.\n",
            "\n",
            "Increase the number of iterations (max_iter) or scale the data as shown in:\n",
            "    https://scikit-learn.org/stable/modules/preprocessing.html\n",
            "Please also refer to the documentation for alternative solver options:\n",
            "    https://scikit-learn.org/stable/modules/linear_model.html#logistic-regression\n",
            "lbfgs failed to converge (status=1):\n",
            "STOP: TOTAL NO. of ITERATIONS REACHED LIMIT.\n",
            "\n",
            "Increase the number of iterations (max_iter) or scale the data as shown in:\n",
            "    https://scikit-learn.org/stable/modules/preprocessing.html\n",
            "Please also refer to the documentation for alternative solver options:\n",
            "    https://scikit-learn.org/stable/modules/linear_model.html#logistic-regression\n",
            "lbfgs failed to converge (status=1):\n",
            "STOP: TOTAL NO. of ITERATIONS REACHED LIMIT.\n",
            "\n",
            "Increase the number of iterations (max_iter) or scale the data as shown in:\n",
            "    https://scikit-learn.org/stable/modules/preprocessing.html\n",
            "Please also refer to the documentation for alternative solver options:\n",
            "    https://scikit-learn.org/stable/modules/linear_model.html#logistic-regression\n",
            "lbfgs failed to converge (status=1):\n",
            "STOP: TOTAL NO. of ITERATIONS REACHED LIMIT.\n",
            "\n",
            "Increase the number of iterations (max_iter) or scale the data as shown in:\n",
            "    https://scikit-learn.org/stable/modules/preprocessing.html\n",
            "Please also refer to the documentation for alternative solver options:\n",
            "    https://scikit-learn.org/stable/modules/linear_model.html#logistic-regression\n",
            "lbfgs failed to converge (status=1):\n",
            "STOP: TOTAL NO. of ITERATIONS REACHED LIMIT.\n",
            "\n",
            "Increase the number of iterations (max_iter) or scale the data as shown in:\n",
            "    https://scikit-learn.org/stable/modules/preprocessing.html\n",
            "Please also refer to the documentation for alternative solver options:\n",
            "    https://scikit-learn.org/stable/modules/linear_model.html#logistic-regression\n"
          ],
          "name": "stderr"
        }
      ]
    },
    {
      "cell_type": "markdown",
      "metadata": {
        "id": "-mZEe9S4DDBK"
      },
      "source": [
        "# Display the metrics in a table"
      ]
    },
    {
      "cell_type": "code",
      "metadata": {
        "colab": {
          "base_uri": "https://localhost:8080/",
          "height": 452
        },
        "id": "uWpZ1COu5f8c",
        "outputId": "4c6e6569-a38b-4d27-c4cd-f8c2b56cd613"
      },
      "source": [
        "# Display metrics\r\n",
        "metrics_table = df_metrics.pivot_table(index=\"Metric\", values=\"Value\", aggfunc=[\"mean\", \"std\"])\r\n",
        "metrics_table"
      ],
      "execution_count": 7,
      "outputs": [
        {
          "output_type": "execute_result",
          "data": {
            "text/html": [
              "<div>\n",
              "<style scoped>\n",
              "    .dataframe tbody tr th:only-of-type {\n",
              "        vertical-align: middle;\n",
              "    }\n",
              "\n",
              "    .dataframe tbody tr th {\n",
              "        vertical-align: top;\n",
              "    }\n",
              "\n",
              "    .dataframe thead tr th {\n",
              "        text-align: left;\n",
              "    }\n",
              "\n",
              "    .dataframe thead tr:last-of-type th {\n",
              "        text-align: right;\n",
              "    }\n",
              "</style>\n",
              "<table border=\"1\" class=\"dataframe\">\n",
              "  <thead>\n",
              "    <tr>\n",
              "      <th></th>\n",
              "      <th>mean</th>\n",
              "      <th>std</th>\n",
              "    </tr>\n",
              "    <tr>\n",
              "      <th></th>\n",
              "      <th>Value</th>\n",
              "      <th>Value</th>\n",
              "    </tr>\n",
              "    <tr>\n",
              "      <th>Metric</th>\n",
              "      <th></th>\n",
              "      <th></th>\n",
              "    </tr>\n",
              "  </thead>\n",
              "  <tbody>\n",
              "    <tr>\n",
              "      <th>AUC</th>\n",
              "      <td>0.788912</td>\n",
              "      <td>0.003287</td>\n",
              "    </tr>\n",
              "    <tr>\n",
              "      <th>Accuracy</th>\n",
              "      <td>0.692010</td>\n",
              "      <td>0.004075</td>\n",
              "    </tr>\n",
              "    <tr>\n",
              "      <th>Accuracy Female</th>\n",
              "      <td>0.661185</td>\n",
              "      <td>0.006735</td>\n",
              "    </tr>\n",
              "    <tr>\n",
              "      <th>Accuracy Male</th>\n",
              "      <td>0.705568</td>\n",
              "      <td>0.003968</td>\n",
              "    </tr>\n",
              "    <tr>\n",
              "      <th>Average Odds Difference</th>\n",
              "      <td>0.140332</td>\n",
              "      <td>0.009776</td>\n",
              "    </tr>\n",
              "    <tr>\n",
              "      <th>Disparate Impact</th>\n",
              "      <td>1.311863</td>\n",
              "      <td>0.018950</td>\n",
              "    </tr>\n",
              "    <tr>\n",
              "      <th>Equal Opportunity Difference</th>\n",
              "      <td>0.117409</td>\n",
              "      <td>0.010221</td>\n",
              "    </tr>\n",
              "    <tr>\n",
              "      <th>F1-Score</th>\n",
              "      <td>0.634033</td>\n",
              "      <td>0.006775</td>\n",
              "    </tr>\n",
              "    <tr>\n",
              "      <th>Precision</th>\n",
              "      <td>0.644909</td>\n",
              "      <td>0.003651</td>\n",
              "    </tr>\n",
              "    <tr>\n",
              "      <th>Recall</th>\n",
              "      <td>0.623562</td>\n",
              "      <td>0.010306</td>\n",
              "    </tr>\n",
              "    <tr>\n",
              "      <th>Statistical Parity Difference</th>\n",
              "      <td>0.121809</td>\n",
              "      <td>0.006774</td>\n",
              "    </tr>\n",
              "  </tbody>\n",
              "</table>\n",
              "</div>"
            ],
            "text/plain": [
              "                                   mean       std\n",
              "                                  Value     Value\n",
              "Metric                                           \n",
              "AUC                            0.788912  0.003287\n",
              "Accuracy                       0.692010  0.004075\n",
              "Accuracy Female                0.661185  0.006735\n",
              "Accuracy Male                  0.705568  0.003968\n",
              "Average Odds Difference        0.140332  0.009776\n",
              "Disparate Impact               1.311863  0.018950\n",
              "Equal Opportunity Difference   0.117409  0.010221\n",
              "F1-Score                       0.634033  0.006775\n",
              "Precision                      0.644909  0.003651\n",
              "Recall                         0.623562  0.010306\n",
              "Statistical Parity Difference  0.121809  0.006774"
            ]
          },
          "metadata": {
            "tags": []
          },
          "execution_count": 7
        }
      ]
    },
    {
      "cell_type": "markdown",
      "metadata": {
        "id": "9u1e5XZ5DImF"
      },
      "source": [
        "# Chart the metrics with allowable range superimposed"
      ]
    },
    {
      "cell_type": "code",
      "metadata": {
        "id": "y2htyxfjFcHW"
      },
      "source": [
        "# Construct a DataFrame with allowable thresholds for plotting\r\n",
        "\r\n",
        "fairness_df = pd.DataFrame(columns=[\"Metric\", \"Value\", \"Min\", \"Max\"])\r\n",
        "fairness_df.loc[0] = ['Disparate Impact'] + list((metrics_table[('mean', 'Value')]['Disparate Impact'], 0.8, 1.2))\r\n",
        "fairness_df.loc[1] = ['Statistical Parity Difference'] + list((metrics_table[('mean', 'Value')]['Statistical Parity Difference'], -0.1, 0.1))\r\n",
        "fairness_df.loc[2] = ['Average Odds Difference'] + list((metrics_table[('mean', 'Value')]['Average Odds Difference'], -0.1, 0.1))\r\n",
        "fairness_df.loc[3] = ['Equal Opportunity Difference'] + list((metrics_table[('mean', 'Value')]['Equal Opportunity Difference'], -0.1, 0.1))"
      ],
      "execution_count": 10,
      "outputs": []
    },
    {
      "cell_type": "code",
      "metadata": {
        "colab": {
          "base_uri": "https://localhost:8080/",
          "height": 1000
        },
        "id": "UcATkC0eGipx",
        "outputId": "6863a7c0-650e-46cd-9280-35190b0bb455"
      },
      "source": [
        "# Chart the metrics\r\n",
        "\r\n",
        "import matplotlib.pyplot as plt\r\n",
        "import seaborn as sns\r\n",
        "import matplotlib.patches as patches\r\n",
        "import numpy as np\r\n",
        "\r\n",
        "def plot_metrics(df_fair): \r\n",
        "  def plot_metric(metric, ylim):\r\n",
        "    fig, ax = plt.subplots()\r\n",
        "    ax = sns.barplot(data=metric, x=\"Metric\", y=\"Value\")\r\n",
        "    plt.axhline(np.mean(metric[[\"Min\", \"Max\"]].values), color='black')\r\n",
        "    plt.ylim(*ylim)\r\n",
        "    range_height = metric[[\"Max\"]].values[0][0] - metric[[\"Min\"]].values[0][0]\r\n",
        "    ax.add_patch(patches.Rectangle((-1, metric[[\"Min\"]].values[0][0]), 2 , range_height, facecolor=\"green\", alpha=0.3))\r\n",
        "\r\n",
        "  plot_metric(df_fair.iloc[[0]], (0, 2))\r\n",
        "  plot_metric(df_fair.iloc[[1]], (-1, 1))\r\n",
        "  plot_metric(df_fair.iloc[[2]], (-1, 1))\r\n",
        "  plot_metric(df_fair.iloc[[3]], (-1, 1))\r\n",
        "\r\n",
        "plot_metrics(fairness_df)"
      ],
      "execution_count": 11,
      "outputs": [
        {
          "output_type": "display_data",
          "data": {
            "image/png": "[encoded data removed]",
            "text/plain": [
              "<Figure size 432x288 with 1 Axes>"
            ]
          },
          "metadata": {
            "tags": [],
            "needs_background": "light"
          }
        },
        {
          "output_type": "display_data",
          "data": {
            "image/png": "[encoded data removed]",
            "text/plain": [
              "<Figure size 432x288 with 1 Axes>"
            ]
          },
          "metadata": {
            "tags": [],
            "needs_background": "light"
          }
        },
        {
          "output_type": "display_data",
          "data": {
            "image/png": "[encoded data removed]",
            "text/plain": [
              "<Figure size 432x288 with 1 Axes>"
            ]
          },
          "metadata": {
            "tags": [],
            "needs_background": "light"
          }
        },
        {
          "output_type": "display_data",
          "data": {
            "image/png": "[encoded data removed]",
            "text/plain": [
              "<Figure size 432x288 with 1 Axes>"
            ]
          },
          "metadata": {
            "tags": [],
            "needs_background": "light"
          }
        }
      ]
    }
  ]
}