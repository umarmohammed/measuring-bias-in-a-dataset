{
  "nbformat": 4,
  "nbformat_minor": 0,
  "metadata": {
    "colab": {
      "name": "4. Compute and chart bias in outcome metrics on the HMDA dataset.ipynb",
      "provenance": [],
      "collapsed_sections": []
    },
    "kernelspec": {
      "name": "python3",
      "display_name": "Python 3"
    }
  },
  "cells": [
    {
      "cell_type": "markdown",
      "metadata": {
        "id": "wjmCtwSraNve"
      },
      "source": [
        "#Load data"
      ]
    },
    {
      "cell_type": "code",
      "metadata": {
        "colab": {
          "base_uri": "https://localhost:8080/"
        },
        "id": "gcsjcVMC6MZl",
        "outputId": "e5c3479d-0fe2-4be7-f00f-6315e44e9ceb"
      },
      "source": [
        "# Mount Google Drive locally\n",
        "from google.colab import drive\n",
        "drive.mount('/content/drive')"
      ],
      "execution_count": 7,
      "outputs": [
        {
          "output_type": "stream",
          "text": [
            "Drive already mounted at /content/drive; to attempt to forcibly remount, call drive.mount(\"/content/drive\", force_remount=True).\n"
          ],
          "name": "stdout"
        }
      ]
    },
    {
      "cell_type": "code",
      "metadata": {
        "id": "QWaZ0CdhaNBY"
      },
      "source": [
        "import pandas as pd\n",
        "df = pd.read_pickle(\"/content/drive/My Drive/liveproject/mortgage_data_balanced.pkl.gz\")"
      ],
      "execution_count": 8,
      "outputs": []
    },
    {
      "cell_type": "markdown",
      "metadata": {
        "id": "N4aZrfJOg-TI"
      },
      "source": [
        "# Classify outcomes based on applicant income"
      ]
    },
    {
      "cell_type": "code",
      "metadata": {
        "id": "m_PjMoiOhTQ1"
      },
      "source": [
        "import numpy as np\r\n",
        "\r\n",
        "df[['log(applicant_income_000s)']] = np.log(df['applicant_income_000s'].copy())\r\n",
        "pred_35 = df['log(applicant_income_000s)'].copy() > 3.5\r\n",
        "pred_43 = df['log(applicant_income_000s)'].copy() > 4.3\r\n",
        "pred_50 = df['log(applicant_income_000s)'].copy() > 5.0\r\n",
        "\r\n",
        "assert(pred_35.sum() == 140608)\r\n",
        "assert(pred_43.sum() == 70354)\r\n",
        "assert(pred_50.sum() == 19405)"
      ],
      "execution_count": 9,
      "outputs": []
    },
    {
      "cell_type": "markdown",
      "metadata": {
        "id": "2bTBQEiXnMTU"
      },
      "source": [
        "# Compute and chart classifier metrics"
      ]
    },
    {
      "cell_type": "code",
      "metadata": {
        "id": "j4m6SBwOnLgM"
      },
      "source": [
        "def accept_rate_group(group=None):\r\n",
        "  def accept_rate(pred):\r\n",
        "    def pred_group():\r\n",
        "      return pred[group] if group is not None else pred\r\n",
        "    return pred_group().mean() * 100\r\n",
        "  return accept_rate\r\n",
        "\r\n",
        "female = (df['applicant_sex_name'] == \"Female\").copy()\r\n",
        "male = (df['applicant_sex_name'] == \"Male\").copy()\r\n",
        "\r\n",
        "accept_rate = accept_rate_group()\r\n",
        "accept_rate_male = accept_rate_group(male)\r\n",
        "accept_rate_female = accept_rate_group(female)\r\n",
        "\r\n",
        "## acceptance rate % across thresholds\r\n",
        "### total\r\n",
        "accept_rate_35 = accept_rate(pred_35)\r\n",
        "accept_rate_43 = accept_rate(pred_43)\r\n",
        "accept_rate_50 = accept_rate(pred_50)\r\n",
        "\r\n",
        "### male\r\n",
        "accept_rate_male_35 = accept_rate_male(pred_35)\r\n",
        "accept_rate_male_43 = accept_rate_male(pred_43)\r\n",
        "accept_rate_male_50 = accept_rate_male(pred_50)\r\n",
        "\r\n",
        "### female\r\n",
        "accept_rate_female_35 = accept_rate_female(pred_35) \r\n",
        "accept_rate_female_43 = accept_rate_female(pred_43) \r\n",
        "accept_rate_female_50 = accept_rate_female(pred_50) "
      ],
      "execution_count": 10,
      "outputs": []
    },
    {
      "cell_type": "code",
      "metadata": {
        "colab": {
          "base_uri": "https://localhost:8080/",
          "height": 0
        },
        "id": "W8qXxL_2-u4C",
        "outputId": "088ecfaf-c221-459d-f8f6-628af808388a"
      },
      "source": [
        "import seaborn as sns\r\n",
        "\r\n",
        "# chart different thresholds: acceptance rates, disparate impact and 2-SD rule\r\n",
        "d = pd.DataFrame({\"Threshold\": [3.5, 4.3, 5.0],\r\n",
        "                  \"Total Acceptance Rate\": [accept_rate_35, accept_rate_43, accept_rate_50],\r\n",
        "                  \"Female Acceptance Rate\": [accept_rate_female_35, accept_rate_female_43, accept_rate_female_50],\r\n",
        "                  \"Male Acceptance Rate\": [accept_rate_male_35, accept_rate_male_43, accept_rate_male_50]})\r\n",
        "\r\n",
        "sns.barplot(data=d, x=\"Threshold\", y=\"Total Acceptance Rate\").set_title('Total Acceptance Rate')\r\n",
        "import matplotlib.pyplot as plt\r\n",
        "plt.show()"
      ],
      "execution_count": 19,
      "outputs": [
        {
          "output_type": "display_data",
          "data": {
            "image/png": "[encoded data removed]",
            "text/plain": [
              "<Figure size 432x288 with 1 Axes>"
            ]
          },
          "metadata": {
            "tags": [],
            "needs_background": "light"
          }
        }
      ]
    },
    {
      "cell_type": "code",
      "metadata": {
        "colab": {
          "base_uri": "https://localhost:8080/",
          "height": 0
        },
        "id": "0-V4R8GC_ByQ",
        "outputId": "f3b851af-f440-4ca5-b375-18ffc2e27156"
      },
      "source": [
        "sns.barplot(data=d, x=\"Threshold\", y=\"Female Acceptance Rate\").set_title(\"Female Acceptance Rate\")\r\n",
        "plt.show()"
      ],
      "execution_count": 20,
      "outputs": [
        {
          "output_type": "display_data",
          "data": {
            "image/png": "[encoded data removed]",
            "text/plain": [
              "<Figure size 432x288 with 1 Axes>"
            ]
          },
          "metadata": {
            "tags": [],
            "needs_background": "light"
          }
        }
      ]
    },
    {
      "cell_type": "code",
      "metadata": {
        "colab": {
          "base_uri": "https://localhost:8080/",
          "height": 0
        },
        "id": "9m7mY8n3_Kjo",
        "outputId": "892ace7b-51dc-4fc8-c45b-9bfea1a7fa3e"
      },
      "source": [
        "sns.barplot(data=d, x=\"Threshold\", y=\"Male Acceptance Rate\").set_title(\"Male Acceptance Rate\")\r\n",
        "plt.show()"
      ],
      "execution_count": 21,
      "outputs": [
        {
          "output_type": "display_data",
          "data": {
            "image/png": "[encoded data removed]",
            "text/plain": [
              "<Figure size 432x288 with 1 Axes>"
            ]
          },
          "metadata": {
            "tags": [],
            "needs_background": "light"
          }
        }
      ]
    },
    {
      "cell_type": "markdown",
      "metadata": {
        "id": "aGrUtaJSAy-N"
      },
      "source": [
        "# Compute and chart the Disparate Impact metric"
      ]
    },
    {
      "cell_type": "code",
      "metadata": {
        "colab": {
          "base_uri": "https://localhost:8080/",
          "height": 295
        },
        "id": "HIll5vnCA2Vq",
        "outputId": "60a7a50a-855b-4df4-d56c-53f17b606c40"
      },
      "source": [
        "def DispImpact(pred, group_a, group_b):\r\n",
        "  ### Disparate Impact\r\n",
        "  SR_A = pred[group_a==1].mean() # success rate group A\r\n",
        "  SR_B = pred[group_b==1].mean() # success rate group B\r\n",
        "  return SR_A/SR_B\r\n",
        "\r\n",
        "## disparate impact across thresholds\r\n",
        "DP_35 = DispImpact(pred_35, female, male)\r\n",
        "DP_43 = DispImpact(pred_43, female, male)\r\n",
        "DP_50 = DispImpact(pred_50, female, male)\r\n",
        "\r\n",
        "from math import isclose\r\n",
        "\r\n",
        "assert(isclose(DP_35, 0.864, rel_tol=0.001))\r\n",
        "assert(isclose(DP_43, 0.605, rel_tol=0.001))\r\n",
        "assert(isclose(DP_50, 0.3996, rel_tol=0.001))\r\n",
        "\r\n",
        "d = pd.DataFrame({\"Threshold\": [3.5, 4.3, 5.0],\r\n",
        "                  \"Disparate Impact\": [DP_35, DP_43, DP_50]})\r\n",
        "\r\n",
        "sns.barplot(data=d, x=\"Threshold\", y=\"Disparate Impact\").set_title(\"Disparate Impact\")\r\n",
        "plt.show()"
      ],
      "execution_count": 77,
      "outputs": [
        {
          "output_type": "display_data",
          "data": {
            "image/png": "[encoded data removed]",
            "text/plain": [
              "<Figure size 432x288 with 1 Axes>"
            ]
          },
          "metadata": {
            "tags": [],
            "needs_background": "light"
          }
        }
      ]
    },
    {
      "cell_type": "markdown",
      "metadata": {
        "id": "89xzApqSBws_"
      },
      "source": [
        "# Compute and chart the 2-SD Rule Metric"
      ]
    },
    {
      "cell_type": "code",
      "metadata": {
        "colab": {
          "base_uri": "https://localhost:8080/",
          "height": 295
        },
        "id": "IMpY51CcB4LP",
        "outputId": "2ea0f32d-8136-4bb7-f2e0-1f16655d2009"
      },
      "source": [
        "def TwoSDRule(pred, group_a, group_b):\r\n",
        "    import numpy as np\r\n",
        "\r\n",
        "    ### 2-SD Rule\r\n",
        "    SR_A = pred[group_a==1].mean() # success rate group A\r\n",
        "    SR_B = pred[group_b==1].mean() # success rate group B\r\n",
        "    SR_T = pred.mean() # success rate total\r\n",
        "    P_min = (group_a==1).mean() # minority proportion - usually group A\r\n",
        "    N = len(pred) # sample size\r\n",
        "    return (SR_A - SR_B)/np.sqrt( (SR_T * (1.0 - SR_T))/(N * P_min * (1 - P_min)))\r\n",
        "\r\n",
        "## 2-SD rule across thresholds\r\n",
        "Z_35 = TwoSDRule(pred_35, female, male)\r\n",
        "Z_43 = TwoSDRule(pred_43, female, male)\r\n",
        "Z_50 = TwoSDRule(pred_50, female, male)\r\n",
        "\r\n",
        "assert(isclose(Z_35, -62.3, rel_tol=0.001))\r\n",
        "assert(isclose(Z_43, -72.3, rel_tol=0.001))\r\n",
        "assert(isclose(Z_50, -50.2, rel_tol=0.001))\r\n",
        "\r\n",
        "d = pd.DataFrame({\"Threshold\": [3.5, 4.3, 5.0],\r\n",
        "                  \"2-SD Rule\": [Z_35, Z_43, Z_50]})\r\n",
        "\r\n",
        "sns.barplot(data=d, x=\"Threshold\", y=\"2-SD Rule\").set_title(\"2-SD Rule\")\r\n",
        "plt.show()"
      ],
      "execution_count": 87,
      "outputs": [
        {
          "output_type": "display_data",
          "data": {
            "image/png": "[encoded data removed]",
            "text/plain": [
              "<Figure size 432x288 with 1 Axes>"
            ]
          },
          "metadata": {
            "tags": [],
            "needs_background": "light"
          }
        }
      ]
    }
  ]
}
