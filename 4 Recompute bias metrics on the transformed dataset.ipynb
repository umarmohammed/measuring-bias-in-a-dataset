{
  "nbformat": 4,
  "nbformat_minor": 0,
  "metadata": {
    "orig_nbformat": 2,
    "colab": {
      "name": "4. Recompute bias metrics on transformed dataset.ipynb",
      "provenance": [],
      "include_colab_link": true
    },
    "kernelspec": {
      "name": "python3",
      "display_name": "Python 3"
    },
    "accelerator": "GPU"
  },
  "cells": [
    {
      "cell_type": "markdown",
      "metadata": {
        "id": "view-in-github",
        "colab_type": "text"
      },
      "source": [
        "<a href=\"https://colab.research.google.com/github/umarmohammed/measuring-bias-in-a-dataset/blob/project-3/4%20Recompute%20bias%20metrics%20on%20the%20transformed%20dataset.ipynb\" target=\"_parent\"><img src=\"https://colab.research.google.com/assets/colab-badge.svg\" alt=\"Open In Colab\"/></a>"
      ]
    },
    {
      "cell_type": "code",
      "metadata": {
        "id": "m3wTTeauB4oj",
        "colab": {
          "base_uri": "https://localhost:8080/"
        },
        "outputId": "3dc55baa-6e61-4d6d-9f5c-cf0ed1d4b57f"
      },
      "source": [
        "# Mount Google Drive locally\n",
        "from google.colab import drive\n",
        "drive.mount('/content/drive')"
      ],
      "execution_count": null,
      "outputs": [
        {
          "output_type": "stream",
          "text": [
            "Mounted at /content/drive\n"
          ],
          "name": "stdout"
        }
      ]
    },
    {
      "cell_type": "code",
      "metadata": {
        "id": "LX7OjfJDD5fA",
        "colab": {
          "base_uri": "https://localhost:8080/"
        },
        "outputId": "7ee1026b-396c-41db-bc87-6a846b771826"
      },
      "source": [
        "!pip install aif360"
      ],
      "execution_count": null,
      "outputs": [
        {
          "output_type": "stream",
          "text": [
            "Collecting aif360\n",
            "\u001b[?25l  Downloading https://files.pythonhosted.org/packages/3b/e9/f2a936a00c65ce7b4d45587a33c4522fabd773f7325d505a87d133a1dabc/aif360-0.3.0-py3-none-any.whl (165kB)\n",
            "\r\u001b[K     |██                              | 10kB 24.0MB/s eta 0:00:01\r\u001b[K     |████                            | 20kB 29.2MB/s eta 0:00:01\r\u001b[K     |██████                          | 30kB 15.8MB/s eta 0:00:01\r\u001b[K     |████████                        | 40kB 11.2MB/s eta 0:00:01\r\u001b[K     |██████████                      | 51kB 7.2MB/s eta 0:00:01\r\u001b[K     |███████████▉                    | 61kB 7.6MB/s eta 0:00:01\r\u001b[K     |█████████████▉                  | 71kB 7.9MB/s eta 0:00:01\r\u001b[K     |███████████████▉                | 81kB 8.2MB/s eta 0:00:01\r\u001b[K     |█████████████████▉              | 92kB 8.1MB/s eta 0:00:01\r\u001b[K     |███████████████████▉            | 102kB 8.6MB/s eta 0:00:01\r\u001b[K     |█████████████████████▊          | 112kB 8.6MB/s eta 0:00:01\r\u001b[K     |███████████████████████▊        | 122kB 8.6MB/s eta 0:00:01\r\u001b[K     |█████████████████████████▊      | 133kB 8.6MB/s eta 0:00:01\r\u001b[K     |███████████████████████████▊    | 143kB 8.6MB/s eta 0:00:01\r\u001b[K     |█████████████████████████████▊  | 153kB 8.6MB/s eta 0:00:01\r\u001b[K     |███████████████████████████████▋| 163kB 8.6MB/s eta 0:00:01\r\u001b[K     |████████████████████████████████| 174kB 8.6MB/s \n",
            "\u001b[?25hRequirement already satisfied: scipy>=1.2.0 in /usr/local/lib/python3.6/dist-packages (from aif360) (1.4.1)\n",
            "Requirement already satisfied: numpy>=1.16 in /usr/local/lib/python3.6/dist-packages (from aif360) (1.18.5)\n",
            "Requirement already satisfied: matplotlib in /usr/local/lib/python3.6/dist-packages (from aif360) (3.2.2)\n",
            "Requirement already satisfied: pandas>=0.24.0 in /usr/local/lib/python3.6/dist-packages (from aif360) (1.1.4)\n",
            "Requirement already satisfied: scikit-learn>=0.21 in /usr/local/lib/python3.6/dist-packages (from aif360) (0.22.2.post1)\n",
            "Requirement already satisfied: cycler>=0.10 in /usr/local/lib/python3.6/dist-packages (from matplotlib->aif360) (0.10.0)\n",
            "Requirement already satisfied: pyparsing!=2.0.4,!=2.1.2,!=2.1.6,>=2.0.1 in /usr/local/lib/python3.6/dist-packages (from matplotlib->aif360) (2.4.7)\n",
            "Requirement already satisfied: kiwisolver>=1.0.1 in /usr/local/lib/python3.6/dist-packages (from matplotlib->aif360) (1.3.1)\n",
            "Requirement already satisfied: python-dateutil>=2.1 in /usr/local/lib/python3.6/dist-packages (from matplotlib->aif360) (2.8.1)\n",
            "Requirement already satisfied: pytz>=2017.2 in /usr/local/lib/python3.6/dist-packages (from pandas>=0.24.0->aif360) (2018.9)\n",
            "Requirement already satisfied: joblib>=0.11 in /usr/local/lib/python3.6/dist-packages (from scikit-learn>=0.21->aif360) (0.17.0)\n",
            "Requirement already satisfied: six in /usr/local/lib/python3.6/dist-packages (from cycler>=0.10->matplotlib->aif360) (1.15.0)\n",
            "Installing collected packages: aif360\n",
            "Successfully installed aif360-0.3.0\n"
          ],
          "name": "stdout"
        }
      ]
    },
    {
      "cell_type": "code",
      "metadata": {
        "id": "mqfSXL80DRjr"
      },
      "source": [
        "# load the BinaryLabelDataset \n",
        "from joblib import load\n",
        "\n",
        "dataset = load(\"/content/drive/MyDrive/liveProject/mortgage_data_preprocess_bld.pkl.gz\")"
      ],
      "execution_count": null,
      "outputs": []
    },
    {
      "cell_type": "code",
      "metadata": {
        "id": "GYaMEd4wD_bJ",
        "colab": {
          "base_uri": "https://localhost:8080/"
        },
        "outputId": "c4d8ed3c-5df4-4022-bf11-9ebf16bbe23d"
      },
      "source": [
        "# Use the Reweighing subjects algorithm\n",
        "\n",
        "from aif360.algorithms.preprocessing import Reweighing\n",
        "\n",
        "privileged_group = [{'applicant_sex_name_Female': 0}] \n",
        "unprivileged_group = [{'applicant_sex_name_Female': 1}]\n",
        "\n",
        "rw = Reweighing(unprivileged_group, privileged_group)\n",
        "\n",
        "dataset_transformed = rw.fit_transform(dataset)\n",
        "\n",
        "from joblib import dump\n",
        "\n",
        "dump(dataset_transformed, \"/content/drive/MyDrive/liveProject/mortgage_data_transformed_bld.pkl.gz\")"
      ],
      "execution_count": null,
      "outputs": [
        {
          "output_type": "execute_result",
          "data": {
            "text/plain": [
              "['/content/drive/MyDrive/liveProject/mortgage_data_transformed_bld.pkl.gz']"
            ]
          },
          "metadata": {
            "tags": []
          },
          "execution_count": 8
        }
      ]
    }
  ]
}