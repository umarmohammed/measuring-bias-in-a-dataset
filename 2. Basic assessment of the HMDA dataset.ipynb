{
  "nbformat": 4,
  "nbformat_minor": 0,
  "metadata": {
    "colab": {
      "name": "2. Basic assessment of the HMDA dataset.ipynb",
      "provenance": [],
      "authorship_tag": "ABX9TyP1AYh/sJQ2wO2HrilUuTcc",
      "include_colab_link": true
    },
    "kernelspec": {
      "name": "python3",
      "display_name": "Python 3"
    }
  },
  "cells": [
    {
      "cell_type": "markdown",
      "metadata": {
        "id": "view-in-github",
        "colab_type": "text"
      },
      "source": [
        "<a href=\"https://colab.research.google.com/github/umarmohammed/measuring-bias-in-a-dataset/blob/project-1/2.%20Basic%20assessment%20of%20the%20HMDA%20dataset.ipynb\" target=\"_parent\"><img src=\"https://colab.research.google.com/assets/colab-badge.svg\" alt=\"Open In Colab\"/></a>"
      ]
    },
    {
      "cell_type": "code",
      "metadata": {
        "colab": {
          "base_uri": "https://localhost:8080/"
        },
        "id": "US-WP0fIwyjc",
        "outputId": "ff4a9f0b-6b40-40c0-f7fb-406f4e2e8acf"
      },
      "source": [
        "# Mount Google Drive locally\n",
        "from google.colab import drive\n",
        "drive.mount('/content/drive')"
      ],
      "execution_count": 1,
      "outputs": [
        {
          "output_type": "stream",
          "text": [
            "Mounted at /content/drive\n"
          ],
          "name": "stdout"
        }
      ]
    },
    {
      "cell_type": "code",
      "metadata": {
        "id": "9igC31jxxLbJ"
      },
      "source": [
        "import pandas as pd\n",
        "df = pd.read_pickle(\"/content/drive/My Drive/liveProject/mortgage_data_balanced.pkl.gz\")"
      ],
      "execution_count": 2,
      "outputs": []
    },
    {
      "cell_type": "code",
      "metadata": {
        "colab": {
          "base_uri": "https://localhost:8080/",
          "height": 136
        },
        "id": "iOW_TZ4BxdyA",
        "outputId": "9aec6864-1505-415f-efd4-ddc5cf9365fd"
      },
      "source": [
        "pd.crosstab(df[\"applicant_ethnicity_name\"], df[\"action_taken_name\"])/200000 * 100.0"
      ],
      "execution_count": 3,
      "outputs": [
        {
          "output_type": "execute_result",
          "data": {
            "text/html": [
              "<div>\n",
              "<style scoped>\n",
              "    .dataframe tbody tr th:only-of-type {\n",
              "        vertical-align: middle;\n",
              "    }\n",
              "\n",
              "    .dataframe tbody tr th {\n",
              "        vertical-align: top;\n",
              "    }\n",
              "\n",
              "    .dataframe thead th {\n",
              "        text-align: right;\n",
              "    }\n",
              "</style>\n",
              "<table border=\"1\" class=\"dataframe\">\n",
              "  <thead>\n",
              "    <tr style=\"text-align: right;\">\n",
              "      <th>action_taken_name</th>\n",
              "      <th>Application denied by financial institution</th>\n",
              "      <th>Loan originated</th>\n",
              "    </tr>\n",
              "    <tr>\n",
              "      <th>applicant_ethnicity_name</th>\n",
              "      <th></th>\n",
              "      <th></th>\n",
              "    </tr>\n",
              "  </thead>\n",
              "  <tbody>\n",
              "    <tr>\n",
              "      <th>Hispanic or Latino</th>\n",
              "      <td>3.972</td>\n",
              "      <td>2.687</td>\n",
              "    </tr>\n",
              "    <tr>\n",
              "      <th>Not Hispanic or Latino</th>\n",
              "      <td>46.028</td>\n",
              "      <td>47.313</td>\n",
              "    </tr>\n",
              "  </tbody>\n",
              "</table>\n",
              "</div>"
            ],
            "text/plain": [
              "action_taken_name         Application denied by financial institution  Loan originated\n",
              "applicant_ethnicity_name                                                              \n",
              "Hispanic or Latino                                              3.972            2.687\n",
              "Not Hispanic or Latino                                         46.028           47.313"
            ]
          },
          "metadata": {
            "tags": []
          },
          "execution_count": 3
        }
      ]
    },
    {
      "cell_type": "code",
      "metadata": {
        "colab": {
          "base_uri": "https://localhost:8080/",
          "height": 225
        },
        "id": "hm1dwqcvx-Vo",
        "outputId": "2492a264-c456-4b08-d454-670316b268dc"
      },
      "source": [
        "pd.crosstab(df[\"applicant_race_name_1\"], df[\"action_taken_name\"])/200000 * 100.0"
      ],
      "execution_count": 4,
      "outputs": [
        {
          "output_type": "execute_result",
          "data": {
            "text/html": [
              "<div>\n",
              "<style scoped>\n",
              "    .dataframe tbody tr th:only-of-type {\n",
              "        vertical-align: middle;\n",
              "    }\n",
              "\n",
              "    .dataframe tbody tr th {\n",
              "        vertical-align: top;\n",
              "    }\n",
              "\n",
              "    .dataframe thead th {\n",
              "        text-align: right;\n",
              "    }\n",
              "</style>\n",
              "<table border=\"1\" class=\"dataframe\">\n",
              "  <thead>\n",
              "    <tr style=\"text-align: right;\">\n",
              "      <th>action_taken_name</th>\n",
              "      <th>Application denied by financial institution</th>\n",
              "      <th>Loan originated</th>\n",
              "    </tr>\n",
              "    <tr>\n",
              "      <th>applicant_race_name_1</th>\n",
              "      <th></th>\n",
              "      <th></th>\n",
              "    </tr>\n",
              "  </thead>\n",
              "  <tbody>\n",
              "    <tr>\n",
              "      <th>American Indian or Alaska Native</th>\n",
              "      <td>0.4675</td>\n",
              "      <td>0.2485</td>\n",
              "    </tr>\n",
              "    <tr>\n",
              "      <th>Asian</th>\n",
              "      <td>2.5825</td>\n",
              "      <td>3.1330</td>\n",
              "    </tr>\n",
              "    <tr>\n",
              "      <th>Black or African American</th>\n",
              "      <td>5.3060</td>\n",
              "      <td>2.2000</td>\n",
              "    </tr>\n",
              "    <tr>\n",
              "      <th>Native Hawaiian or Other Pacific Islander</th>\n",
              "      <td>0.2305</td>\n",
              "      <td>0.1600</td>\n",
              "    </tr>\n",
              "    <tr>\n",
              "      <th>White</th>\n",
              "      <td>41.4135</td>\n",
              "      <td>44.2585</td>\n",
              "    </tr>\n",
              "  </tbody>\n",
              "</table>\n",
              "</div>"
            ],
            "text/plain": [
              "action_taken_name                          Application denied by financial institution  Loan originated\n",
              "applicant_race_name_1                                                                                  \n",
              "American Indian or Alaska Native                                                0.4675           0.2485\n",
              "Asian                                                                           2.5825           3.1330\n",
              "Black or African American                                                       5.3060           2.2000\n",
              "Native Hawaiian or Other Pacific Islander                                       0.2305           0.1600\n",
              "White                                                                          41.4135          44.2585"
            ]
          },
          "metadata": {
            "tags": []
          },
          "execution_count": 4
        }
      ]
    },
    {
      "cell_type": "code",
      "metadata": {
        "colab": {
          "base_uri": "https://localhost:8080/",
          "height": 136
        },
        "id": "MpMRCgZHyBKt",
        "outputId": "bf6dcdb8-0548-4f44-8a05-0e870a4a0c9d"
      },
      "source": [
        "\n",
        "pd.crosstab(df[\"applicant_sex_name\"], df[\"action_taken_name\"])/200000 * 100.0"
      ],
      "execution_count": 5,
      "outputs": [
        {
          "output_type": "execute_result",
          "data": {
            "text/html": [
              "<div>\n",
              "<style scoped>\n",
              "    .dataframe tbody tr th:only-of-type {\n",
              "        vertical-align: middle;\n",
              "    }\n",
              "\n",
              "    .dataframe tbody tr th {\n",
              "        vertical-align: top;\n",
              "    }\n",
              "\n",
              "    .dataframe thead th {\n",
              "        text-align: right;\n",
              "    }\n",
              "</style>\n",
              "<table border=\"1\" class=\"dataframe\">\n",
              "  <thead>\n",
              "    <tr style=\"text-align: right;\">\n",
              "      <th>action_taken_name</th>\n",
              "      <th>Application denied by financial institution</th>\n",
              "      <th>Loan originated</th>\n",
              "    </tr>\n",
              "    <tr>\n",
              "      <th>applicant_sex_name</th>\n",
              "      <th></th>\n",
              "      <th></th>\n",
              "    </tr>\n",
              "  </thead>\n",
              "  <tbody>\n",
              "    <tr>\n",
              "      <th>Female</th>\n",
              "      <td>16.081</td>\n",
              "      <td>13.333</td>\n",
              "    </tr>\n",
              "    <tr>\n",
              "      <th>Male</th>\n",
              "      <td>33.919</td>\n",
              "      <td>36.667</td>\n",
              "    </tr>\n",
              "  </tbody>\n",
              "</table>\n",
              "</div>"
            ],
            "text/plain": [
              "action_taken_name   Application denied by financial institution  Loan originated\n",
              "applicant_sex_name                                                              \n",
              "Female                                                   16.081           13.333\n",
              "Male                                                     33.919           36.667"
            ]
          },
          "metadata": {
            "tags": []
          },
          "execution_count": 5
        }
      ]
    }
  ]
}