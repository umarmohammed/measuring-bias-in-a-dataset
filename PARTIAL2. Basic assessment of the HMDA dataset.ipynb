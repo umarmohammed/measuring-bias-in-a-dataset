{
  "nbformat": 4,
  "nbformat_minor": 0,
  "metadata": {
    "colab": {
      "name": "2. Basic assessment of the HMDA dataset.ipynb",
      "provenance": [],
      "toc_visible": true
    },
    "kernelspec": {
      "name": "python3",
      "display_name": "Python 3"
    }
  },
  "cells": [
    {
      "cell_type": "markdown",
      "metadata": {
        "id": "_F_ZV5HlXc8S"
      },
      "source": [
        "# Load data"
      ]
    },
    {
      "cell_type": "code",
      "metadata": {
        "id": "US-WP0fIwyjc"
      },
      "source": [
        "# Mount Google Drive locally \n",
        "# Using the instructions found here https://colab.research.google.com/notebooks/io.ipynb#scrollTo=u22w3BFiOveA&line=1&uniqifier=1"
      ],
      "execution_count": null,
      "outputs": []
    },
    {
      "cell_type": "code",
      "metadata": {
        "id": "9igC31jxxLbJ"
      },
      "source": [
        "# Load the pickled dataframe using the \"read_pickle()\"\" function from \"pandas\"\r\n",
        "# df = ..."
      ],
      "execution_count": null,
      "outputs": []
    },
    {
      "cell_type": "markdown",
      "metadata": {
        "id": "T22o9Ad9XmnS"
      },
      "source": [
        "# 1: Distribution of key demographics"
      ]
    },
    {
      "cell_type": "code",
      "metadata": {
        "id": "MGRUnd3vuqXV"
      },
      "source": [
        "# df[column_name].value_counts() as percentages of df.shape[0]"
      ],
      "execution_count": null,
      "outputs": []
    },
    {
      "cell_type": "markdown",
      "metadata": {
        "id": "-fGimFSiX2eO"
      },
      "source": [
        "#2: Distribution of outcomes"
      ]
    },
    {
      "cell_type": "code",
      "metadata": {
        "id": "_shIhly_u0_D"
      },
      "source": [
        "# freq = df[\"action_taken_name\"].value_counts() as percentages of df.shape[0]"
      ],
      "execution_count": null,
      "outputs": []
    },
    {
      "cell_type": "code",
      "metadata": {
        "id": "a0NeP3WaXtuc"
      },
      "source": [
        "# import seaborn as sns\n",
        "\n",
        "# sns.barplot(...)"
      ],
      "execution_count": null,
      "outputs": []
    },
    {
      "cell_type": "markdown",
      "metadata": {
        "id": "CIWGpLuwX5Q-"
      },
      "source": [
        "# 3: Histogram of applicant income"
      ]
    },
    {
      "cell_type": "code",
      "metadata": {
        "id": "PbGgyv-3Xtkv"
      },
      "source": [
        "# sns.histplot(...)"
      ],
      "execution_count": null,
      "outputs": []
    },
    {
      "cell_type": "code",
      "metadata": {
        "id": "67fYhtxPcEP7"
      },
      "source": [
        "# df[\"log(applicant_income_000s)\"] = ...\n",
        "# sns.histplot(...)"
      ],
      "execution_count": null,
      "outputs": []
    },
    {
      "cell_type": "markdown",
      "metadata": {
        "id": "-aTScv08YAeF"
      },
      "source": [
        "#4: Histogram of applicant income and its relationship to gender"
      ]
    },
    {
      "cell_type": "code",
      "metadata": {
        "id": "bbxk6EL6cO8h"
      },
      "source": [
        "# sns.histplot(...)"
      ],
      "execution_count": null,
      "outputs": []
    },
    {
      "cell_type": "markdown",
      "metadata": {
        "id": "OEzoR5nVZ8Zy"
      },
      "source": [
        "#5: Contigency tables for key demographics"
      ]
    },
    {
      "cell_type": "code",
      "metadata": {
        "id": "iOW_TZ4BxdyA"
      },
      "source": [
        "# pd.crosstab(...) as percentages of df.shape[0] "
      ],
      "execution_count": null,
      "outputs": []
    },
    {
      "cell_type": "markdown",
      "metadata": {
        "id": "e_l8WGd-YQnH"
      },
      "source": [
        "# 6: Bar plot for gender and outcome"
      ]
    },
    {
      "cell_type": "code",
      "metadata": {
        "id": "gzikuAbKaBU7"
      },
      "source": [
        "# d = pd.crosstab(...)\n",
        "# d = d.div(...)\n",
        "# c = ...\n",
        "# g = sns.catplot(data=c, x='applicant_sex_name', y='value', col='action_taken_name', kind=\"bar\", height=5)"
      ],
      "execution_count": null,
      "outputs": []
    }
  ]
}