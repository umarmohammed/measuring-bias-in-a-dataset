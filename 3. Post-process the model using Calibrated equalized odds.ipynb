{
  "nbformat": 4,
  "nbformat_minor": 0,
  "metadata": {
    "colab": {
      "name": "3. Post-process the model using Calibrated equalized odds.ipynb",
      "provenance": [],
      "authorship_tag": "ABX9TyOdCMkrlXNE2b0h6WaupPlp",
      "include_colab_link": true
    },
    "kernelspec": {
      "name": "python3",
      "display_name": "Python 3"
    }
  },
  "cells": [
    {
      "cell_type": "markdown",
      "metadata": {
        "id": "view-in-github",
        "colab_type": "text"
      },
      "source": [
        "<a href=\"https://colab.research.google.com/github/umarmohammed/measuring-bias-in-a-dataset/blob/project-4/3.%20Post-process%20the%20model%20using%20Calibrated%20equalized%20odds.ipynb\" target=\"_parent\"><img src=\"https://colab.research.google.com/assets/colab-badge.svg\" alt=\"Open In Colab\"/></a>"
      ]
    },
    {
      "cell_type": "code",
      "metadata": {
        "id": "ykHq821hNAEd"
      },
      "source": [
        "print(\"Foo\")"
      ],
      "execution_count": null,
      "outputs": []
    }
  ]
}