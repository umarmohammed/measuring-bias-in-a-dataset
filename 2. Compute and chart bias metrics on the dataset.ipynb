{
  "nbformat": 4,
  "nbformat_minor": 0,
  "metadata": {
    "colab": {
      "name": "2. Compute and chart bias metrics.ipynb",
      "provenance": [],
      "authorship_tag": "ABX9TyPkLRNbsh0lNwsNmfU08PeF",
      "include_colab_link": true
    },
    "kernelspec": {
      "name": "python3",
      "display_name": "Python 3"
    }
  },
  "cells": [
    {
      "cell_type": "markdown",
      "metadata": {
        "id": "view-in-github",
        "colab_type": "text"
      },
      "source": [
        "<a href=\"https://colab.research.google.com/github/umarmohammed/measuring-bias-in-a-dataset/blob/project-3/2.%20Compute%20and%20chart%20bias%20metrics.ipynb\" target=\"_parent\"><img src=\"https://colab.research.google.com/assets/colab-badge.svg\" alt=\"Open In Colab\"/></a>"
      ]
    },
    {
      "cell_type": "code",
      "metadata": {
        "colab": {
          "base_uri": "https://localhost:8080/"
        },
        "id": "E7fIjhSsUm91",
        "outputId": "2d885c50-fd05-4f38-b41e-d2070c86c871"
      },
      "source": [
        "# Mount Google Drive locally\n",
        "from google.colab import drive\n",
        "drive.mount('/content/drive')"
      ],
      "execution_count": null,
      "outputs": [
        {
          "output_type": "stream",
          "text": [
            "Mounted at /content/drive\n"
          ],
          "name": "stdout"
        }
      ]
    },
    {
      "cell_type": "code",
      "metadata": {
        "id": "M6q4n6inVEyK"
      },
      "source": [
        "# load the dataset \n",
        "from joblib import load\n",
        "\n",
        "data = load(\"/content/drive/MyDrive/liveProject/mortgage_data_preprocess.pkl.gz\")\n",
        "\n",
        "X = data[0]\n",
        "y = data[1]\n",
        "\n",
        "# Concatonate the data into a dataframe\n",
        "import pandas as pd\n",
        "\n",
        "df = pd.concat([X, y], axis=1)"
      ],
      "execution_count": null,
      "outputs": []
    },
    {
      "cell_type": "code",
      "metadata": {
        "colab": {
          "base_uri": "https://localhost:8080/"
        },
        "id": "CXUNLAs6xZ7U",
        "outputId": "eb7156a5-e92f-4d39-e51d-f2f612af1549"
      },
      "source": [
        "!pip install aif360"
      ],
      "execution_count": null,
      "outputs": [
        {
          "output_type": "stream",
          "text": [
            "Collecting aif360\n",
            "\u001b[?25l  Downloading https://files.pythonhosted.org/packages/3b/e9/f2a936a00c65ce7b4d45587a33c4522fabd773f7325d505a87d133a1dabc/aif360-0.3.0-py3-none-any.whl (165kB)\n",
            "\r\u001b[K     |██                              | 10kB 17.2MB/s eta 0:00:01\r\u001b[K     |████                            | 20kB 19.1MB/s eta 0:00:01\r\u001b[K     |██████                          | 30kB 11.0MB/s eta 0:00:01\r\u001b[K     |████████                        | 40kB 8.2MB/s eta 0:00:01\r\u001b[K     |██████████                      | 51kB 4.3MB/s eta 0:00:01\r\u001b[K     |███████████▉                    | 61kB 4.8MB/s eta 0:00:01\r\u001b[K     |█████████████▉                  | 71kB 5.1MB/s eta 0:00:01\r\u001b[K     |███████████████▉                | 81kB 5.4MB/s eta 0:00:01\r\u001b[K     |█████████████████▉              | 92kB 5.7MB/s eta 0:00:01\r\u001b[K     |███████████████████▉            | 102kB 5.8MB/s eta 0:00:01\r\u001b[K     |█████████████████████▊          | 112kB 5.8MB/s eta 0:00:01\r\u001b[K     |███████████████████████▊        | 122kB 5.8MB/s eta 0:00:01\r\u001b[K     |█████████████████████████▊      | 133kB 5.8MB/s eta 0:00:01\r\u001b[K     |███████████████████████████▊    | 143kB 5.8MB/s eta 0:00:01\r\u001b[K     |█████████████████████████████▊  | 153kB 5.8MB/s eta 0:00:01\r\u001b[K     |███████████████████████████████▋| 163kB 5.8MB/s eta 0:00:01\r\u001b[K     |████████████████████████████████| 174kB 5.8MB/s \n",
            "\u001b[?25hRequirement already satisfied: scipy>=1.2.0 in /usr/local/lib/python3.6/dist-packages (from aif360) (1.4.1)\n",
            "Requirement already satisfied: numpy>=1.16 in /usr/local/lib/python3.6/dist-packages (from aif360) (1.18.5)\n",
            "Requirement already satisfied: scikit-learn>=0.21 in /usr/local/lib/python3.6/dist-packages (from aif360) (0.22.2.post1)\n",
            "Requirement already satisfied: pandas>=0.24.0 in /usr/local/lib/python3.6/dist-packages (from aif360) (1.1.4)\n",
            "Requirement already satisfied: matplotlib in /usr/local/lib/python3.6/dist-packages (from aif360) (3.2.2)\n",
            "Requirement already satisfied: joblib>=0.11 in /usr/local/lib/python3.6/dist-packages (from scikit-learn>=0.21->aif360) (0.17.0)\n",
            "Requirement already satisfied: python-dateutil>=2.7.3 in /usr/local/lib/python3.6/dist-packages (from pandas>=0.24.0->aif360) (2.8.1)\n",
            "Requirement already satisfied: pytz>=2017.2 in /usr/local/lib/python3.6/dist-packages (from pandas>=0.24.0->aif360) (2018.9)\n",
            "Requirement already satisfied: kiwisolver>=1.0.1 in /usr/local/lib/python3.6/dist-packages (from matplotlib->aif360) (1.3.1)\n",
            "Requirement already satisfied: cycler>=0.10 in /usr/local/lib/python3.6/dist-packages (from matplotlib->aif360) (0.10.0)\n",
            "Requirement already satisfied: pyparsing!=2.0.4,!=2.1.2,!=2.1.6,>=2.0.1 in /usr/local/lib/python3.6/dist-packages (from matplotlib->aif360) (2.4.7)\n",
            "Requirement already satisfied: six>=1.5 in /usr/local/lib/python3.6/dist-packages (from python-dateutil>=2.7.3->pandas>=0.24.0->aif360) (1.15.0)\n",
            "Installing collected packages: aif360\n",
            "Successfully installed aif360-0.3.0\n"
          ],
          "name": "stdout"
        }
      ]
    },
    {
      "cell_type": "code",
      "metadata": {
        "colab": {
          "base_uri": "https://localhost:8080/",
          "height": 111
        },
        "id": "gBkMo5xuxaXR",
        "outputId": "69bf1d2a-77e3-4cc0-cb2d-3482310a086a"
      },
      "source": [
        "from aif360.datasets import BinaryLabelDataset\n",
        "\n",
        "dataset = BinaryLabelDataset(df=df, label_names=['action_taken_name'], protected_attribute_names=['applicant_sex_name_Female'])\n",
        "\n",
        "privileged_group = [{'applicant_sex_name_Female': 0}] \n",
        "unprivileged_group = [{'applicant_sex_name_Female': 1}]\n",
        "\n",
        "from aif360.metrics import BinaryLabelDatasetMetric\n",
        "\n",
        "metric = BinaryLabelDatasetMetric(dataset, unprivileged_group, privileged_group)\n",
        "\n",
        "fair_metrics = {\"DispImpact\": metric.disparate_impact, \"StatParity\": metric.statistical_parity_difference }\n",
        "\n",
        "metrics = [[ff, fair_metrics[ff]()] for ff in fair_metrics]\n",
        "\n",
        "import pandas as pd \n",
        "pd.DataFrame(metrics, columns=[\"Metric\", \"Value\"])"
      ],
      "execution_count": null,
      "outputs": [
        {
          "output_type": "execute_result",
          "data": {
            "text/html": [
              "<div>\n",
              "<style scoped>\n",
              "    .dataframe tbody tr th:only-of-type {\n",
              "        vertical-align: middle;\n",
              "    }\n",
              "\n",
              "    .dataframe tbody tr th {\n",
              "        vertical-align: top;\n",
              "    }\n",
              "\n",
              "    .dataframe thead th {\n",
              "        text-align: right;\n",
              "    }\n",
              "</style>\n",
              "<table border=\"1\" class=\"dataframe\">\n",
              "  <thead>\n",
              "    <tr style=\"text-align: right;\">\n",
              "      <th></th>\n",
              "      <th>Metric</th>\n",
              "      <th>Value</th>\n",
              "    </tr>\n",
              "  </thead>\n",
              "  <tbody>\n",
              "    <tr>\n",
              "      <th>0</th>\n",
              "      <td>DispImpact</td>\n",
              "      <td>1.137718</td>\n",
              "    </tr>\n",
              "    <tr>\n",
              "      <th>1</th>\n",
              "      <td>StatParity</td>\n",
              "      <td>0.066178</td>\n",
              "    </tr>\n",
              "  </tbody>\n",
              "</table>\n",
              "</div>"
            ],
            "text/plain": [
              "       Metric     Value\n",
              "0  DispImpact  1.137718\n",
              "1  StatParity  0.066178"
            ]
          },
          "metadata": {
            "tags": []
          },
          "execution_count": 6
        }
      ]
    },
    {
      "cell_type": "code",
      "metadata": {
        "id": "42id_edUBu2n",
        "outputId": "30983eee-0d96-4154-a830-f1da08864854",
        "colab": {
          "base_uri": "https://localhost:8080/"
        }
      },
      "source": [
        "from joblib import dump\n",
        "\n",
        "dump(dataset, \"/content/drive/MyDrive/liveProject/mortgage_data_transformed_bld.pkl.gz\")"
      ],
      "execution_count": 5,
      "outputs": [
        {
          "output_type": "execute_result",
          "data": {
            "text/plain": [
              "['/content/drive/MyDrive/liveProject/mortgage_data_transformed_bld.pkl.gz']"
            ]
          },
          "metadata": {
            "tags": []
          },
          "execution_count": 5
        }
      ]
    }
  ]
}