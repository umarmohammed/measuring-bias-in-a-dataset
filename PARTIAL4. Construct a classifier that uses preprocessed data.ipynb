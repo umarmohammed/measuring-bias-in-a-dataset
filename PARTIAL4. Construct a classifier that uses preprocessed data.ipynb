{
  "nbformat": 4,
  "nbformat_minor": 0,
  "metadata": {
    "colab": {
      "name": "4_Construct_a_classifier_that_uses_preprocessed_data.ipynb",
      "provenance": [],
      "collapsed_sections": []
    },
    "kernelspec": {
      "name": "python3",
      "display_name": "Python 3"
    }
  },
  "cells": [
    {
      "cell_type": "markdown",
      "metadata": {
        "id": "QrNg3M9A_wiZ"
      },
      "source": [
        "# Load data"
      ]
    },
    {
      "cell_type": "code",
      "metadata": {
        "id": "G-3NTxtVngeG"
      },
      "source": [
        "# Mount Google Drive locally \r\n",
        "# Using the instructions found here https://colab.research.google.com/notebooks/io.ipynb#scrollTo=u22w3BFiOveA&line=1&uniqifier=1"
      ],
      "execution_count": null,
      "outputs": []
    },
    {
      "cell_type": "code",
      "metadata": {
        "id": "YlytXU3enhCQ"
      },
      "source": [
        "# Load the pickled dataframe using the \"read_pickle()\"\" function from \"pandas\"\r\n",
        "# df = ..."
      ],
      "execution_count": null,
      "outputs": []
    },
    {
      "cell_type": "markdown",
      "metadata": {
        "id": "SnASu_gt_6m4"
      },
      "source": [
        "## Train and run a Logistic Regression model with Reweighing"
      ]
    },
    {
      "cell_type": "code",
      "metadata": {
        "id": "pA2zB7EonkDj"
      },
      "source": [
        "# install AIF360\r\n",
        "!pip install aif360\r\n",
        "!pip install fairlearn"
      ],
      "execution_count": null,
      "outputs": []
    },
    {
      "cell_type": "code",
      "metadata": {
        "id": "7z6qYEotEwLB"
      },
      "source": [
        "# Instantiate the classifier\r\n",
        "from sklearn.linear_model import LogisticRegression\r\n",
        "# lr = ...\r\n",
        "\r\n",
        "# instantiate the cross-validation scheme\r\n",
        "from sklearn.model_selection import StratifiedKFold\r\n",
        "# mv = ...\r\n",
        "\r\n",
        "# setup the performance metrics to be computed\r\n",
        "from sklearn import metrics\r\n",
        "# perf_metrics = {\"Accuracy\": ..., \r\n",
        "#                 \"Precision\": ..., \r\n",
        "#                 \"Recall\": ...,\r\n",
        "#                 \"AUC\": ..., \r\n",
        "#                 \"F1-Score\": ..., \r\n",
        "#                 }\r\n",
        "\r\n",
        "# Set up the fairness metrics to be computed using AIF360\r\n",
        "from aif360.datasets import BinaryLabelDataset\r\n",
        "from aif360.metrics import ClassificationMetric\r\n",
        "\r\n",
        "# Set up reweighing\r\n",
        "from aif360.algorithms.preprocessing import Reweighing\r\n",
        "\r\n",
        "# privileged_group = ...\r\n",
        "# unprivileged_group = ..."
      ],
      "execution_count": null,
      "outputs": []
    },
    {
      "cell_type": "code",
      "metadata": {
        "id": "zNbYbpruFRMk"
      },
      "source": [
        "# Train a logistic regression classifier on the dataset after reweighing\r\n",
        "import numpy as np\r\n",
        "import pandas as pd\r\n",
        "k, i = True, 1\r\n",
        "\r\n",
        "# instantiating X\r\n",
        "# X = ...\r\n",
        "\r\n",
        "# instantiating the target variable\r\n",
        "# y = ...\r\n",
        "\r\n",
        "for (train, test) in mv.split(X, y):\r\n",
        "\r\n",
        "    # Reweigh the training data\r\n",
        "    dataset = X.iloc[train].copy()\r\n",
        "    dataset[df.columns[-1]] = y.iloc[train]\r\n",
        "    # dataset_BLD = BinaryLabelDataset(...)\r\n",
        "    # rw = Reweighing(...)\r\n",
        "    dataset_transformed = rw.fit_transform(dataset_BLD)\r\n",
        "\r\n",
        "    # instantiating X\r\n",
        "    X_train = pd.DataFrame(data = dataset_transformed.features, columns=df.columns[:-1]) \r\n",
        "\r\n",
        "    # instantiating y\r\n",
        "    y_train = pd.DataFrame(data = dataset_transformed.labels.ravel())\r\n",
        "\r\n",
        "    # instantiating the reweighing weights\r\n",
        "    w_train = pd.DataFrame(data = dataset_transformed.instance_weights)\r\n",
        "\r\n",
        "    # fit model including sample weights calculated in reweighing\r\n",
        "    # lr = lr.fit(...)\r\n",
        "    \r\n",
        "    # get predictions in the test set\r\n",
        "    # ypred_prob = lr.predict_proba ... # get probabilities\r\n",
        "    # ypred_class = lr.predict ...\r\n",
        "\r\n",
        "    # compute performance metrics\r\n",
        "    metrics = []\r\n",
        "    dataset = X.iloc[test].copy()\r\n",
        "    dataset[df.columns[-1]] = np.expand_dims(y.iloc[test], axis=1)\r\n",
        "    # dataset = BinaryLabelDataset(...)\r\n",
        "    dataset_pred = X.iloc[test].copy()\r\n",
        "    dataset_pred[df.columns[-1]] = np.expand_dims(ypred_class, axis=1)\r\n",
        "    # dataset_pred = BinaryLabelDataset(...)\r\n",
        "    # metric_CM = ClassificationMetric(...)\r\n",
        "    for pf in perf_metrics.keys():\r\n",
        "        if pf in [\"AUC\", \"Brier\"]:\r\n",
        "            # metrics += [[pf, ...]]\r\n",
        "        else:\r\n",
        "            # metrics += [[pf, ...]]\r\n",
        "    \r\n",
        "    # Compute fairness metrics\r\n",
        "    # metrics += [['Statistical Parity Difference', ...]]\r\n",
        "    # metrics += [['Disparate Impact', ...]]\r\n",
        "    # metrics += [['Equal Opportunity Difference', ...]]\r\n",
        "    # metrics += [['Average Odds Difference', ...]]\r\n",
        "    # metrics += [['Accuracy Male', ...]]\r\n",
        "    # metrics += [['Accuracy Female', ...]]\r\n",
        "\r\n",
        "    # concatenate results\r\n",
        "    df_m = pd.DataFrame(metrics, columns=[\"Metric\", \"Value\"])\r\n",
        "    df_m[\"Fold\"] = i\r\n",
        "    i += 1\r\n",
        "    if k:\r\n",
        "        df_metrics = df_m.copy()\r\n",
        "        k=0\r\n",
        "    else:\r\n",
        "        df_metrics = pd.concat([df_metrics, df_m.copy()], axis=0, ignore_index=True)"
      ],
      "execution_count": null,
      "outputs": []
    },
    {
      "cell_type": "markdown",
      "metadata": {
        "id": "TLtV9EF_AEUU"
      },
      "source": [
        "#Review metrics"
      ]
    },
    {
      "cell_type": "code",
      "metadata": {
        "id": "jTzlSM58FDIS"
      },
      "source": [
        "# Display metrics\r\n",
        "\r\n",
        "#  metrics_table = df_metrics.pivot_table(...)\r\n",
        "metrics_table"
      ],
      "execution_count": null,
      "outputs": []
    },
    {
      "cell_type": "code",
      "metadata": {
        "id": "nbJklbYj97oo"
      },
      "source": [
        "# Construct a DataFrame with allowable thresholds for plotting\r\n",
        "\r\n",
        "fairness_df = pd.DataFrame(columns=[\"Metric\", \"Value\", \"Min\", \"Max\"])\r\n",
        "fairness_df.loc[0] = ['Disparate Impact'] + list((metrics_table[('mean', 'Value')]['Disparate Impact'], 0.8, 1.2))\r\n",
        "fairness_df.loc[1] = ['Statistical Parity Difference'] + list((metrics_table[('mean', 'Value')]['Statistical Parity Difference'], -0.1, 0.1))\r\n",
        "fairness_df.loc[2] = ['Average Odds Difference'] + list((metrics_table[('mean', 'Value')]['Average Odds Difference'], -0.1, 0.1))\r\n",
        "fairness_df.loc[3] = ['Equal Opportunity Difference'] + list((metrics_table[('mean', 'Value')]['Equal Opportunity Difference'], -0.1, 0.1))"
      ],
      "execution_count": null,
      "outputs": []
    },
    {
      "cell_type": "code",
      "metadata": {
        "id": "4Qc7FVpA7zsu"
      },
      "source": [
        "# Chart the metrics\r\n",
        "\r\n",
        "import matplotlib.pyplot as plt\r\n",
        "import seaborn as sns\r\n",
        "import matplotlib.patches as patches\r\n",
        "import numpy as np\r\n",
        "\r\n",
        "def plot_metrics(df_fair): \r\n",
        "  def plot_metric(metric, ylim):\r\n",
        "    fig, ax = plt.subplots()\r\n",
        "    ax = sns.barplot(data=metric, x=\"Metric\", y=\"Value\")\r\n",
        "    plt.axhline(np.mean(metric[[\"Min\", \"Max\"]].values), color='black')\r\n",
        "    plt.ylim(*ylim)\r\n",
        "    range_height = metric[[\"Max\"]].values[0][0] - metric[[\"Min\"]].values[0][0]\r\n",
        "    ax.add_patch(patches.Rectangle((-1, metric[[\"Min\"]].values[0][0]), 2 , range_height, facecolor=\"green\", alpha=0.3))\r\n",
        "\r\n",
        "  plot_metric(df_fair.iloc[[0]], (0, 2))\r\n",
        "  plot_metric(df_fair.iloc[[1]], (-1, 1))\r\n",
        "  plot_metric(df_fair.iloc[[2]], (-1, 1))\r\n",
        "  plot_metric(df_fair.iloc[[3]], (-1, 1))\r\n",
        "\r\n",
        "plot_metrics(fairness_df)"
      ],
      "execution_count": null,
      "outputs": []
    }
  ]
}