{
  "nbformat": 4,
  "nbformat_minor": 0,
  "metadata": {
    "colab": {
      "name": "3. Preprocess the HMDA dataset.ipynb",
      "provenance": [],
      "collapsed_sections": []
    },
    "kernelspec": {
      "name": "python3",
      "display_name": "Python 3"
    }
  },
  "cells": [
    {
      "cell_type": "markdown",
      "metadata": {
        "id": "VTFYu2FhYuQ_"
      },
      "source": [
        "# Load data"
      ]
    },
    {
      "cell_type": "code",
      "metadata": {
        "colab": {
          "base_uri": "https://localhost:8080/"
        },
        "id": "ElQO6HmIwed2",
        "outputId": "606ed88e-dd86-4026-d967-ab3ff826343e"
      },
      "source": [
        "# Mount Google Drive locally\n",
        "from google.colab import drive\n",
        "drive.mount('/content/drive')"
      ],
      "execution_count": null,
      "outputs": [
        {
          "output_type": "stream",
          "text": [
            "Drive already mounted at /content/drive; to attempt to forcibly remount, call drive.mount(\"/content/drive\", force_remount=True).\n"
          ],
          "name": "stdout"
        }
      ]
    },
    {
      "cell_type": "code",
      "metadata": {
        "id": "_5VMvi5Wynl3"
      },
      "source": [
        "# Load the dataset into a pandas dataframe\n",
        "import pandas as pd\n",
        "df = pd.read_pickle(\"/content/drive/MyDrive/liveproject/mortgage_data_balanced.pkl.gz\")"
      ],
      "execution_count": null,
      "outputs": []
    },
    {
      "cell_type": "markdown",
      "metadata": {
        "id": "u7VGv74jYhVb"
      },
      "source": [
        "# Remove redundant columns"
      ]
    },
    {
      "cell_type": "code",
      "metadata": {
        "id": "UwUnAE2yZUFO"
      },
      "source": [
        " keep_vars = ['agency_abbr', 'loan_type_name', 'loan_amount_000s', 'owner_occupancy_name', 'loan_purpose_name', 'property_type_name', 'applicant_ethnicity_name', \r\n",
        "              'applicant_race_name_1', 'applicant_sex_name', 'applicant_income_000s', 'population', 'minority_population', 'hud_median_family_income', \r\n",
        "              'tract_to_msamd_income', 'number_of_owner_occupied_units', 'number_of_1_to_4_family_units', 'action_taken_name']\r\n",
        "      \r\n",
        "df = df[keep_vars].copy()"
      ],
      "execution_count": null,
      "outputs": []
    },
    {
      "cell_type": "markdown",
      "metadata": {
        "id": "Vzg6EgazfxbW"
      },
      "source": [
        "# One-hot encode the categorical columns"
      ]
    },
    {
      "cell_type": "code",
      "metadata": {
        "id": "Y6GCfIjtyqEG"
      },
      "source": [
        "# categorical variables\n",
        "cat_variables = ['applicant_ethnicity_name', 'applicant_race_name_1', 'applicant_sex_name', 'agency_abbr',\n",
        "                                 'owner_occupancy_name', 'property_type_name', 'loan_purpose_name', 'loan_type_name']\n",
        "\n",
        "# initialise an empty dataframe with the same number of rows as df\n",
        "df_cat = pd.DataFrame(index=df.index)\n",
        "\n",
        "# import OneHotEncoder\n",
        "from sklearn.preprocessing import OneHotEncoder\n",
        "\n",
        "# I will do a loop for pedagogical reasons, but it is not entirely necessary\n",
        "for cat in cat_variables:\n",
        "    # one-hot encoding fitting\n",
        "    one_hot_func = OneHotEncoder().fit(df[[cat]])\n",
        "    \n",
        "    # mapping\n",
        "    cat_mapped = one_hot_func.transform(df[[cat]]).toarray()\n",
        "    \n",
        "    # storing\n",
        "    for (k, cat_label) in enumerate(one_hot_func.categories_[0]):\n",
        "        df_cat[cat + \"_\" + cat_label] = cat_mapped[:, k]\n",
        "\n",
        "# Check correct number of one hot encoded columns\n",
        "assert(df_cat.shape == (165950,27))"
      ],
      "execution_count": null,
      "outputs": []
    },
    {
      "cell_type": "markdown",
      "metadata": {
        "id": "4x4KQVlMf5FL"
      },
      "source": [
        "# Consolidate a final dataset"
      ]
    },
    {
      "cell_type": "code",
      "metadata": {
        "id": "Z-lbRQSVbqC8"
      },
      "source": [
        "# other integer variables\r\n",
        "int_variables = ['loan_amount_000s', 'applicant_income_000s', 'population', 'minority_population', \r\n",
        "                 'hud_median_family_income', 'tract_to_msamd_income', 'number_of_owner_occupied_units', \r\n",
        "                 'number_of_1_to_4_family_units']\r\n",
        "\r\n",
        "\r\n",
        "# target variable\r\n",
        "output_variable = ['action_taken_name']\r\n",
        "\r\n",
        "# consolidating a final dataset\r\n",
        "df_final = pd.concat([df[int_variables], df_cat, (df[output_variable] == \"Application denied by financial institution\").copy()], axis=1)\r\n",
        "\r\n",
        "assert(df_final.shape == (165950,36))"
      ],
      "execution_count": null,
      "outputs": []
    },
    {
      "cell_type": "markdown",
      "metadata": {
        "id": "r44cHJiawMOA"
      },
      "source": [
        "# Save the dataset as a pickled dataframe"
      ]
    },
    {
      "cell_type": "code",
      "metadata": {
        "id": "63ZWE0RrwYS7"
      },
      "source": [
        "df_final.to_pickle(\"/content/drive/My Drive/liveproject/mortgage_data_preprocessed.pkl.gz\")"
      ],
      "execution_count": null,
      "outputs": []
    }
  ]
}