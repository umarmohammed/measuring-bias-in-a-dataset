{
  "nbformat": 4,
  "nbformat_minor": 0,
  "metadata": {
    "colab": {
      "name": "4. Recompute bias metrics on transformed data.ipynb",
      "provenance": [],
      "authorship_tag": "ABX9TyOEjER7a8tB33E3yQdtL5Nh",
      "include_colab_link": true
    },
    "kernelspec": {
      "name": "python3",
      "display_name": "Python 3"
    }
  },
  "cells": [
    {
      "cell_type": "markdown",
      "metadata": {
        "id": "view-in-github",
        "colab_type": "text"
      },
      "source": [
        "<a href=\"https://colab.research.google.com/github/umarmohammed/measuring-bias-in-a-dataset/blob/project-4/4.%20Recompute%20bias%20metrics%20on%20transformed%20data.ipynb\" target=\"_parent\"><img src=\"https://colab.research.google.com/assets/colab-badge.svg\" alt=\"Open In Colab\"/></a>"
      ]
    },
    {
      "cell_type": "markdown",
      "metadata": {
        "id": "_MpfFVO8c4lz"
      },
      "source": [
        "## 1. Load the dataset and predictions"
      ]
    },
    {
      "cell_type": "code",
      "metadata": {
        "id": "7BNO7v-xV_Vf",
        "colab": {
          "base_uri": "https://localhost:8080/"
        },
        "outputId": "86c20080-9c02-4b6f-cc18-e37c5bd1c9f7"
      },
      "source": [
        "# Mount Google Drive locally\n",
        "from google.colab import drive\n",
        "drive.mount('/content/drive')"
      ],
      "execution_count": 1,
      "outputs": [
        {
          "output_type": "stream",
          "text": [
            "Mounted at /content/drive\n"
          ],
          "name": "stdout"
        }
      ]
    },
    {
      "cell_type": "code",
      "metadata": {
        "id": "pRd8PE6mdAae"
      },
      "source": [
        "# load the dataset with predictions\n",
        "from joblib import load\n",
        "\n",
        "data = load(\"/content/drive/MyDrive/liveProject/mortgate_data_with_predictions.pkl.gz\")\n",
        "\n",
        "df = data[0]\n",
        "ypred_label = data[1]"
      ],
      "execution_count": 2,
      "outputs": []
    },
    {
      "cell_type": "markdown",
      "metadata": {
        "id": "uwI4yj6FdMRN"
      },
      "source": [
        "## 2. Compute and chart bias metrics"
      ]
    },
    {
      "cell_type": "code",
      "metadata": {
        "id": "VrxRuCAyXKUk",
        "colab": {
          "base_uri": "https://localhost:8080/"
        },
        "outputId": "a0b61c82-cfa6-48cb-e17a-b3d7996304ae"
      },
      "source": [
        "# Install AIF360\n",
        "!pip install aif360"
      ],
      "execution_count": 3,
      "outputs": [
        {
          "output_type": "stream",
          "text": [
            "Collecting aif360\n",
            "\u001b[?25l  Downloading https://files.pythonhosted.org/packages/3b/e9/f2a936a00c65ce7b4d45587a33c4522fabd773f7325d505a87d133a1dabc/aif360-0.3.0-py3-none-any.whl (165kB)\n",
            "\r\u001b[K     |██                              | 10kB 16.7MB/s eta 0:00:01\r\u001b[K     |████                            | 20kB 21.6MB/s eta 0:00:01\r\u001b[K     |██████                          | 30kB 13.9MB/s eta 0:00:01\r\u001b[K     |████████                        | 40kB 9.9MB/s eta 0:00:01\r\u001b[K     |██████████                      | 51kB 8.8MB/s eta 0:00:01\r\u001b[K     |███████████▉                    | 61kB 8.3MB/s eta 0:00:01\r\u001b[K     |█████████████▉                  | 71kB 8.3MB/s eta 0:00:01\r\u001b[K     |███████████████▉                | 81kB 8.8MB/s eta 0:00:01\r\u001b[K     |█████████████████▉              | 92kB 8.2MB/s eta 0:00:01\r\u001b[K     |███████████████████▉            | 102kB 8.6MB/s eta 0:00:01\r\u001b[K     |█████████████████████▊          | 112kB 8.6MB/s eta 0:00:01\r\u001b[K     |███████████████████████▊        | 122kB 8.6MB/s eta 0:00:01\r\u001b[K     |█████████████████████████▊      | 133kB 8.6MB/s eta 0:00:01\r\u001b[K     |███████████████████████████▊    | 143kB 8.6MB/s eta 0:00:01\r\u001b[K     |█████████████████████████████▊  | 153kB 8.6MB/s eta 0:00:01\r\u001b[K     |███████████████████████████████▋| 163kB 8.6MB/s eta 0:00:01\r\u001b[K     |████████████████████████████████| 174kB 8.6MB/s \n",
            "\u001b[?25hRequirement already satisfied: scikit-learn>=0.21 in /usr/local/lib/python3.6/dist-packages (from aif360) (0.22.2.post1)\n",
            "Requirement already satisfied: matplotlib in /usr/local/lib/python3.6/dist-packages (from aif360) (3.2.2)\n",
            "Requirement already satisfied: pandas>=0.24.0 in /usr/local/lib/python3.6/dist-packages (from aif360) (1.1.4)\n",
            "Requirement already satisfied: scipy>=1.2.0 in /usr/local/lib/python3.6/dist-packages (from aif360) (1.4.1)\n",
            "Requirement already satisfied: numpy>=1.16 in /usr/local/lib/python3.6/dist-packages (from aif360) (1.18.5)\n",
            "Requirement already satisfied: joblib>=0.11 in /usr/local/lib/python3.6/dist-packages (from scikit-learn>=0.21->aif360) (0.17.0)\n",
            "Requirement already satisfied: python-dateutil>=2.1 in /usr/local/lib/python3.6/dist-packages (from matplotlib->aif360) (2.8.1)\n",
            "Requirement already satisfied: pyparsing!=2.0.4,!=2.1.2,!=2.1.6,>=2.0.1 in /usr/local/lib/python3.6/dist-packages (from matplotlib->aif360) (2.4.7)\n",
            "Requirement already satisfied: kiwisolver>=1.0.1 in /usr/local/lib/python3.6/dist-packages (from matplotlib->aif360) (1.3.1)\n",
            "Requirement already satisfied: cycler>=0.10 in /usr/local/lib/python3.6/dist-packages (from matplotlib->aif360) (0.10.0)\n",
            "Requirement already satisfied: pytz>=2017.2 in /usr/local/lib/python3.6/dist-packages (from pandas>=0.24.0->aif360) (2018.9)\n",
            "Requirement already satisfied: six>=1.5 in /usr/local/lib/python3.6/dist-packages (from python-dateutil>=2.1->matplotlib->aif360) (1.15.0)\n",
            "Installing collected packages: aif360\n",
            "Successfully installed aif360-0.3.0\n"
          ],
          "name": "stdout"
        }
      ]
    },
    {
      "cell_type": "code",
      "metadata": {
        "id": "ixFlvmwreWK9"
      },
      "source": [
        "# Create a BinaryLabelDataset to represent the data\n",
        "from aif360.datasets import BinaryLabelDataset\n",
        "\n",
        "dataset = BinaryLabelDataset(favorable_label=False, unfavorable_label=True, df=df, label_names=['action_taken_name'], protected_attribute_names=['applicant_sex_name_Female'])"
      ],
      "execution_count": 4,
      "outputs": []
    },
    {
      "cell_type": "code",
      "metadata": {
        "id": "4RUYWpcxejp5"
      },
      "source": [
        "# Create a BinaryLabelDataset to represent the predictions\n",
        "dataset_pred = dataset.copy() \n",
        "dataset_pred.labels = ypred_label"
      ],
      "execution_count": 5,
      "outputs": []
    },
    {
      "cell_type": "code",
      "metadata": {
        "id": "x6QXXHcreqrH"
      },
      "source": [
        "# Create a ClassificationMetric\n",
        "from aif360.metrics import ClassificationMetric\n",
        "\n",
        "privileged_group = [{'applicant_sex_name_Female': 0}] \n",
        "unprivileged_group = [{'applicant_sex_name_Female': 1}]\n",
        "metric = ClassificationMetric(dataset, dataset_pred, unprivileged_group, privileged_group)"
      ],
      "execution_count": 7,
      "outputs": []
    },
    {
      "cell_type": "code",
      "metadata": {
        "id": "rGirWK_NfCj1",
        "outputId": "d17c4376-304f-403c-da97-be2c1e0d3b87",
        "colab": {
          "base_uri": "https://localhost:8080/",
          "height": 173
        }
      },
      "source": [
        "# Compute bias metrics \n",
        "import pandas as pd \n",
        "\n",
        "def compute_fair_metrics(metric):\n",
        "  fair_metrics = {\n",
        "    \"DispImpact\": [metric.disparate_impact, 0.8, 1.2], \n",
        "    \"StatParity\": [metric.statistical_parity_difference, -0.1, 0.1],\n",
        "    \"AvgOddsDiff\": [metric.average_odds_difference, -0.1, 0.1],\n",
        "    \"EqualOppDiff\": [metric.equal_opportunity_difference, -0.1, 0.1]\n",
        "    }\n",
        "\n",
        "  metrics = [[ff, fair_metrics[ff][0](), fair_metrics[ff][1], fair_metrics[ff][2]] for ff in fair_metrics]\n",
        "\n",
        "  return pd.DataFrame(metrics, columns=[\"Metric\", \"Value\", \"Min\", \"Max\"])\n",
        "\n",
        "df_fair = compute_fair_metrics(metric)\n",
        "\n",
        "df_fair"
      ],
      "execution_count": 8,
      "outputs": [
        {
          "output_type": "execute_result",
          "data": {
            "text/html": [
              "<div>\n",
              "<style scoped>\n",
              "    .dataframe tbody tr th:only-of-type {\n",
              "        vertical-align: middle;\n",
              "    }\n",
              "\n",
              "    .dataframe tbody tr th {\n",
              "        vertical-align: top;\n",
              "    }\n",
              "\n",
              "    .dataframe thead th {\n",
              "        text-align: right;\n",
              "    }\n",
              "</style>\n",
              "<table border=\"1\" class=\"dataframe\">\n",
              "  <thead>\n",
              "    <tr style=\"text-align: right;\">\n",
              "      <th></th>\n",
              "      <th>Metric</th>\n",
              "      <th>Value</th>\n",
              "      <th>Min</th>\n",
              "      <th>Max</th>\n",
              "    </tr>\n",
              "  </thead>\n",
              "  <tbody>\n",
              "    <tr>\n",
              "      <th>0</th>\n",
              "      <td>DispImpact</td>\n",
              "      <td>1.287024</td>\n",
              "      <td>0.8</td>\n",
              "      <td>1.2</td>\n",
              "    </tr>\n",
              "    <tr>\n",
              "      <th>1</th>\n",
              "      <td>StatParity</td>\n",
              "      <td>0.113421</td>\n",
              "      <td>-0.1</td>\n",
              "      <td>0.1</td>\n",
              "    </tr>\n",
              "    <tr>\n",
              "      <th>2</th>\n",
              "      <td>AvgOddsDiff</td>\n",
              "      <td>0.105941</td>\n",
              "      <td>-0.1</td>\n",
              "      <td>0.1</td>\n",
              "    </tr>\n",
              "    <tr>\n",
              "      <th>3</th>\n",
              "      <td>EqualOppDiff</td>\n",
              "      <td>0.107389</td>\n",
              "      <td>-0.1</td>\n",
              "      <td>0.1</td>\n",
              "    </tr>\n",
              "  </tbody>\n",
              "</table>\n",
              "</div>"
            ],
            "text/plain": [
              "         Metric     Value  Min  Max\n",
              "0    DispImpact  1.287024  0.8  1.2\n",
              "1    StatParity  0.113421 -0.1  0.1\n",
              "2   AvgOddsDiff  0.105941 -0.1  0.1\n",
              "3  EqualOppDiff  0.107389 -0.1  0.1"
            ]
          },
          "metadata": {
            "tags": []
          },
          "execution_count": 8
        }
      ]
    },
    {
      "cell_type": "code",
      "metadata": {
        "id": "nXg5u7HPUWSD",
        "outputId": "de6acad8-0f66-4717-ce10-31dae82c8b82",
        "colab": {
          "base_uri": "https://localhost:8080/",
          "height": 1000
        }
      },
      "source": [
        "# Chart the metrics\n",
        "\n",
        "import matplotlib.pyplot as plt\n",
        "import seaborn as sns\n",
        "import matplotlib.patches as patches\n",
        "import numpy as np\n",
        "\n",
        "def plot_metrics(df_fair): \n",
        "  def plot_metric(metric, ylim):\n",
        "    fig, ax = plt.subplots()\n",
        "    ax = sns.barplot(data=metric, x=\"Metric\", y=\"Value\")\n",
        "    plt.axhline(np.mean(metric[[\"Min\", \"Max\"]].values), color='black')\n",
        "    plt.ylim(*ylim)\n",
        "    range_height = metric[[\"Max\"]].values[0][0] - metric[[\"Min\"]].values[0][0]\n",
        "    ax.add_patch(patches.Rectangle((-1, metric[[\"Min\"]].values[0][0]), 2 , range_height, facecolor=\"green\", alpha=0.3))\n",
        "\n",
        "  plot_metric(df_fair.iloc[[0]], (0, 2))\n",
        "  plot_metric(df_fair.iloc[[1]], (-1, 1))\n",
        "  plot_metric(df_fair.iloc[[2]], (-1, 1))\n",
        "  plot_metric(df_fair.iloc[[3]], (-1, 1))\n",
        "\n",
        "plot_metrics(df_fair)"
      ],
      "execution_count": 10,
      "outputs": [
        {
          "output_type": "display_data",
          "data": {
            "image/png": "[encoded data removed]",
            "text/plain": [
              "<Figure size 432x288 with 1 Axes>"
            ]
          },
          "metadata": {
            "tags": [],
            "needs_background": "light"
          }
        },
        {
          "output_type": "display_data",
          "data": {
            "image/png": "[encoded data removed]",
            "text/plain": [
              "<Figure size 432x288 with 1 Axes>"
            ]
          },
          "metadata": {
            "tags": [],
            "needs_background": "light"
          }
        },
        {
          "output_type": "display_data",
          "data": {
            "image/png": "[encoded data removed]",
            "text/plain": [
              "<Figure size 432x288 with 1 Axes>"
            ]
          },
          "metadata": {
            "tags": [],
            "needs_background": "light"
          }
        },
        {
          "output_type": "display_data",
          "data": {
            "image/png": "[encoded data removed]",
            "text/plain": [
              "<Figure size 432x288 with 1 Axes>"
            ]
          },
          "metadata": {
            "tags": [],
            "needs_background": "light"
          }
        }
      ]
    },
    {
      "cell_type": "markdown",
      "metadata": {
        "id": "VIItBuQsUiJt"
      },
      "source": [
        "## 3. Post-process the model using Calibrated Equalised Odds"
      ]
    },
    {
      "cell_type": "code",
      "metadata": {
        "id": "GhkhKEzhUwcD"
      },
      "source": [
        "# Use the Calibrated Equalised Odds technique\n",
        "\n",
        "from aif360.algorithms.postprocessing import CalibratedEqOddsPostprocessing\n",
        "\n",
        "cep = CalibratedEqOddsPostprocessing(unprivileged_group, privileged_group)\n",
        "\n",
        "dataset_pred_transformed = cep.predict(dataset_pred)"
      ],
      "execution_count": 20,
      "outputs": []
    },
    {
      "cell_type": "markdown",
      "metadata": {
        "id": "I7iUfQpZVCAQ"
      },
      "source": [
        "## 4. Recompute bias metrics"
      ]
    },
    {
      "cell_type": "code",
      "metadata": {
        "id": "GxC3vnP4VSkE"
      },
      "source": [
        "# Create a ClassificationMetric\n",
        "\n",
        "metric_transformed = ClassificationMetric(dataset, dataset_pred_transformed, unprivileged_group, privileged_group)"
      ],
      "execution_count": 24,
      "outputs": []
    },
    {
      "cell_type": "code",
      "metadata": {
        "id": "QlBJQBR2VgwI",
        "outputId": "d5975d00-6bf9-4431-f156-8b82a022aa59",
        "colab": {
          "base_uri": "https://localhost:8080/",
          "height": 173
        }
      },
      "source": [
        "# Compute bias metrics\n",
        "\n",
        "df_fair = compute_fair_metrics(metric_transformed)\n",
        "df_fair"
      ],
      "execution_count": 25,
      "outputs": [
        {
          "output_type": "execute_result",
          "data": {
            "text/html": [
              "<div>\n",
              "<style scoped>\n",
              "    .dataframe tbody tr th:only-of-type {\n",
              "        vertical-align: middle;\n",
              "    }\n",
              "\n",
              "    .dataframe tbody tr th {\n",
              "        vertical-align: top;\n",
              "    }\n",
              "\n",
              "    .dataframe thead th {\n",
              "        text-align: right;\n",
              "    }\n",
              "</style>\n",
              "<table border=\"1\" class=\"dataframe\">\n",
              "  <thead>\n",
              "    <tr style=\"text-align: right;\">\n",
              "      <th></th>\n",
              "      <th>Metric</th>\n",
              "      <th>Value</th>\n",
              "      <th>Min</th>\n",
              "      <th>Max</th>\n",
              "    </tr>\n",
              "  </thead>\n",
              "  <tbody>\n",
              "    <tr>\n",
              "      <th>0</th>\n",
              "      <td>DispImpact</td>\n",
              "      <td>1.138932</td>\n",
              "      <td>0.8</td>\n",
              "      <td>1.2</td>\n",
              "    </tr>\n",
              "    <tr>\n",
              "      <th>1</th>\n",
              "      <td>StatParity</td>\n",
              "      <td>0.066741</td>\n",
              "      <td>-0.1</td>\n",
              "      <td>0.1</td>\n",
              "    </tr>\n",
              "    <tr>\n",
              "      <th>2</th>\n",
              "      <td>AvgOddsDiff</td>\n",
              "      <td>0.000000</td>\n",
              "      <td>-0.1</td>\n",
              "      <td>0.1</td>\n",
              "    </tr>\n",
              "    <tr>\n",
              "      <th>3</th>\n",
              "      <td>EqualOppDiff</td>\n",
              "      <td>0.000000</td>\n",
              "      <td>-0.1</td>\n",
              "      <td>0.1</td>\n",
              "    </tr>\n",
              "  </tbody>\n",
              "</table>\n",
              "</div>"
            ],
            "text/plain": [
              "         Metric     Value  Min  Max\n",
              "0    DispImpact  1.138932  0.8  1.2\n",
              "1    StatParity  0.066741 -0.1  0.1\n",
              "2   AvgOddsDiff  0.000000 -0.1  0.1\n",
              "3  EqualOppDiff  0.000000 -0.1  0.1"
            ]
          },
          "metadata": {
            "tags": []
          },
          "execution_count": 25
        }
      ]
    },
    {
      "cell_type": "code",
      "metadata": {
        "id": "yiiBiaK9X-7H",
        "outputId": "bf80102a-e7dc-4b99-ed5c-4c6de04f49de",
        "colab": {
          "base_uri": "https://localhost:8080/",
          "height": 1000
        }
      },
      "source": [
        "# Chart the metrics\n",
        "\n",
        "plot_metrics(df_fair)"
      ],
      "execution_count": 26,
      "outputs": [
        {
          "output_type": "display_data",
          "data": {
            "image/png": "[encoded data removed]",
            "text/plain": [
              "<Figure size 432x288 with 1 Axes>"
            ]
          },
          "metadata": {
            "tags": [],
            "needs_background": "light"
          }
        },
        {
          "output_type": "display_data",
          "data": {
            "image/png": "[encoded data removed]",
            "text/plain": [
              "<Figure size 432x288 with 1 Axes>"
            ]
          },
          "metadata": {
            "tags": [],
            "needs_background": "light"
          }
        },
        {
          "output_type": "display_data",
          "data": {
            "image/png": "[encoded data removed]",
            "text/plain": [
              "<Figure size 432x288 with 1 Axes>"
            ]
          },
          "metadata": {
            "tags": [],
            "needs_background": "light"
          }
        },
        {
          "output_type": "display_data",
          "data": {
            "image/png": "[encoded data removed]",
            "text/plain": [
              "<Figure size 432x288 with 1 Axes>"
            ]
          },
          "metadata": {
            "tags": [],
            "needs_background": "light"
          }
        }
      ]
    },
    {
      "cell_type": "code",
      "metadata": {
        "id": "aie97Y9ipFSh"
      },
      "source": [
        "# Show how to use the cep in a pipeline"
      ],
      "execution_count": null,
      "outputs": []
    }
  ]
}