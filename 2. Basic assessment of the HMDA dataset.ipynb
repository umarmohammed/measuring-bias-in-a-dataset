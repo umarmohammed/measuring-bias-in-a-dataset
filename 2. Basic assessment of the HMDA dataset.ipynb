{
  "nbformat": 4,
  "nbformat_minor": 0,
  "metadata": {
    "colab": {
      "name": "2. Basic assessment of the HMDA dataset.ipynb",
      "provenance": [],
      "toc_visible": true
    },
    "kernelspec": {
      "name": "python3",
      "display_name": "Python 3"
    }
  },
  "cells": [
    {
      "cell_type": "markdown",
      "metadata": {
        "id": "_F_ZV5HlXc8S"
      },
      "source": [
        "# Load Data"
      ]
    },
    {
      "cell_type": "code",
      "metadata": {
        "colab": {
          "base_uri": "https://localhost:8080/"
        },
        "id": "US-WP0fIwyjc",
        "outputId": "974c3c60-4944-4c00-cc39-ad90d1d1d6f6"
      },
      "source": [
        "# Mount Google Drive locally\n",
        "from google.colab import drive\n",
        "drive.mount('/content/drive')"
      ],
      "execution_count": 17,
      "outputs": [
        {
          "output_type": "stream",
          "text": [
            "Drive already mounted at /content/drive; to attempt to forcibly remount, call drive.mount(\"/content/drive\", force_remount=True).\n"
          ],
          "name": "stdout"
        }
      ]
    },
    {
      "cell_type": "code",
      "metadata": {
        "id": "9igC31jxxLbJ"
      },
      "source": [
        "import pandas as pd\n",
        "df = pd.read_pickle(\"/content/drive/MyDrive/liveproject/mortgage_data_balanced.pkl.gz\")"
      ],
      "execution_count": 18,
      "outputs": []
    },
    {
      "cell_type": "markdown",
      "metadata": {
        "id": "T22o9Ad9XmnS"
      },
      "source": [
        "# Deliverable 1: Frequency and charts"
      ]
    },
    {
      "cell_type": "code",
      "metadata": {
        "colab": {
          "base_uri": "https://localhost:8080/"
        },
        "id": "MGRUnd3vuqXV",
        "outputId": "c1cc1dfa-e45e-433d-a5bf-caa1e38a0b83"
      },
      "source": [
        "df[\"applicant_ethnicity_name\"].value_counts()/df.shape[0] * 100.0"
      ],
      "execution_count": 19,
      "outputs": [
        {
          "output_type": "execute_result",
          "data": {
            "text/plain": [
              "Not Hispanic or Latino    93.284122\n",
              "Hispanic or Latino         6.715878\n",
              "Name: applicant_ethnicity_name, dtype: float64"
            ]
          },
          "metadata": {
            "tags": []
          },
          "execution_count": 19
        }
      ]
    },
    {
      "cell_type": "code",
      "metadata": {
        "colab": {
          "base_uri": "https://localhost:8080/"
        },
        "id": "MRs46u75uuGd",
        "outputId": "9e39557a-b6cc-4b77-cbed-dcab1312e29f"
      },
      "source": [
        "df[\"applicant_race_name_1\"].value_counts()/df.shape[0] * 100.0"
      ],
      "execution_count": 20,
      "outputs": [
        {
          "output_type": "execute_result",
          "data": {
            "text/plain": [
              "White                                        85.706538\n",
              "Black or African American                     7.668575\n",
              "Asian                                         5.495029\n",
              "American Indian or Alaska Native              0.738174\n",
              "Native Hawaiian or Other Pacific Islander     0.391684\n",
              "Name: applicant_race_name_1, dtype: float64"
            ]
          },
          "metadata": {
            "tags": []
          },
          "execution_count": 20
        }
      ]
    },
    {
      "cell_type": "code",
      "metadata": {
        "colab": {
          "base_uri": "https://localhost:8080/"
        },
        "id": "EyshBB6BuyPL",
        "outputId": "86cd7bee-fbd4-4a18-98c1-fb5ed1c00ae3"
      },
      "source": [
        "df[\"applicant_sex_name\"].value_counts()/df.shape[0] * 100.0"
      ],
      "execution_count": 21,
      "outputs": [
        {
          "output_type": "execute_result",
          "data": {
            "text/plain": [
              "Male      69.446219\n",
              "Female    30.553781\n",
              "Name: applicant_sex_name, dtype: float64"
            ]
          },
          "metadata": {
            "tags": []
          },
          "execution_count": 21
        }
      ]
    },
    {
      "cell_type": "code",
      "metadata": {
        "colab": {
          "base_uri": "https://localhost:8080/"
        },
        "id": "_shIhly_u0_D",
        "outputId": "c47fd2df-febf-4471-81b7-baa243d82794"
      },
      "source": [
        "df[\"action_taken_name\"].value_counts()/df.shape[0] * 100.0"
      ],
      "execution_count": 22,
      "outputs": [
        {
          "output_type": "execute_result",
          "data": {
            "text/plain": [
              "Loan originated                                57.208195\n",
              "Application denied by financial institution    42.791805\n",
              "Name: action_taken_name, dtype: float64"
            ]
          },
          "metadata": {
            "tags": []
          },
          "execution_count": 22
        }
      ]
    },
    {
      "cell_type": "code",
      "metadata": {
        "colab": {
          "base_uri": "https://localhost:8080/",
          "height": 286
        },
        "id": "a0NeP3WaXtuc",
        "outputId": "d4a23294-812a-4110-aea0-bdc6d81187a7"
      },
      "source": [
        "import seaborn as sns\n",
        "d = {\"Mortgage\": [\"Originated\", \"Denied\"],\n",
        "     \"Freq\": (df[\"action_taken_name\"].value_counts()/df.shape[0] * 100.0).values}\n",
        "sns.barplot(data=d, y=\"Freq\", x=\"Mortgage\")"
      ],
      "execution_count": 23,
      "outputs": [
        {
          "output_type": "execute_result",
          "data": {
            "text/plain": [
              "<matplotlib.axes._subplots.AxesSubplot at 0x7fede8960fd0>"
            ]
          },
          "metadata": {
            "tags": []
          },
          "execution_count": 23
        },
        {
          "output_type": "display_data",
          "data": {
            "image/png": "[encoded data removed]",
            "text/plain": [
              "<Figure size 432x288 with 1 Axes>"
            ]
          },
          "metadata": {
            "tags": [],
            "needs_background": "light"
          }
        }
      ]
    },
    {
      "cell_type": "markdown",
      "metadata": {
        "id": "GZXs_PqLbEZ_"
      },
      "source": [
        "#Deliverable 2: Histograms"
      ]
    },
    {
      "cell_type": "code",
      "metadata": {
        "colab": {
          "base_uri": "https://localhost:8080/",
          "height": 297
        },
        "id": "PbGgyv-3Xtkv",
        "outputId": "b114d6b9-2d4c-41d9-f821-4756b42027c2"
      },
      "source": [
        "sns.histplot(data=df, x=\"applicant_income_000s\", bins=50)"
      ],
      "execution_count": 24,
      "outputs": [
        {
          "output_type": "execute_result",
          "data": {
            "text/plain": [
              "<matplotlib.axes._subplots.AxesSubplot at 0x7fedfd51a610>"
            ]
          },
          "metadata": {
            "tags": []
          },
          "execution_count": 24
        },
        {
          "output_type": "display_data",
          "data": {
            "image/png": "[encoded data removed]",
            "text/plain": [
              "<Figure size 432x288 with 1 Axes>"
            ]
          },
          "metadata": {
            "tags": [],
            "needs_background": "light"
          }
        }
      ]
    },
    {
      "cell_type": "code",
      "metadata": {
        "colab": {
          "base_uri": "https://localhost:8080/",
          "height": 350
        },
        "id": "67fYhtxPcEP7",
        "outputId": "e04bd4f5-39cf-4de2-ffe9-7d5f005008d8"
      },
      "source": [
        "df[\"log(applicant_income_000s)\"] = pd.np.log(df[\"applicant_income_000s\"].copy())\n",
        "sns.histplot(data=df, x=\"log(applicant_income_000s)\", bins=50)"
      ],
      "execution_count": 25,
      "outputs": [
        {
          "output_type": "stream",
          "text": [
            "/usr/local/lib/python3.7/dist-packages/ipykernel_launcher.py:1: FutureWarning: The pandas.np module is deprecated and will be removed from pandas in a future version. Import numpy directly instead\n",
            "  \"\"\"Entry point for launching an IPython kernel.\n"
          ],
          "name": "stderr"
        },
        {
          "output_type": "execute_result",
          "data": {
            "text/plain": [
              "<matplotlib.axes._subplots.AxesSubplot at 0x7fedff8291d0>"
            ]
          },
          "metadata": {
            "tags": []
          },
          "execution_count": 25
        },
        {
          "output_type": "display_data",
          "data": {
            "image/png": "[encoded data removed]",
            "text/plain": [
              "<Figure size 432x288 with 1 Axes>"
            ]
          },
          "metadata": {
            "tags": [],
            "needs_background": "light"
          }
        }
      ]
    },
    {
      "cell_type": "code",
      "metadata": {
        "colab": {
          "base_uri": "https://localhost:8080/",
          "height": 297
        },
        "id": "bbxk6EL6cO8h",
        "outputId": "d104aab8-5d88-436c-a913-34b8c41257ec"
      },
      "source": [
        "sns.histplot(data=df, x=\"log(applicant_income_000s)\", hue=\"applicant_sex_name\", bins=50)"
      ],
      "execution_count": 26,
      "outputs": [
        {
          "output_type": "execute_result",
          "data": {
            "text/plain": [
              "<matplotlib.axes._subplots.AxesSubplot at 0x7fedfaf587d0>"
            ]
          },
          "metadata": {
            "tags": []
          },
          "execution_count": 26
        },
        {
          "output_type": "display_data",
          "data": {
            "image/png": "[encoded data removed]",
            "text/plain": [
              "<Figure size 432x288 with 1 Axes>"
            ]
          },
          "metadata": {
            "tags": [],
            "needs_background": "light"
          }
        }
      ]
    },
    {
      "cell_type": "markdown",
      "metadata": {
        "id": "OEzoR5nVZ8Zy"
      },
      "source": [
        "#Deliverable 3: Contingency table and charts"
      ]
    },
    {
      "cell_type": "code",
      "metadata": {
        "colab": {
          "base_uri": "https://localhost:8080/",
          "height": 136
        },
        "id": "iOW_TZ4BxdyA",
        "outputId": "f670d8b3-ee68-4ef3-85a8-0bd725719df4"
      },
      "source": [
        "pd.crosstab(df[\"applicant_ethnicity_name\"], df[\"action_taken_name\"])/df.shape[0] * 100.0"
      ],
      "execution_count": 27,
      "outputs": [
        {
          "output_type": "execute_result",
          "data": {
            "text/html": [
              "<div>\n",
              "<style scoped>\n",
              "    .dataframe tbody tr th:only-of-type {\n",
              "        vertical-align: middle;\n",
              "    }\n",
              "\n",
              "    .dataframe tbody tr th {\n",
              "        vertical-align: top;\n",
              "    }\n",
              "\n",
              "    .dataframe thead th {\n",
              "        text-align: right;\n",
              "    }\n",
              "</style>\n",
              "<table border=\"1\" class=\"dataframe\">\n",
              "  <thead>\n",
              "    <tr style=\"text-align: right;\">\n",
              "      <th>action_taken_name</th>\n",
              "      <th>Application denied by financial institution</th>\n",
              "      <th>Loan originated</th>\n",
              "    </tr>\n",
              "    <tr>\n",
              "      <th>applicant_ethnicity_name</th>\n",
              "      <th></th>\n",
              "      <th></th>\n",
              "    </tr>\n",
              "  </thead>\n",
              "  <tbody>\n",
              "    <tr>\n",
              "      <th>Hispanic or Latino</th>\n",
              "      <td>4.066285</td>\n",
              "      <td>2.649593</td>\n",
              "    </tr>\n",
              "    <tr>\n",
              "      <th>Not Hispanic or Latino</th>\n",
              "      <td>38.725520</td>\n",
              "      <td>54.558602</td>\n",
              "    </tr>\n",
              "  </tbody>\n",
              "</table>\n",
              "</div>"
            ],
            "text/plain": [
              "action_taken_name         Application denied by financial institution  Loan originated\n",
              "applicant_ethnicity_name                                                              \n",
              "Hispanic or Latino                                           4.066285         2.649593\n",
              "Not Hispanic or Latino                                      38.725520        54.558602"
            ]
          },
          "metadata": {
            "tags": []
          },
          "execution_count": 27
        }
      ]
    },
    {
      "cell_type": "code",
      "metadata": {
        "colab": {
          "base_uri": "https://localhost:8080/",
          "height": 225
        },
        "id": "hm1dwqcvx-Vo",
        "outputId": "ccef0054-51b8-47f7-d065-0deb27164359"
      },
      "source": [
        "pd.crosstab(df[\"applicant_race_name_1\"], df[\"action_taken_name\"])/df.shape[0] * 100.0"
      ],
      "execution_count": 28,
      "outputs": [
        {
          "output_type": "execute_result",
          "data": {
            "text/html": [
              "<div>\n",
              "<style scoped>\n",
              "    .dataframe tbody tr th:only-of-type {\n",
              "        vertical-align: middle;\n",
              "    }\n",
              "\n",
              "    .dataframe tbody tr th {\n",
              "        vertical-align: top;\n",
              "    }\n",
              "\n",
              "    .dataframe thead th {\n",
              "        text-align: right;\n",
              "    }\n",
              "</style>\n",
              "<table border=\"1\" class=\"dataframe\">\n",
              "  <thead>\n",
              "    <tr style=\"text-align: right;\">\n",
              "      <th>action_taken_name</th>\n",
              "      <th>Application denied by financial institution</th>\n",
              "      <th>Loan originated</th>\n",
              "    </tr>\n",
              "    <tr>\n",
              "      <th>applicant_race_name_1</th>\n",
              "      <th></th>\n",
              "      <th></th>\n",
              "    </tr>\n",
              "  </thead>\n",
              "  <tbody>\n",
              "    <tr>\n",
              "      <th>American Indian or Alaska Native</th>\n",
              "      <td>0.476650</td>\n",
              "      <td>0.261525</td>\n",
              "    </tr>\n",
              "    <tr>\n",
              "      <th>Asian</th>\n",
              "      <td>1.927086</td>\n",
              "      <td>3.567942</td>\n",
              "    </tr>\n",
              "    <tr>\n",
              "      <th>Black or African American</th>\n",
              "      <td>5.504670</td>\n",
              "      <td>2.163905</td>\n",
              "    </tr>\n",
              "    <tr>\n",
              "      <th>Native Hawaiian or Other Pacific Islander</th>\n",
              "      <td>0.219343</td>\n",
              "      <td>0.172341</td>\n",
              "    </tr>\n",
              "    <tr>\n",
              "      <th>White</th>\n",
              "      <td>34.664055</td>\n",
              "      <td>51.042483</td>\n",
              "    </tr>\n",
              "  </tbody>\n",
              "</table>\n",
              "</div>"
            ],
            "text/plain": [
              "action_taken_name                          Application denied by financial institution  Loan originated\n",
              "applicant_race_name_1                                                                                  \n",
              "American Indian or Alaska Native                                              0.476650         0.261525\n",
              "Asian                                                                         1.927086         3.567942\n",
              "Black or African American                                                     5.504670         2.163905\n",
              "Native Hawaiian or Other Pacific Islander                                     0.219343         0.172341\n",
              "White                                                                        34.664055        51.042483"
            ]
          },
          "metadata": {
            "tags": []
          },
          "execution_count": 28
        }
      ]
    },
    {
      "cell_type": "code",
      "metadata": {
        "colab": {
          "base_uri": "https://localhost:8080/",
          "height": 136
        },
        "id": "MpMRCgZHyBKt",
        "outputId": "71ebd8b0-8252-4c5a-81b3-70150fb37094"
      },
      "source": [
        "pd.crosstab(df[\"applicant_sex_name\"], df[\"action_taken_name\"])/df.shape[0] * 100.0"
      ],
      "execution_count": 29,
      "outputs": [
        {
          "output_type": "execute_result",
          "data": {
            "text/html": [
              "<div>\n",
              "<style scoped>\n",
              "    .dataframe tbody tr th:only-of-type {\n",
              "        vertical-align: middle;\n",
              "    }\n",
              "\n",
              "    .dataframe tbody tr th {\n",
              "        vertical-align: top;\n",
              "    }\n",
              "\n",
              "    .dataframe thead th {\n",
              "        text-align: right;\n",
              "    }\n",
              "</style>\n",
              "<table border=\"1\" class=\"dataframe\">\n",
              "  <thead>\n",
              "    <tr style=\"text-align: right;\">\n",
              "      <th>action_taken_name</th>\n",
              "      <th>Application denied by financial institution</th>\n",
              "      <th>Loan originated</th>\n",
              "    </tr>\n",
              "    <tr>\n",
              "      <th>applicant_sex_name</th>\n",
              "      <th></th>\n",
              "      <th></th>\n",
              "    </tr>\n",
              "  </thead>\n",
              "  <tbody>\n",
              "    <tr>\n",
              "      <th>Female</th>\n",
              "      <td>15.658933</td>\n",
              "      <td>14.894848</td>\n",
              "    </tr>\n",
              "    <tr>\n",
              "      <th>Male</th>\n",
              "      <td>27.132871</td>\n",
              "      <td>42.313347</td>\n",
              "    </tr>\n",
              "  </tbody>\n",
              "</table>\n",
              "</div>"
            ],
            "text/plain": [
              "action_taken_name   Application denied by financial institution  Loan originated\n",
              "applicant_sex_name                                                              \n",
              "Female                                                15.658933        14.894848\n",
              "Male                                                  27.132871        42.313347"
            ]
          },
          "metadata": {
            "tags": []
          },
          "execution_count": 29
        }
      ]
    },
    {
      "cell_type": "code",
      "metadata": {
        "colab": {
          "base_uri": "https://localhost:8080/",
          "height": 365
        },
        "id": "gzikuAbKaBU7",
        "outputId": "b96bad35-6d8b-46a6-f016-b372f1ebc1ef"
      },
      "source": [
        "d = pd.crosstab(df[\"applicant_sex_name\"], df[\"action_taken_name\"])\n",
        "\n",
        "c=pd.DataFrame({'Gender': ['Female', 'Female', 'Male', 'Male'],\n",
        "                'Mortgage': ['Denied', 'Originated', 'Denied', 'Originated'],\n",
        "                'Value': pd.np.array([d.iloc[0][0]/(d.iloc[0][0] + d.iloc[0][1]), d.iloc[0][1]/(d.iloc[0][0] + d.iloc[0][1]), \n",
        "                                      d.iloc[1][0]/(d.iloc[1][0] + d.iloc[1][1]), d.iloc[1][1]/(d.iloc[1][0] + d.iloc[1][1])]) * 100.0})\n",
        "\n",
        "g = sns.catplot(data=c, x='Gender', y='Value', col='Mortgage', kind=\"bar\", height=4, aspect=.7)"
      ],
      "execution_count": 30,
      "outputs": [
        {
          "output_type": "stream",
          "text": [
            "/usr/local/lib/python3.7/dist-packages/ipykernel_launcher.py:5: FutureWarning: The pandas.np module is deprecated and will be removed from pandas in a future version. Import numpy directly instead\n",
            "  \"\"\"\n"
          ],
          "name": "stderr"
        },
        {
          "output_type": "display_data",
          "data": {
            "image/png": "[encoded data removed]",
            "text/plain": [
              "<Figure size 403.2x288 with 2 Axes>"
            ]
          },
          "metadata": {
            "tags": [],
            "needs_background": "light"
          }
        }
      ]
    }
  ]
}