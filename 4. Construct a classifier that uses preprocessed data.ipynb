{
  "nbformat": 4,
  "nbformat_minor": 0,
  "metadata": {
    "colab": {
      "name": "4. Construct a classifier that uses preprocessed data.ipynb",
      "provenance": [],
      "collapsed_sections": []
    },
    "kernelspec": {
      "name": "python3",
      "display_name": "Python 3"
    }
  },
  "cells": [
    {
      "cell_type": "markdown",
      "metadata": {
        "id": "WgDqWnmlFOat"
      },
      "source": [
        "# Load the data"
      ]
    },
    {
      "cell_type": "code",
      "metadata": {
        "id": "uvt7ntATFNU1",
        "outputId": "b61384c7-302c-42db-9ffc-32456388c426",
        "colab": {
          "base_uri": "https://localhost:8080/"
        }
      },
      "source": [
        "# Mount Google Drive locally\r\n",
        "from google.colab import drive\r\n",
        "drive.mount(\"/content/drive\")"
      ],
      "execution_count": 3,
      "outputs": [
        {
          "output_type": "stream",
          "text": [
            "Mounted at /content/drive\n"
          ],
          "name": "stdout"
        }
      ]
    },
    {
      "cell_type": "code",
      "metadata": {
        "id": "QL0cfnaMFNFG"
      },
      "source": [
        "# Load the datset into a pandas dataframe\r\n",
        "import pandas as pd\r\n",
        "\r\n",
        "df = pd.read_pickle(\"/content/drive/MyDrive/liveproject/mortgage_data_preprocessed.pkl.gz\")"
      ],
      "execution_count": 4,
      "outputs": []
    },
    {
      "cell_type": "markdown",
      "metadata": {
        "id": "6fFAuN1OFW3P"
      },
      "source": [
        "# Install AIF360"
      ]
    },
    {
      "cell_type": "code",
      "metadata": {
        "id": "grFw-K9LFY26",
        "outputId": "0c40e4d2-8ee1-4405-f045-58ec0a572f01",
        "colab": {
          "base_uri": "https://localhost:8080/"
        }
      },
      "source": [
        "!pip install AIF360"
      ],
      "execution_count": 5,
      "outputs": [
        {
          "output_type": "stream",
          "text": [
            "Collecting AIF360\n",
            "\u001b[?25l  Downloading https://files.pythonhosted.org/packages/4c/71/0e19eaf2c513b2328b2b6188770bf1692437380c6e7a1eec3320354e4c87/aif360-0.4.0-py3-none-any.whl (175kB)\n",
            "\r\u001b[K     |█▉                              | 10kB 11.3MB/s eta 0:00:01\r\u001b[K     |███▊                            | 20kB 10.8MB/s eta 0:00:01\r\u001b[K     |█████▋                          | 30kB 8.7MB/s eta 0:00:01\r\u001b[K     |███████▌                        | 40kB 7.1MB/s eta 0:00:01\r\u001b[K     |█████████▍                      | 51kB 4.1MB/s eta 0:00:01\r\u001b[K     |███████████▎                    | 61kB 4.4MB/s eta 0:00:01\r\u001b[K     |█████████████                   | 71kB 5.0MB/s eta 0:00:01\r\u001b[K     |███████████████                 | 81kB 5.0MB/s eta 0:00:01\r\u001b[K     |████████████████▉               | 92kB 5.1MB/s eta 0:00:01\r\u001b[K     |██████████████████▊             | 102kB 5.5MB/s eta 0:00:01\r\u001b[K     |████████████████████▋           | 112kB 5.5MB/s eta 0:00:01\r\u001b[K     |██████████████████████▌         | 122kB 5.5MB/s eta 0:00:01\r\u001b[K     |████████████████████████▎       | 133kB 5.5MB/s eta 0:00:01\r\u001b[K     |██████████████████████████▏     | 143kB 5.5MB/s eta 0:00:01\r\u001b[K     |████████████████████████████    | 153kB 5.5MB/s eta 0:00:01\r\u001b[K     |██████████████████████████████  | 163kB 5.5MB/s eta 0:00:01\r\u001b[K     |███████████████████████████████▉| 174kB 5.5MB/s eta 0:00:01\r\u001b[K     |████████████████████████████████| 184kB 5.5MB/s \n",
            "\u001b[?25hRequirement already satisfied: pandas>=0.24.0 in /usr/local/lib/python3.7/dist-packages (from AIF360) (1.1.5)\n",
            "Collecting tempeh\n",
            "  Downloading https://files.pythonhosted.org/packages/b7/1b/d016f8d2ac250b7df50ffb630c3f71371d35ac92deb80653b0e4d2f9c1a9/tempeh-0.1.12-py3-none-any.whl\n",
            "Requirement already satisfied: matplotlib in /usr/local/lib/python3.7/dist-packages (from AIF360) (3.2.2)\n",
            "Requirement already satisfied: scikit-learn>=0.22.1 in /usr/local/lib/python3.7/dist-packages (from AIF360) (0.22.2.post1)\n",
            "Requirement already satisfied: scipy<1.6.0,>=1.2.0 in /usr/local/lib/python3.7/dist-packages (from AIF360) (1.4.1)\n",
            "Requirement already satisfied: numpy>=1.16 in /usr/local/lib/python3.7/dist-packages (from AIF360) (1.19.5)\n",
            "Requirement already satisfied: python-dateutil>=2.7.3 in /usr/local/lib/python3.7/dist-packages (from pandas>=0.24.0->AIF360) (2.8.1)\n",
            "Requirement already satisfied: pytz>=2017.2 in /usr/local/lib/python3.7/dist-packages (from pandas>=0.24.0->AIF360) (2018.9)\n",
            "Collecting memory-profiler\n",
            "  Downloading https://files.pythonhosted.org/packages/8f/fd/d92b3295657f8837e0177e7b48b32d6651436f0293af42b76d134c3bb489/memory_profiler-0.58.0.tar.gz\n",
            "Requirement already satisfied: requests in /usr/local/lib/python3.7/dist-packages (from tempeh->AIF360) (2.23.0)\n",
            "Collecting shap\n",
            "\u001b[?25l  Downloading https://files.pythonhosted.org/packages/b9/f4/c5b95cddae15be80f8e58b25edceca105aa83c0b8c86a1edad24a6af80d3/shap-0.39.0.tar.gz (356kB)\n",
            "\u001b[K     |████████████████████████████████| 358kB 6.5MB/s \n",
            "\u001b[?25hRequirement already satisfied: pytest in /usr/local/lib/python3.7/dist-packages (from tempeh->AIF360) (3.6.4)\n",
            "Requirement already satisfied: pyparsing!=2.0.4,!=2.1.2,!=2.1.6,>=2.0.1 in /usr/local/lib/python3.7/dist-packages (from matplotlib->AIF360) (2.4.7)\n",
            "Requirement already satisfied: cycler>=0.10 in /usr/local/lib/python3.7/dist-packages (from matplotlib->AIF360) (0.10.0)\n",
            "Requirement already satisfied: kiwisolver>=1.0.1 in /usr/local/lib/python3.7/dist-packages (from matplotlib->AIF360) (1.3.1)\n",
            "Requirement already satisfied: joblib>=0.11 in /usr/local/lib/python3.7/dist-packages (from scikit-learn>=0.22.1->AIF360) (1.0.1)\n",
            "Requirement already satisfied: six>=1.5 in /usr/local/lib/python3.7/dist-packages (from python-dateutil>=2.7.3->pandas>=0.24.0->AIF360) (1.15.0)\n",
            "Requirement already satisfied: psutil in /usr/local/lib/python3.7/dist-packages (from memory-profiler->tempeh->AIF360) (5.4.8)\n",
            "Requirement already satisfied: certifi>=2017.4.17 in /usr/local/lib/python3.7/dist-packages (from requests->tempeh->AIF360) (2020.12.5)\n",
            "Requirement already satisfied: urllib3!=1.25.0,!=1.25.1,<1.26,>=1.21.1 in /usr/local/lib/python3.7/dist-packages (from requests->tempeh->AIF360) (1.24.3)\n",
            "Requirement already satisfied: idna<3,>=2.5 in /usr/local/lib/python3.7/dist-packages (from requests->tempeh->AIF360) (2.10)\n",
            "Requirement already satisfied: chardet<4,>=3.0.2 in /usr/local/lib/python3.7/dist-packages (from requests->tempeh->AIF360) (3.0.4)\n",
            "Requirement already satisfied: tqdm>4.25.0 in /usr/local/lib/python3.7/dist-packages (from shap->tempeh->AIF360) (4.41.1)\n",
            "Collecting slicer==0.0.7\n",
            "  Downloading https://files.pythonhosted.org/packages/78/c2/b3f55dfdb8af9812fdb9baf70cacf3b9e82e505b2bd4324d588888b81202/slicer-0.0.7-py3-none-any.whl\n",
            "Requirement already satisfied: numba in /usr/local/lib/python3.7/dist-packages (from shap->tempeh->AIF360) (0.51.2)\n",
            "Requirement already satisfied: cloudpickle in /usr/local/lib/python3.7/dist-packages (from shap->tempeh->AIF360) (1.3.0)\n",
            "Requirement already satisfied: atomicwrites>=1.0 in /usr/local/lib/python3.7/dist-packages (from pytest->tempeh->AIF360) (1.4.0)\n",
            "Requirement already satisfied: setuptools in /usr/local/lib/python3.7/dist-packages (from pytest->tempeh->AIF360) (54.0.0)\n",
            "Requirement already satisfied: more-itertools>=4.0.0 in /usr/local/lib/python3.7/dist-packages (from pytest->tempeh->AIF360) (8.7.0)\n",
            "Requirement already satisfied: attrs>=17.4.0 in /usr/local/lib/python3.7/dist-packages (from pytest->tempeh->AIF360) (20.3.0)\n",
            "Requirement already satisfied: py>=1.5.0 in /usr/local/lib/python3.7/dist-packages (from pytest->tempeh->AIF360) (1.10.0)\n",
            "Requirement already satisfied: pluggy<0.8,>=0.5 in /usr/local/lib/python3.7/dist-packages (from pytest->tempeh->AIF360) (0.7.1)\n",
            "Requirement already satisfied: llvmlite<0.35,>=0.34.0.dev0 in /usr/local/lib/python3.7/dist-packages (from numba->shap->tempeh->AIF360) (0.34.0)\n",
            "Building wheels for collected packages: memory-profiler, shap\n",
            "  Building wheel for memory-profiler (setup.py) ... \u001b[?25l\u001b[?25hdone\n",
            "  Created wheel for memory-profiler: filename=memory_profiler-0.58.0-cp37-none-any.whl size=30180 sha256=b8a0380115e616926e5fb1109d3858d80bfc0d498570e4b43002599a85000c30\n",
            "  Stored in directory: /root/.cache/pip/wheels/02/e4/0b/aaab481fc5dd2a4ea59e78bc7231bb6aae7635ca7ee79f8ae5\n",
            "  Building wheel for shap (setup.py) ... \u001b[?25l\u001b[?25hdone\n",
            "  Created wheel for shap: filename=shap-0.39.0-cp37-cp37m-linux_x86_64.whl size=491621 sha256=23684f5a9160500dc0d1252c9fa506789c532460749674623443ccd19471daac\n",
            "  Stored in directory: /root/.cache/pip/wheels/15/27/f5/a8ab9da52fd159aae6477b5ede6eaaec69fd130fa0fa59f283\n",
            "Successfully built memory-profiler shap\n",
            "Installing collected packages: memory-profiler, slicer, shap, tempeh, AIF360\n",
            "Successfully installed AIF360-0.4.0 memory-profiler-0.58.0 shap-0.39.0 slicer-0.0.7 tempeh-0.1.12\n"
          ],
          "name": "stdout"
        }
      ]
    },
    {
      "cell_type": "markdown",
      "metadata": {
        "id": "9CjJfKXOFo3Z"
      },
      "source": [
        "# Train a Logistic Regression classifier"
      ]
    },
    {
      "cell_type": "code",
      "metadata": {
        "id": "7z6qYEotEwLB"
      },
      "source": [
        "# Instantiate the classifier\r\n",
        "from sklearn.linear_model import LogisticRegression\r\n",
        "lr = LogisticRegression(random_state=10, solver=\"lbfgs\", penalty=\"none\")\r\n",
        "\r\n",
        "# instantiate the cross-validation scheme\r\n",
        "from sklearn.model_selection import StratifiedKFold\r\n",
        "mv = StratifiedKFold(n_splits=10, shuffle=True, random_state=10)\r\n",
        "\r\n",
        "# setup the performance metrics to be computed\r\n",
        "from sklearn import metrics\r\n",
        "perf_metrics = {\"Accuracy\": metrics.accuracy_score, \r\n",
        "                \"Precision\": metrics.precision_score, \r\n",
        "                \"Recall\": metrics.recall_score,\r\n",
        "                \"AUC\": metrics.roc_auc_score, \r\n",
        "                \"F1-Score\": metrics.f1_score, \r\n",
        "                }\r\n",
        "\r\n",
        "# Set up the fairness metrics to be computed using AIF360\r\n",
        "from aif360.datasets import BinaryLabelDataset\r\n",
        "from aif360.metrics import BinaryLabelDatasetMetric\r\n",
        "from aif360.metrics import ClassificationMetric\r\n"
      ],
      "execution_count": null,
      "outputs": []
    },
    {
      "cell_type": "code",
      "metadata": {
        "colab": {
          "base_uri": "https://localhost:8080/"
        },
        "id": "zNbYbpruFRMk",
        "outputId": "33046b87-f4d9-40d1-b0aa-8e0fa9b36e96"
      },
      "source": [
        "# Train a logistic regression classifier on the dataset after reweighing\r\n",
        "\r\n",
        "import pandas as pd\r\n",
        "k, i = True, 1\r\n",
        "\r\n",
        "# instantiating X\r\n",
        "X = df.drop(labels=df.columns[-1], axis=1)\r\n",
        "\r\n",
        "# instantiating the target variable\r\n",
        "y = df[df.columns[-1]]\r\n",
        "\r\n",
        "for (train, test) in mv.split(X, y):\r\n",
        "\r\n",
        "    # Reweigh the training data\r\n",
        "    dataset = X.iloc[train].copy()\r\n",
        "    dataset[df.columns[-1]] = y.iloc[train]\r\n",
        "    dataset_BLD = BinaryLabelDataset(df=dataset, label_names=['action_taken_name'], protected_attribute_names=['applicant_sex_name_Female'])\r\n",
        "    rw = Reweighing(unprivileged_group, privileged_group)\r\n",
        "    dataset_transformed = rw.fit_transform(dataset_BLD)\r\n",
        "\r\n",
        "    # instantiating X\r\n",
        "    X_train = pd.DataFrame(data = dataset_transformed.features, columns=df.columns[:-1]) \r\n",
        "\r\n",
        "    # instantiating y\r\n",
        "    y_train = pd.DataFrame(data = dataset_transformed.labels.ravel())\r\n",
        "\r\n",
        "    # instantiating the reweighing weights\r\n",
        "    w_train = pd.DataFrame(data = dataset_transformed.instance_weights)\r\n",
        "\r\n",
        "    # fit model including sample weights calculated in reweighing\r\n",
        "    lr = lr.fit(X_train, y_train, sample_weight = w_train.to_numpy().ravel())\r\n",
        "    \r\n",
        "    # get predictions in the test set\r\n",
        "    ypred_prob = lr.predict_proba(X.iloc[test]).ravel()[1::2] # get probabilities\r\n",
        "    ypred_class = lr.predict(X.iloc[test])\r\n",
        "\r\n",
        "    # compute performance metrics\r\n",
        "    metrics = []\r\n",
        "    dataset = X.iloc[test].copy()\r\n",
        "    dataset[df.columns[-1]] = np.expand_dims(y.iloc[test], axis=1)\r\n",
        "    dataset = BinaryLabelDataset(df=dataset, label_names=['action_taken_name'], protected_attribute_names=['applicant_sex_name_Female'])\r\n",
        "    dataset_pred = X.iloc[test].copy()\r\n",
        "    dataset_pred[df.columns[-1]] = np.expand_dims(ypred_class, axis=1)\r\n",
        "    dataset_pred = BinaryLabelDataset(df=dataset_pred, label_names=['action_taken_name'], protected_attribute_names=['applicant_sex_name_Female'])\r\n",
        "    metric_BLDM = BinaryLabelDatasetMetric(dataset, unprivileged_group, privileged_group)\r\n",
        "    metric_CM = ClassificationMetric(dataset, dataset_pred, privileged_groups=privileged_group, unprivileged_groups=unprivileged_group)\r\n",
        "    for pf in perf_metrics.keys():\r\n",
        "        if pf in [\"AUC\", \"Brier\"]:\r\n",
        "            metrics += [[pf, perf_metrics[pf](y.iloc[test].values.ravel(), ypred_prob)]]\r\n",
        "        else:\r\n",
        "            metrics += [[pf, perf_metrics[pf](y.iloc[test].values.ravel(), ypred_class)]]\r\n",
        "    \r\n",
        "    # Compute fairness metrics\r\n",
        "    metrics += [['Statistical Parity Difference', metric_BLDM.statistical_parity_difference()]]\r\n",
        "    metrics += [['Disparate Impact', metric_BLDM.disparate_impact()]]\r\n",
        "    metrics += [['Equal Opportunity Difference', metric_CM.equal_opportunity_difference()]]\r\n",
        "    metrics += [['Average Odds Difference', metric_CM.average_odds_difference()]]\r\n",
        "    metrics += [['Accuracy Male', metric_CM.accuracy(privileged=True)]]\r\n",
        "    metrics += [['Accuracy Female', metric_CM.accuracy(privileged=False)]]\r\n",
        "\r\n",
        "    # concatenate results\r\n",
        "    df_m = pd.DataFrame(metrics, columns=[\"Metric\", \"Value\"])\r\n",
        "    df_m[\"Fold\"] = i\r\n",
        "    i += 1\r\n",
        "    if k:\r\n",
        "        df_metrics = df_m.copy()\r\n",
        "        k=0\r\n",
        "    else:\r\n",
        "        df_metrics = pd.concat([df_metrics, df_m.copy()], axis=0, ignore_index=True)"
      ],
      "execution_count": null,
      "outputs": [
        {
          "output_type": "stream",
          "text": [
            "/usr/local/lib/python3.6/dist-packages/sklearn/utils/validation.py:760: DataConversionWarning: A column-vector y was passed when a 1d array was expected. Please change the shape of y to (n_samples, ), for example using ravel().\n",
            "  y = column_or_1d(y, warn=True)\n",
            "/usr/local/lib/python3.6/dist-packages/sklearn/linear_model/_logistic.py:940: ConvergenceWarning: lbfgs failed to converge (status=1):\n",
            "STOP: TOTAL NO. of ITERATIONS REACHED LIMIT.\n",
            "\n",
            "Increase the number of iterations (max_iter) or scale the data as shown in:\n",
            "    https://scikit-learn.org/stable/modules/preprocessing.html\n",
            "Please also refer to the documentation for alternative solver options:\n",
            "    https://scikit-learn.org/stable/modules/linear_model.html#logistic-regression\n",
            "  extra_warning_msg=_LOGISTIC_SOLVER_CONVERGENCE_MSG)\n",
            "/usr/local/lib/python3.6/dist-packages/sklearn/utils/validation.py:760: DataConversionWarning: A column-vector y was passed when a 1d array was expected. Please change the shape of y to (n_samples, ), for example using ravel().\n",
            "  y = column_or_1d(y, warn=True)\n",
            "/usr/local/lib/python3.6/dist-packages/sklearn/linear_model/_logistic.py:940: ConvergenceWarning: lbfgs failed to converge (status=1):\n",
            "STOP: TOTAL NO. of ITERATIONS REACHED LIMIT.\n",
            "\n",
            "Increase the number of iterations (max_iter) or scale the data as shown in:\n",
            "    https://scikit-learn.org/stable/modules/preprocessing.html\n",
            "Please also refer to the documentation for alternative solver options:\n",
            "    https://scikit-learn.org/stable/modules/linear_model.html#logistic-regression\n",
            "  extra_warning_msg=_LOGISTIC_SOLVER_CONVERGENCE_MSG)\n",
            "/usr/local/lib/python3.6/dist-packages/sklearn/utils/validation.py:760: DataConversionWarning: A column-vector y was passed when a 1d array was expected. Please change the shape of y to (n_samples, ), for example using ravel().\n",
            "  y = column_or_1d(y, warn=True)\n",
            "/usr/local/lib/python3.6/dist-packages/sklearn/linear_model/_logistic.py:940: ConvergenceWarning: lbfgs failed to converge (status=1):\n",
            "STOP: TOTAL NO. of ITERATIONS REACHED LIMIT.\n",
            "\n",
            "Increase the number of iterations (max_iter) or scale the data as shown in:\n",
            "    https://scikit-learn.org/stable/modules/preprocessing.html\n",
            "Please also refer to the documentation for alternative solver options:\n",
            "    https://scikit-learn.org/stable/modules/linear_model.html#logistic-regression\n",
            "  extra_warning_msg=_LOGISTIC_SOLVER_CONVERGENCE_MSG)\n",
            "/usr/local/lib/python3.6/dist-packages/sklearn/utils/validation.py:760: DataConversionWarning: A column-vector y was passed when a 1d array was expected. Please change the shape of y to (n_samples, ), for example using ravel().\n",
            "  y = column_or_1d(y, warn=True)\n",
            "/usr/local/lib/python3.6/dist-packages/sklearn/linear_model/_logistic.py:940: ConvergenceWarning: lbfgs failed to converge (status=1):\n",
            "STOP: TOTAL NO. of ITERATIONS REACHED LIMIT.\n",
            "\n",
            "Increase the number of iterations (max_iter) or scale the data as shown in:\n",
            "    https://scikit-learn.org/stable/modules/preprocessing.html\n",
            "Please also refer to the documentation for alternative solver options:\n",
            "    https://scikit-learn.org/stable/modules/linear_model.html#logistic-regression\n",
            "  extra_warning_msg=_LOGISTIC_SOLVER_CONVERGENCE_MSG)\n",
            "/usr/local/lib/python3.6/dist-packages/sklearn/utils/validation.py:760: DataConversionWarning: A column-vector y was passed when a 1d array was expected. Please change the shape of y to (n_samples, ), for example using ravel().\n",
            "  y = column_or_1d(y, warn=True)\n",
            "/usr/local/lib/python3.6/dist-packages/sklearn/linear_model/_logistic.py:940: ConvergenceWarning: lbfgs failed to converge (status=1):\n",
            "STOP: TOTAL NO. of ITERATIONS REACHED LIMIT.\n",
            "\n",
            "Increase the number of iterations (max_iter) or scale the data as shown in:\n",
            "    https://scikit-learn.org/stable/modules/preprocessing.html\n",
            "Please also refer to the documentation for alternative solver options:\n",
            "    https://scikit-learn.org/stable/modules/linear_model.html#logistic-regression\n",
            "  extra_warning_msg=_LOGISTIC_SOLVER_CONVERGENCE_MSG)\n",
            "/usr/local/lib/python3.6/dist-packages/sklearn/utils/validation.py:760: DataConversionWarning: A column-vector y was passed when a 1d array was expected. Please change the shape of y to (n_samples, ), for example using ravel().\n",
            "  y = column_or_1d(y, warn=True)\n",
            "/usr/local/lib/python3.6/dist-packages/sklearn/linear_model/_logistic.py:940: ConvergenceWarning: lbfgs failed to converge (status=1):\n",
            "STOP: TOTAL NO. of ITERATIONS REACHED LIMIT.\n",
            "\n",
            "Increase the number of iterations (max_iter) or scale the data as shown in:\n",
            "    https://scikit-learn.org/stable/modules/preprocessing.html\n",
            "Please also refer to the documentation for alternative solver options:\n",
            "    https://scikit-learn.org/stable/modules/linear_model.html#logistic-regression\n",
            "  extra_warning_msg=_LOGISTIC_SOLVER_CONVERGENCE_MSG)\n",
            "/usr/local/lib/python3.6/dist-packages/sklearn/utils/validation.py:760: DataConversionWarning: A column-vector y was passed when a 1d array was expected. Please change the shape of y to (n_samples, ), for example using ravel().\n",
            "  y = column_or_1d(y, warn=True)\n",
            "/usr/local/lib/python3.6/dist-packages/sklearn/linear_model/_logistic.py:940: ConvergenceWarning: lbfgs failed to converge (status=1):\n",
            "STOP: TOTAL NO. of ITERATIONS REACHED LIMIT.\n",
            "\n",
            "Increase the number of iterations (max_iter) or scale the data as shown in:\n",
            "    https://scikit-learn.org/stable/modules/preprocessing.html\n",
            "Please also refer to the documentation for alternative solver options:\n",
            "    https://scikit-learn.org/stable/modules/linear_model.html#logistic-regression\n",
            "  extra_warning_msg=_LOGISTIC_SOLVER_CONVERGENCE_MSG)\n",
            "/usr/local/lib/python3.6/dist-packages/sklearn/utils/validation.py:760: DataConversionWarning: A column-vector y was passed when a 1d array was expected. Please change the shape of y to (n_samples, ), for example using ravel().\n",
            "  y = column_or_1d(y, warn=True)\n",
            "/usr/local/lib/python3.6/dist-packages/sklearn/linear_model/_logistic.py:940: ConvergenceWarning: lbfgs failed to converge (status=1):\n",
            "STOP: TOTAL NO. of ITERATIONS REACHED LIMIT.\n",
            "\n",
            "Increase the number of iterations (max_iter) or scale the data as shown in:\n",
            "    https://scikit-learn.org/stable/modules/preprocessing.html\n",
            "Please also refer to the documentation for alternative solver options:\n",
            "    https://scikit-learn.org/stable/modules/linear_model.html#logistic-regression\n",
            "  extra_warning_msg=_LOGISTIC_SOLVER_CONVERGENCE_MSG)\n",
            "/usr/local/lib/python3.6/dist-packages/sklearn/utils/validation.py:760: DataConversionWarning: A column-vector y was passed when a 1d array was expected. Please change the shape of y to (n_samples, ), for example using ravel().\n",
            "  y = column_or_1d(y, warn=True)\n",
            "/usr/local/lib/python3.6/dist-packages/sklearn/linear_model/_logistic.py:940: ConvergenceWarning: lbfgs failed to converge (status=1):\n",
            "STOP: TOTAL NO. of ITERATIONS REACHED LIMIT.\n",
            "\n",
            "Increase the number of iterations (max_iter) or scale the data as shown in:\n",
            "    https://scikit-learn.org/stable/modules/preprocessing.html\n",
            "Please also refer to the documentation for alternative solver options:\n",
            "    https://scikit-learn.org/stable/modules/linear_model.html#logistic-regression\n",
            "  extra_warning_msg=_LOGISTIC_SOLVER_CONVERGENCE_MSG)\n",
            "/usr/local/lib/python3.6/dist-packages/sklearn/utils/validation.py:760: DataConversionWarning: A column-vector y was passed when a 1d array was expected. Please change the shape of y to (n_samples, ), for example using ravel().\n",
            "  y = column_or_1d(y, warn=True)\n",
            "/usr/local/lib/python3.6/dist-packages/sklearn/linear_model/_logistic.py:940: ConvergenceWarning: lbfgs failed to converge (status=1):\n",
            "STOP: TOTAL NO. of ITERATIONS REACHED LIMIT.\n",
            "\n",
            "Increase the number of iterations (max_iter) or scale the data as shown in:\n",
            "    https://scikit-learn.org/stable/modules/preprocessing.html\n",
            "Please also refer to the documentation for alternative solver options:\n",
            "    https://scikit-learn.org/stable/modules/linear_model.html#logistic-regression\n",
            "  extra_warning_msg=_LOGISTIC_SOLVER_CONVERGENCE_MSG)\n"
          ],
          "name": "stderr"
        }
      ]
    },
    {
      "cell_type": "markdown",
      "metadata": {
        "id": "B3aC2ZdIF5-s"
      },
      "source": [
        "# Display metrics in a table"
      ]
    },
    {
      "cell_type": "code",
      "metadata": {
        "colab": {
          "base_uri": "https://localhost:8080/",
          "height": 452
        },
        "id": "jTzlSM58FDIS",
        "outputId": "4b48c7fa-e6d2-4afa-80b2-93bd080279ba"
      },
      "source": [
        "metrics_table = df_metrics.pivot_table(index=\"Metric\", values=\"Value\", aggfunc=[\"mean\", \"std\"])\r\n",
        "metrics_table"
      ],
      "execution_count": null,
      "outputs": [
        {
          "output_type": "execute_result",
          "data": {
            "text/html": [
              "<div>\n",
              "<style scoped>\n",
              "    .dataframe tbody tr th:only-of-type {\n",
              "        vertical-align: middle;\n",
              "    }\n",
              "\n",
              "    .dataframe tbody tr th {\n",
              "        vertical-align: top;\n",
              "    }\n",
              "\n",
              "    .dataframe thead tr th {\n",
              "        text-align: left;\n",
              "    }\n",
              "\n",
              "    .dataframe thead tr:last-of-type th {\n",
              "        text-align: right;\n",
              "    }\n",
              "</style>\n",
              "<table border=\"1\" class=\"dataframe\">\n",
              "  <thead>\n",
              "    <tr>\n",
              "      <th></th>\n",
              "      <th>mean</th>\n",
              "      <th>std</th>\n",
              "    </tr>\n",
              "    <tr>\n",
              "      <th></th>\n",
              "      <th>Value</th>\n",
              "      <th>Value</th>\n",
              "    </tr>\n",
              "    <tr>\n",
              "      <th>Metric</th>\n",
              "      <th></th>\n",
              "      <th></th>\n",
              "    </tr>\n",
              "  </thead>\n",
              "  <tbody>\n",
              "    <tr>\n",
              "      <th>AUC</th>\n",
              "      <td>0.577501</td>\n",
              "      <td>0.005596</td>\n",
              "    </tr>\n",
              "    <tr>\n",
              "      <th>Accuracy</th>\n",
              "      <td>0.552730</td>\n",
              "      <td>0.005984</td>\n",
              "    </tr>\n",
              "    <tr>\n",
              "      <th>Accuracy Female</th>\n",
              "      <td>0.548542</td>\n",
              "      <td>0.007950</td>\n",
              "    </tr>\n",
              "    <tr>\n",
              "      <th>Accuracy Male</th>\n",
              "      <td>0.554495</td>\n",
              "      <td>0.006843</td>\n",
              "    </tr>\n",
              "    <tr>\n",
              "      <th>Average Odds Difference</th>\n",
              "      <td>0.095825</td>\n",
              "      <td>0.018115</td>\n",
              "    </tr>\n",
              "    <tr>\n",
              "      <th>Disparate Impact</th>\n",
              "      <td>1.137796</td>\n",
              "      <td>0.018720</td>\n",
              "    </tr>\n",
              "    <tr>\n",
              "      <th>Equal Opportunity Difference</th>\n",
              "      <td>0.098259</td>\n",
              "      <td>0.016582</td>\n",
              "    </tr>\n",
              "    <tr>\n",
              "      <th>F1-Score</th>\n",
              "      <td>0.501828</td>\n",
              "      <td>0.024494</td>\n",
              "    </tr>\n",
              "    <tr>\n",
              "      <th>Precision</th>\n",
              "      <td>0.566117</td>\n",
              "      <td>0.005642</td>\n",
              "    </tr>\n",
              "    <tr>\n",
              "      <th>Recall</th>\n",
              "      <td>0.452210</td>\n",
              "      <td>0.042344</td>\n",
              "    </tr>\n",
              "    <tr>\n",
              "      <th>Statistical Parity Difference</th>\n",
              "      <td>0.066171</td>\n",
              "      <td>0.008609</td>\n",
              "    </tr>\n",
              "  </tbody>\n",
              "</table>\n",
              "</div>"
            ],
            "text/plain": [
              "                                   mean       std\n",
              "                                  Value     Value\n",
              "Metric                                           \n",
              "AUC                            0.577501  0.005596\n",
              "Accuracy                       0.552730  0.005984\n",
              "Accuracy Female                0.548542  0.007950\n",
              "Accuracy Male                  0.554495  0.006843\n",
              "Average Odds Difference        0.095825  0.018115\n",
              "Disparate Impact               1.137796  0.018720\n",
              "Equal Opportunity Difference   0.098259  0.016582\n",
              "F1-Score                       0.501828  0.024494\n",
              "Precision                      0.566117  0.005642\n",
              "Recall                         0.452210  0.042344\n",
              "Statistical Parity Difference  0.066171  0.008609"
            ]
          },
          "metadata": {
            "tags": []
          },
          "execution_count": 8
        }
      ]
    },
    {
      "cell_type": "markdown",
      "metadata": {
        "id": "Uy0exe-KGBli"
      },
      "source": [
        "# Chart metrics with allowable range superimposed"
      ]
    },
    {
      "cell_type": "code",
      "metadata": {
        "id": "nbJklbYj97oo"
      },
      "source": [
        "# Construct a DataFrame with allowable thresholds for plotting\r\n",
        "\r\n",
        "fairness_df = pd.DataFrame(columns=[\"Metric\", \"Value\", \"Min\", \"Max\"])\r\n",
        "fairness_df.loc[0] = ['Disparate Impact'] + list((metrics_table[('mean', 'Value')]['Disparate Impact'], 0.8, 1.2))\r\n",
        "fairness_df.loc[1] = ['Statistical Parity Difference'] + list((metrics_table[('mean', 'Value')]['Statistical Parity Difference'], -0.1, 0.1))\r\n",
        "fairness_df.loc[2] = ['Average Odds Difference'] + list((metrics_table[('mean', 'Value')]['Average Odds Difference'], -0.1, 0.1))\r\n",
        "fairness_df.loc[3] = ['Equal Opportunity Difference'] + list((metrics_table[('mean', 'Value')]['Equal Opportunity Difference'], -0.1, 0.1))"
      ],
      "execution_count": null,
      "outputs": []
    },
    {
      "cell_type": "code",
      "metadata": {
        "colab": {
          "base_uri": "https://localhost:8080/",
          "height": 1000
        },
        "id": "4Qc7FVpA7zsu",
        "outputId": "27966449-cefb-4676-b582-8a95b57f9ce0"
      },
      "source": [
        "# Chart the metrics\r\n",
        "\r\n",
        "import matplotlib.pyplot as plt\r\n",
        "import seaborn as sns\r\n",
        "import matplotlib.patches as patches\r\n",
        "import numpy as np\r\n",
        "\r\n",
        "def plot_metrics(df_fair): \r\n",
        "  def plot_metric(metric, ylim):\r\n",
        "    fig, ax = plt.subplots()\r\n",
        "    ax = sns.barplot(data=metric, x=\"Metric\", y=\"Value\")\r\n",
        "    plt.axhline(np.mean(metric[[\"Min\", \"Max\"]].values), color='black')\r\n",
        "    plt.ylim(*ylim)\r\n",
        "    range_height = metric[[\"Max\"]].values[0][0] - metric[[\"Min\"]].values[0][0]\r\n",
        "    ax.add_patch(patches.Rectangle((-1, metric[[\"Min\"]].values[0][0]), 2 , range_height, facecolor=\"green\", alpha=0.3))\r\n",
        "\r\n",
        "  plot_metric(df_fair.iloc[[0]], (0, 2))\r\n",
        "  plot_metric(df_fair.iloc[[1]], (-1, 1))\r\n",
        "  plot_metric(df_fair.iloc[[2]], (-1, 1))\r\n",
        "  plot_metric(df_fair.iloc[[3]], (-1, 1))\r\n",
        "\r\n",
        "plot_metrics(fairness_df)"
      ],
      "execution_count": null,
      "outputs": [
        {
          "output_type": "display_data",
          "data": {
            "image/png": "[encoded data removed]",
            "text/plain": [
              "<Figure size 432x288 with 1 Axes>"
            ]
          },
          "metadata": {
            "tags": [],
            "needs_background": "light"
          }
        },
        {
          "output_type": "display_data",
          "data": {
            "image/png": "[encoded data removed]",
            "text/plain": [
              "<Figure size 432x288 with 1 Axes>"
            ]
          },
          "metadata": {
            "tags": [],
            "needs_background": "light"
          }
        },
        {
          "output_type": "display_data",
          "data": {
            "image/png": "[encoded data removed]",
            "text/plain": [
              "<Figure size 432x288 with 1 Axes>"
            ]
          },
          "metadata": {
            "tags": [],
            "needs_background": "light"
          }
        },
        {
          "output_type": "display_data",
          "data": {
            "image/png": "[encoded data removed]",
            "text/plain": [
              "<Figure size 432x288 with 1 Axes>"
            ]
          },
          "metadata": {
            "tags": [],
            "needs_background": "light"
          }
        }
      ]
    }
  ]
}