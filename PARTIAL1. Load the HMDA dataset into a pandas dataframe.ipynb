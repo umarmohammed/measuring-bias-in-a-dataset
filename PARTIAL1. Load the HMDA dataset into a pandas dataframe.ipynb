{
  "nbformat": 4,
  "nbformat_minor": 0,
  "metadata": {
    "colab": {
      "name": "1. Load the HMDA dataset into a pandas dataframe.ipynb",
      "provenance": [],
      "collapsed_sections": []
    },
    "kernelspec": {
      "name": "python3",
      "display_name": "Python 3"
    }
  },
  "cells": [
    {
      "cell_type": "markdown",
      "metadata": {
        "id": "hrVMS2bNVClF"
      },
      "source": [
        "## Load the HMDA Dataset"
      ]
    },
    {
      "cell_type": "code",
      "metadata": {
        "id": "s5pYM-KQ6BPq"
      },
      "source": [
        "# Mount Google Drive locally \n",
        "# Using the instructions found here https://colab.research.google.com/notebooks/io.ipynb#scrollTo=u22w3BFiOveA&line=1&uniqifier=1\n"
      ],
      "execution_count": 1,
      "outputs": []
    },
    {
      "cell_type": "code",
      "metadata": {
        "id": "3awOwd0Nzkah"
      },
      "source": [
        "# Load the pickled dataframe using the \"read_pickle()\"\" function from \"pandas\""
      ],
      "execution_count": 2,
      "outputs": []
    },
    {
      "cell_type": "markdown",
      "metadata": {
        "id": "46eBWfm6VJtW"
      },
      "source": [
        "## Inspect the Dataset"
      ]
    },
    {
      "cell_type": "code",
      "metadata": {
        "id": "cCqhjvj6r7lz"
      },
      "source": [
        "# The \"shape\" property on a data frame outputs the number of rows and columns"
      ],
      "execution_count": 3,
      "outputs": []
    },
    {
      "cell_type": "code",
      "metadata": {
        "id": "g8zAFWGk0EfS"
      },
      "source": [
        "# The \"head()\" on a dataframe outputs the first five rows\n"
      ],
      "execution_count": 4,
      "outputs": []
    },
    {
      "cell_type": "code",
      "metadata": {
        "id": "yFpcuYffrrP3"
      },
      "source": [
        "# The \"columns\" property on a dataframe outputs the name of the columns\n",
        "# Check https://files.consumerfinance.gov/hmda-historic-data-dictionaries/lar_record_codes.pdf for more details"
      ],
      "execution_count": 6,
      "outputs": []
    },
    {
      "cell_type": "code",
      "metadata": {
        "id": "ULZyzv3CnVcl"
      },
      "source": [
        "# The \"dtypes\" property on a dataframe outputs the types of each columns"
      ],
      "execution_count": 7,
      "outputs": []
    }
  ]
}