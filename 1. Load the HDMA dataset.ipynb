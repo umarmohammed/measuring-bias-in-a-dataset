{
  "nbformat": 4,
  "nbformat_minor": 0,
  "metadata": {
    "colab": {
      "name": "1. Load the HDMA dataset.ipynb",
      "provenance": [],
      "authorship_tag": "ABX9TyOl7USVgQMwovo6lg8MB1l4",
      "include_colab_link": true
    },
    "kernelspec": {
      "name": "python3",
      "display_name": "Python 3"
    }
  },
  "cells": [
    {
      "cell_type": "markdown",
      "metadata": {
        "id": "view-in-github",
        "colab_type": "text"
      },
      "source": [
        "<a href=\"https://colab.research.google.com/github/umarmohammed/measuring-bias-in-a-dataset/blob/project-2/1.%20Load%20the%20HDMA%20dataset.ipynb\" target=\"_parent\"><img src=\"https://colab.research.google.com/assets/colab-badge.svg\" alt=\"Open In Colab\"/></a>"
      ]
    },
    {
      "cell_type": "code",
      "metadata": {
        "colab": {
          "base_uri": "https://localhost:8080/"
        },
        "id": "YNhujc2GcFLF",
        "outputId": "8c0a748f-6d8c-4d0e-f8d7-1018a84060a8"
      },
      "source": [
        "# Mount Google Drive locally\n",
        "from google.colab import drive\n",
        "drive.mount('/content/drive')"
      ],
      "execution_count": 1,
      "outputs": [
        {
          "output_type": "stream",
          "text": [
            "Mounted at /content/drive\n"
          ],
          "name": "stdout"
        }
      ]
    },
    {
      "cell_type": "code",
      "metadata": {
        "id": "IkENTIrwcaxy"
      },
      "source": [
        "# Load the pickled dataframe\n",
        "import pandas as pd\n",
        "df = pd.read_pickle(\"/content/drive/My Drive/liveProject/mortgage_data_balanced.pkl.gz\")"
      ],
      "execution_count": null,
      "outputs": []
    }
  ]
}