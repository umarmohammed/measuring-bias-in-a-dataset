{
  "nbformat": 4,
  "nbformat_minor": 0,
  "metadata": {
    "colab": {
      "name": "1. Load the HDMA dataset.ipynb",
      "provenance": [],
      "authorship_tag": "ABX9TyPpDezHd7J7/Z47GlrbJ5hA",
      "include_colab_link": true
    },
    "kernelspec": {
      "name": "python3",
      "display_name": "Python 3"
    }
  },
  "cells": [
    {
      "cell_type": "markdown",
      "metadata": {
        "id": "view-in-github",
        "colab_type": "text"
      },
      "source": [
        "<a href=\"https://colab.research.google.com/github/umarmohammed/measuring-bias-in-a-dataset/blob/project-2/1.%20Load%20the%20HDMA%20dataset.ipynb\" target=\"_parent\"><img src=\"https://colab.research.google.com/assets/colab-badge.svg\" alt=\"Open In Colab\"/></a>"
      ]
    },
    {
      "cell_type": "code",
      "metadata": {
        "colab": {
          "base_uri": "https://localhost:8080/"
        },
        "id": "YNhujc2GcFLF",
        "outputId": "0ecc35ae-97cf-4db6-b05c-6610f869c041"
      },
      "source": [
        "# Mount Google Drive locally\n",
        "from google.colab import drive\n",
        "drive.mount('/content/drive')"
      ],
      "execution_count": 1,
      "outputs": [
        {
          "output_type": "stream",
          "text": [
            "Mounted at /content/drive\n"
          ],
          "name": "stdout"
        }
      ]
    },
    {
      "cell_type": "code",
      "metadata": {
        "id": "IkENTIrwcaxy"
      },
      "source": [
        "# Load the preprocessed dataset\n",
        "from joblib import load\n",
        "\n",
        "(X,y) = load(\"/content/drive/MyDrive/liveProject/mortgage_data_preprocess.pkl.gz\")"
      ],
      "execution_count": 10,
      "outputs": []
    }
  ]
}