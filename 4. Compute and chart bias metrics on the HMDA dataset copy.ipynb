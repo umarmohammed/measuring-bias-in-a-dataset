{
  "nbformat": 4,
  "nbformat_minor": 0,
  "metadata": {
    "colab": {
      "name": "4. Compute and chart bias metrics on the HMDA dataset",
      "provenance": [],
      "collapsed_sections": []
    },
    "kernelspec": {
      "name": "python3",
      "display_name": "Python 3"
    }
  },
  "cells": [
    {
      "cell_type": "markdown",
      "metadata": {
        "id": "wjmCtwSraNve"
      },
      "source": [
        "#Load data"
      ]
    },
    {
      "cell_type": "code",
      "metadata": {
        "colab": {
          "base_uri": "https://localhost:8080/"
        },
        "id": "gcsjcVMC6MZl",
        "outputId": "873ccb28-d58d-4952-f188-e333c9a7f9ff"
      },
      "source": [
        "# Mount Google Drive locally\n",
        "from google.colab import drive\n",
        "drive.mount('/content/drive')"
      ],
      "execution_count": 1,
      "outputs": [
        {
          "output_type": "stream",
          "text": [
            "Mounted at /content/drive\n"
          ],
          "name": "stdout"
        }
      ]
    },
    {
      "cell_type": "code",
      "metadata": {
        "id": "QWaZ0CdhaNBY"
      },
      "source": [
        "import pandas as pd\n",
        "df = pd.read_pickle(\"/content/drive/My Drive/liveProject/mortgage_data_balanced.pkl.gz\")"
      ],
      "execution_count": 2,
      "outputs": []
    },
    {
      "cell_type": "markdown",
      "metadata": {
        "id": "mG3u9fagaWPF"
      },
      "source": [
        "#Deliverable 1. Implement Disparate Impact"
      ]
    },
    {
      "cell_type": "code",
      "metadata": {
        "id": "bty8l69ha2_S"
      },
      "source": [
        "def DispImpact(pred, group_a, group_b):\n",
        "  ### Disparate Impact\n",
        "  SR_A = pred[group_a==1].mean() # success rate group A\n",
        "  SR_B = pred[group_b==1].mean() # success rate group B\n",
        "  return SR_A/SR_B"
      ],
      "execution_count": 3,
      "outputs": []
    },
    {
      "cell_type": "markdown",
      "metadata": {
        "id": "IzkVSMaminkJ"
      },
      "source": [
        "#Deliverable 2. Implement 2-SD Rule"
      ]
    },
    {
      "cell_type": "code",
      "metadata": {
        "id": "1j7aPVxM6Z4K"
      },
      "source": [
        "def TwoSDRule(pred, group_a, group_b):\n",
        "    import numpy as np\n",
        "\n",
        "    ### 2-SD Rule\n",
        "    SR_A = pred[group_a==1].mean() # success rate group A\n",
        "    SR_B = pred[group_b==1].mean() # success rate group B\n",
        "    SR_T = pred.mean() # success rate total\n",
        "    P_min = (group_a==1).mean() # minority proportion - usually group A\n",
        "    N = len(pred) # sample size\n",
        "    return (SR_A - SR_B)/np.sqrt( (SR_T * (1.0 - SR_T))/(N * P_min * (1 - P_min)))"
      ],
      "execution_count": 28,
      "outputs": []
    },
    {
      "cell_type": "markdown",
      "metadata": {
        "id": "Xv4I5TLnjokM"
      },
      "source": [
        "#Deliverable 3. Income-based classifier, metrics and charts"
      ]
    },
    {
      "cell_type": "code",
      "metadata": {
        "id": "0sd3YKGojvDC"
      },
      "source": [
        "import numpy as np\n",
        "\n",
        "# creating three threshold-based classifiers\n",
        "df[['log(applicant_income_000s)']] = np.log(df['applicant_income_000s'].copy())\n",
        "pred_35 = df['log(applicant_income_000s)'].copy() > 3.5\n",
        "pred_43 = df['log(applicant_income_000s)'].copy() > 4.3\n",
        "pred_50 = df['log(applicant_income_000s)'].copy() > 5.0"
      ],
      "execution_count": 36,
      "outputs": []
    },
    {
      "cell_type": "code",
      "metadata": {
        "id": "S-JD2KJljvSq"
      },
      "source": [
        "# compute metrics\n",
        "female = (df['applicant_sex_name'] == \"Female\").copy()\n",
        "male = (df['applicant_sex_name'] == \"Male\").copy()\n",
        "\n",
        "## acceptance rate % across tresholds\n",
        "### total\n",
        "accept_rate_35 = pred_35.mean() * 100.0\n",
        "accept_rate_43 = pred_43.mean() * 100.0\n",
        "accept_rate_50 = pred_50.mean() * 100.0\n",
        "\n",
        "### male\n",
        "accept_rate_male_35 = pred_35[male].mean() * 100.0\n",
        "accept_rate_male_43 = pred_43[male].mean() * 100.0\n",
        "accept_rate_male_50 = pred_50[male].mean() * 100.0\n",
        "\n",
        "### female\n",
        "accept_rate_female_35 = pred_35[female].mean() * 100.0\n",
        "accept_rate_female_43 = pred_43[female].mean() * 100.0\n",
        "accept_rate_female_50 = pred_50[female].mean() * 100.0\n",
        "\n",
        "## disparate impact across tresholds\n",
        "DP_35 = DispImpact(pred_35, female, male)\n",
        "DP_43 = DispImpact(pred_43, female, male)\n",
        "DP_50 = DispImpact(pred_50, female, male)\n",
        "\n",
        "## 2-SD rule across tresholds\n",
        "Z_35 = TwoSDRule(pred_35, female, male)\n",
        "Z_43 = TwoSDRule(pred_43, female, male)\n",
        "Z_50 = TwoSDRule(pred_50, female, male)"
      ],
      "execution_count": 37,
      "outputs": []
    },
    {
      "cell_type": "code",
      "metadata": {
        "id": "o7Tn2WrFjv7X"
      },
      "source": [
        "import seaborn as sns\n",
        "\n",
        "# chart different thresholds: acceptance rates, disparate impact and 2-SD rule\n",
        "d = pd.DataFrame({\"Threshold\": [3.5, 4.3, 5.0],\n",
        "                  \"Total Acceptance Rate\": [accept_rate_35, accept_rate_43, accept_rate_50],\n",
        "                  \"Female Acceptance Rate\": [accept_rate_female_35, accept_rate_female_43, accept_rate_female_50],\n",
        "                  \"Male Acceptance Rate\": [accept_rate_male_35, accept_rate_male_43, accept_rate_male_50],\n",
        "                  \"Disparate Impact\": [DP_35, DP_43, DP_50],\n",
        "                  \"2-SD Rule\": [Z_35, Z_43, Z_50]}\n",
        "                 )"
      ],
      "execution_count": 41,
      "outputs": []
    },
    {
      "cell_type": "code",
      "metadata": {
        "colab": {
          "base_uri": "https://localhost:8080/",
          "height": 296
        },
        "id": "TolCKKW81fni",
        "outputId": "cb7b64a5-9656-488e-c4fd-b3094ce9dd6b"
      },
      "source": [
        "sns.barplot(data=d, x=\"Threshold\", y=\"Total Acceptance Rate\")"
      ],
      "execution_count": 42,
      "outputs": [
        {
          "output_type": "execute_result",
          "data": {
            "text/plain": [
              "<matplotlib.axes._subplots.AxesSubplot at 0x7fe4c5238cc0>"
            ]
          },
          "metadata": {
            "tags": []
          },
          "execution_count": 42
        },
        {
          "output_type": "display_data",
          "data": {
            "image/png": "[encoded data removed]",
            "text/plain": [
              "<Figure size 432x288 with 1 Axes>"
            ]
          },
          "metadata": {
            "tags": [],
            "needs_background": "light"
          }
        }
      ]
    },
    {
      "cell_type": "code",
      "metadata": {
        "colab": {
          "base_uri": "https://localhost:8080/",
          "height": 296
        },
        "id": "OPPUgXm_1f2F",
        "outputId": "f42511b3-792a-4fec-95fb-1b4132acc6e9"
      },
      "source": [
        "sns.barplot(data=d, x=\"Threshold\", y=\"Female Acceptance Rate\")"
      ],
      "execution_count": 43,
      "outputs": [
        {
          "output_type": "execute_result",
          "data": {
            "text/plain": [
              "<matplotlib.axes._subplots.AxesSubplot at 0x7fe4c4bf2160>"
            ]
          },
          "metadata": {
            "tags": []
          },
          "execution_count": 43
        },
        {
          "output_type": "display_data",
          "data": {
            "image/png": "[encoded data removed]",
            "text/plain": [
              "<Figure size 432x288 with 1 Axes>"
            ]
          },
          "metadata": {
            "tags": [],
            "needs_background": "light"
          }
        }
      ]
    },
    {
      "cell_type": "code",
      "metadata": {
        "colab": {
          "base_uri": "https://localhost:8080/",
          "height": 296
        },
        "id": "j5986ljH1gGu",
        "outputId": "0317a908-44a5-4165-89dd-0b361feee2ea"
      },
      "source": [
        "sns.barplot(data=d, x=\"Threshold\", y=\"Male Acceptance Rate\")"
      ],
      "execution_count": 44,
      "outputs": [
        {
          "output_type": "execute_result",
          "data": {
            "text/plain": [
              "<matplotlib.axes._subplots.AxesSubplot at 0x7fe4c4b59710>"
            ]
          },
          "metadata": {
            "tags": []
          },
          "execution_count": 44
        },
        {
          "output_type": "display_data",
          "data": {
            "image/png": "[encoded data removed]",
            "text/plain": [
              "<Figure size 432x288 with 1 Axes>"
            ]
          },
          "metadata": {
            "tags": [],
            "needs_background": "light"
          }
        }
      ]
    },
    {
      "cell_type": "code",
      "metadata": {
        "colab": {
          "base_uri": "https://localhost:8080/",
          "height": 296
        },
        "id": "L-sT5oB61fsS",
        "outputId": "90c304af-a62d-41a8-ae44-448db67bd891"
      },
      "source": [
        "sns.barplot(data=d, x=\"Threshold\", y=\"Disparate Impact\")"
      ],
      "execution_count": 45,
      "outputs": [
        {
          "output_type": "execute_result",
          "data": {
            "text/plain": [
              "<matplotlib.axes._subplots.AxesSubplot at 0x7fe4c4c0b358>"
            ]
          },
          "metadata": {
            "tags": []
          },
          "execution_count": 45
        },
        {
          "output_type": "display_data",
          "data": {
            "image/png": "[encoded data removed]",
            "text/plain": [
              "<Figure size 432x288 with 1 Axes>"
            ]
          },
          "metadata": {
            "tags": [],
            "needs_background": "light"
          }
        }
      ]
    },
    {
      "cell_type": "code",
      "metadata": {
        "colab": {
          "base_uri": "https://localhost:8080/",
          "height": 300
        },
        "id": "7jVjsJnG1fJk",
        "outputId": "bbbb8755-ab41-42a0-e96d-279ed05638d9"
      },
      "source": [
        "sns.barplot(data=d, x=\"Threshold\", y=\"2-SD Rule\")"
      ],
      "execution_count": 46,
      "outputs": [
        {
          "output_type": "execute_result",
          "data": {
            "text/plain": [
              "<matplotlib.axes._subplots.AxesSubplot at 0x7fe4c4aef2b0>"
            ]
          },
          "metadata": {
            "tags": []
          },
          "execution_count": 46
        },
        {
          "output_type": "display_data",
          "data": {
            "image/png": "[encoded data removed]",
            "text/plain": [
              "<Figure size 432x288 with 1 Axes>"
            ]
          },
          "metadata": {
            "tags": [],
            "needs_background": "light"
          }
        }
      ]
    }
  ]
}